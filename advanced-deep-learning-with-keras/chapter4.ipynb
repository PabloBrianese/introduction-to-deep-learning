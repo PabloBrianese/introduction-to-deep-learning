{
 "cells": [
  {
   "cell_type": "code",
   "execution_count": 1,
   "id": "91a15da9-4fb2-4314-aded-d449fb32af9b",
   "metadata": {},
   "outputs": [],
   "source": [
    "import pandas as pd"
   ]
  },
  {
   "cell_type": "code",
   "execution_count": 2,
   "id": "597c03b1-d132-417f-813f-eb96edc67f32",
   "metadata": {},
   "outputs": [],
   "source": [
    "# Data\n",
    "games_tourney = pd.read_csv('games_tourney_extended.csv')  # games_tourney.csv + games_season.csv three-input model prediction\n",
    "\n",
    "from sklearn.model_selection import train_test_split\n",
    "\n",
    "games_tourney_train, games_tourney_test = train_test_split(games_tourney, test_size=804)"
   ]
  },
  {
   "cell_type": "code",
   "execution_count": 3,
   "id": "03e117a8-be3f-4683-884d-327c89c29245",
   "metadata": {},
   "outputs": [
    {
     "data": {
      "text/html": [
       "<div>\n",
       "<style scoped>\n",
       "    .dataframe tbody tr th:only-of-type {\n",
       "        vertical-align: middle;\n",
       "    }\n",
       "\n",
       "    .dataframe tbody tr th {\n",
       "        vertical-align: top;\n",
       "    }\n",
       "\n",
       "    .dataframe thead th {\n",
       "        text-align: right;\n",
       "    }\n",
       "</style>\n",
       "<table border=\"1\" class=\"dataframe\">\n",
       "  <thead>\n",
       "    <tr style=\"text-align: right;\">\n",
       "      <th></th>\n",
       "      <th>Unnamed: 0</th>\n",
       "      <th>season</th>\n",
       "      <th>team_1</th>\n",
       "      <th>team_2</th>\n",
       "      <th>home</th>\n",
       "      <th>seed_diff</th>\n",
       "      <th>score_diff</th>\n",
       "      <th>score_1</th>\n",
       "      <th>score_2</th>\n",
       "      <th>won</th>\n",
       "      <th>pred</th>\n",
       "    </tr>\n",
       "  </thead>\n",
       "  <tbody>\n",
       "    <tr>\n",
       "      <th>0</th>\n",
       "      <td>0</td>\n",
       "      <td>1985</td>\n",
       "      <td>288</td>\n",
       "      <td>73</td>\n",
       "      <td>0</td>\n",
       "      <td>-3</td>\n",
       "      <td>-9</td>\n",
       "      <td>41</td>\n",
       "      <td>50</td>\n",
       "      <td>0</td>\n",
       "      <td>0.128158</td>\n",
       "    </tr>\n",
       "    <tr>\n",
       "      <th>1</th>\n",
       "      <td>1</td>\n",
       "      <td>1985</td>\n",
       "      <td>5929</td>\n",
       "      <td>73</td>\n",
       "      <td>0</td>\n",
       "      <td>4</td>\n",
       "      <td>6</td>\n",
       "      <td>61</td>\n",
       "      <td>55</td>\n",
       "      <td>1</td>\n",
       "      <td>0.147784</td>\n",
       "    </tr>\n",
       "    <tr>\n",
       "      <th>2</th>\n",
       "      <td>2</td>\n",
       "      <td>1985</td>\n",
       "      <td>9884</td>\n",
       "      <td>73</td>\n",
       "      <td>0</td>\n",
       "      <td>5</td>\n",
       "      <td>-4</td>\n",
       "      <td>59</td>\n",
       "      <td>63</td>\n",
       "      <td>0</td>\n",
       "      <td>0.129091</td>\n",
       "    </tr>\n",
       "    <tr>\n",
       "      <th>3</th>\n",
       "      <td>3</td>\n",
       "      <td>1985</td>\n",
       "      <td>73</td>\n",
       "      <td>288</td>\n",
       "      <td>0</td>\n",
       "      <td>3</td>\n",
       "      <td>9</td>\n",
       "      <td>50</td>\n",
       "      <td>41</td>\n",
       "      <td>1</td>\n",
       "      <td>0.173936</td>\n",
       "    </tr>\n",
       "    <tr>\n",
       "      <th>4</th>\n",
       "      <td>4</td>\n",
       "      <td>1985</td>\n",
       "      <td>3920</td>\n",
       "      <td>410</td>\n",
       "      <td>0</td>\n",
       "      <td>1</td>\n",
       "      <td>-9</td>\n",
       "      <td>54</td>\n",
       "      <td>63</td>\n",
       "      <td>0</td>\n",
       "      <td>0.160824</td>\n",
       "    </tr>\n",
       "  </tbody>\n",
       "</table>\n",
       "</div>"
      ],
      "text/plain": [
       "   Unnamed: 0  season  team_1  team_2  home  seed_diff  score_diff  score_1  \\\n",
       "0           0    1985     288      73     0         -3          -9       41   \n",
       "1           1    1985    5929      73     0          4           6       61   \n",
       "2           2    1985    9884      73     0          5          -4       59   \n",
       "3           3    1985      73     288     0          3           9       50   \n",
       "4           4    1985    3920     410     0          1          -9       54   \n",
       "\n",
       "   score_2  won      pred  \n",
       "0       50    0  0.128158  \n",
       "1       55    1  0.147784  \n",
       "2       63    0  0.129091  \n",
       "3       41    1  0.173936  \n",
       "4       63    0  0.160824  "
      ]
     },
     "execution_count": 3,
     "metadata": {},
     "output_type": "execute_result"
    }
   ],
   "source": [
    "games_tourney.head()"
   ]
  },
  {
   "cell_type": "code",
   "execution_count": 4,
   "id": "15d83745-38be-4fc2-b722-31ef7eeccd27",
   "metadata": {},
   "outputs": [
    {
     "name": "stderr",
     "output_type": "stream",
     "text": [
      "2022-02-23 00:14:01.254162: W tensorflow/stream_executor/platform/default/dso_loader.cc:64] Could not load dynamic library 'libcudart.so.11.0'; dlerror: libcudart.so.11.0: cannot open shared object file: No such file or directory\n",
      "2022-02-23 00:14:01.254268: I tensorflow/stream_executor/cuda/cudart_stub.cc:29] Ignore above cudart dlerror if you do not have a GPU set up on your machine.\n",
      "2022-02-23 00:14:06.644723: W tensorflow/stream_executor/platform/default/dso_loader.cc:64] Could not load dynamic library 'libcuda.so.1'; dlerror: libcuda.so.1: cannot open shared object file: No such file or directory\n",
      "2022-02-23 00:14:06.644816: W tensorflow/stream_executor/cuda/cuda_driver.cc:269] failed call to cuInit: UNKNOWN ERROR (303)\n",
      "2022-02-23 00:14:06.644853: I tensorflow/stream_executor/cuda/cuda_diagnostics.cc:156] kernel driver does not appear to be running on this host (DESKTOP-FC4EGDV): /proc/driver/nvidia/version does not exist\n",
      "2022-02-23 00:14:06.645193: I tensorflow/core/platform/cpu_feature_guard.cc:142] This TensorFlow binary is optimized with oneAPI Deep Neural Network Library (oneDNN) to use the following CPU instructions in performance-critical operations:  AVX2 FMA\n",
      "To enable them in other operations, rebuild TensorFlow with the appropriate compiler flags.\n"
     ]
    }
   ],
   "source": [
    "# Simple two-output model\n",
    "\n",
    "from tensorflow.keras.models import Model\n",
    "from tensorflow.keras.layers import Input, Dense\n",
    "\n",
    "# Define the input\n",
    "input_tensor = Input((2,))\n",
    "\n",
    "# Define the output\n",
    "output_tensor = Dense(2)(input_tensor)\n",
    "\n",
    "# Define the model\n",
    "model = Model(inputs=input_tensor, outputs=output_tensor)\n",
    "\n",
    "# Compile the model\n",
    "model.compile(optimizer='adam', loss='mean_absolute_error')"
   ]
  },
  {
   "cell_type": "code",
   "execution_count": 5,
   "id": "8e1b2523-3d08-44ef-9c3c-9e0aa6ad92c7",
   "metadata": {},
   "outputs": [
    {
     "name": "stderr",
     "output_type": "stream",
     "text": [
      "2022-02-23 00:14:06.942141: I tensorflow/compiler/mlir/mlir_graph_optimization_pass.cc:185] None of the MLIR Optimization Passes are enabled (registered 2)\n"
     ]
    },
    {
     "name": "stdout",
     "output_type": "stream",
     "text": [
      "Epoch 1/100\n",
      "1/1 - 1s - loss: 71.0904\n",
      "Epoch 2/100\n",
      "1/1 - 0s - loss: 71.0893\n",
      "Epoch 3/100\n",
      "1/1 - 0s - loss: 71.0881\n",
      "Epoch 4/100\n",
      "1/1 - 0s - loss: 71.0869\n",
      "Epoch 5/100\n",
      "1/1 - 0s - loss: 71.0857\n",
      "Epoch 6/100\n",
      "1/1 - 0s - loss: 71.0845\n",
      "Epoch 7/100\n",
      "1/1 - 0s - loss: 71.0833\n",
      "Epoch 8/100\n",
      "1/1 - 0s - loss: 71.0822\n",
      "Epoch 9/100\n",
      "1/1 - 0s - loss: 71.0810\n",
      "Epoch 10/100\n",
      "1/1 - 0s - loss: 71.0798\n",
      "Epoch 11/100\n",
      "1/1 - 0s - loss: 71.0786\n",
      "Epoch 12/100\n",
      "1/1 - 0s - loss: 71.0774\n",
      "Epoch 13/100\n",
      "1/1 - 0s - loss: 71.0763\n",
      "Epoch 14/100\n",
      "1/1 - 0s - loss: 71.0751\n",
      "Epoch 15/100\n",
      "1/1 - 0s - loss: 71.0739\n",
      "Epoch 16/100\n",
      "1/1 - 0s - loss: 71.0727\n",
      "Epoch 17/100\n",
      "1/1 - 0s - loss: 71.0715\n",
      "Epoch 18/100\n",
      "1/1 - 0s - loss: 71.0704\n",
      "Epoch 19/100\n",
      "1/1 - 0s - loss: 71.0692\n",
      "Epoch 20/100\n",
      "1/1 - 0s - loss: 71.0680\n",
      "Epoch 21/100\n",
      "1/1 - 0s - loss: 71.0668\n",
      "Epoch 22/100\n",
      "1/1 - 0s - loss: 71.0656\n",
      "Epoch 23/100\n",
      "1/1 - 0s - loss: 71.0644\n",
      "Epoch 24/100\n",
      "1/1 - 0s - loss: 71.0633\n",
      "Epoch 25/100\n",
      "1/1 - 0s - loss: 71.0621\n",
      "Epoch 26/100\n",
      "1/1 - 0s - loss: 71.0609\n",
      "Epoch 27/100\n",
      "1/1 - 0s - loss: 71.0597\n",
      "Epoch 28/100\n",
      "1/1 - 0s - loss: 71.0585\n",
      "Epoch 29/100\n",
      "1/1 - 0s - loss: 71.0574\n",
      "Epoch 30/100\n",
      "1/1 - 0s - loss: 71.0562\n",
      "Epoch 31/100\n",
      "1/1 - 0s - loss: 71.0550\n",
      "Epoch 32/100\n",
      "1/1 - 0s - loss: 71.0538\n",
      "Epoch 33/100\n",
      "1/1 - 0s - loss: 71.0526\n",
      "Epoch 34/100\n",
      "1/1 - 0s - loss: 71.0515\n",
      "Epoch 35/100\n",
      "1/1 - 0s - loss: 71.0503\n",
      "Epoch 36/100\n",
      "1/1 - 0s - loss: 71.0491\n",
      "Epoch 37/100\n",
      "1/1 - 0s - loss: 71.0479\n",
      "Epoch 38/100\n",
      "1/1 - 0s - loss: 71.0467\n",
      "Epoch 39/100\n",
      "1/1 - 0s - loss: 71.0456\n",
      "Epoch 40/100\n",
      "1/1 - 0s - loss: 71.0444\n",
      "Epoch 41/100\n",
      "1/1 - 0s - loss: 71.0432\n",
      "Epoch 42/100\n",
      "1/1 - 0s - loss: 71.0420\n",
      "Epoch 43/100\n",
      "1/1 - 0s - loss: 71.0408\n",
      "Epoch 44/100\n",
      "1/1 - 0s - loss: 71.0396\n",
      "Epoch 45/100\n",
      "1/1 - 0s - loss: 71.0385\n",
      "Epoch 46/100\n",
      "1/1 - 0s - loss: 71.0373\n",
      "Epoch 47/100\n",
      "1/1 - 0s - loss: 71.0361\n",
      "Epoch 48/100\n",
      "1/1 - 0s - loss: 71.0349\n",
      "Epoch 49/100\n",
      "1/1 - 0s - loss: 71.0337\n",
      "Epoch 50/100\n",
      "1/1 - 0s - loss: 71.0326\n",
      "Epoch 51/100\n",
      "1/1 - 0s - loss: 71.0314\n",
      "Epoch 52/100\n",
      "1/1 - 0s - loss: 71.0302\n",
      "Epoch 53/100\n",
      "1/1 - 0s - loss: 71.0290\n",
      "Epoch 54/100\n",
      "1/1 - 0s - loss: 71.0278\n",
      "Epoch 55/100\n",
      "1/1 - 0s - loss: 71.0267\n",
      "Epoch 56/100\n",
      "1/1 - 0s - loss: 71.0255\n",
      "Epoch 57/100\n",
      "1/1 - 0s - loss: 71.0243\n",
      "Epoch 58/100\n",
      "1/1 - 0s - loss: 71.0231\n",
      "Epoch 59/100\n",
      "1/1 - 0s - loss: 71.0219\n",
      "Epoch 60/100\n",
      "1/1 - 0s - loss: 71.0208\n",
      "Epoch 61/100\n",
      "1/1 - 0s - loss: 71.0196\n",
      "Epoch 62/100\n",
      "1/1 - 0s - loss: 71.0184\n",
      "Epoch 63/100\n",
      "1/1 - 0s - loss: 71.0172\n",
      "Epoch 64/100\n",
      "1/1 - 0s - loss: 71.0160\n",
      "Epoch 65/100\n",
      "1/1 - 0s - loss: 71.0148\n",
      "Epoch 66/100\n",
      "1/1 - 0s - loss: 71.0136\n",
      "Epoch 67/100\n",
      "1/1 - 0s - loss: 71.0125\n",
      "Epoch 68/100\n",
      "1/1 - 0s - loss: 71.0113\n",
      "Epoch 69/100\n",
      "1/1 - 0s - loss: 71.0101\n",
      "Epoch 70/100\n",
      "1/1 - 0s - loss: 71.0089\n",
      "Epoch 71/100\n",
      "1/1 - 0s - loss: 71.0078\n",
      "Epoch 72/100\n",
      "1/1 - 0s - loss: 71.0066\n",
      "Epoch 73/100\n",
      "1/1 - 0s - loss: 71.0054\n",
      "Epoch 74/100\n",
      "1/1 - 0s - loss: 71.0042\n",
      "Epoch 75/100\n",
      "1/1 - 0s - loss: 71.0030\n",
      "Epoch 76/100\n",
      "1/1 - 0s - loss: 71.0018\n",
      "Epoch 77/100\n",
      "1/1 - 0s - loss: 71.0007\n",
      "Epoch 78/100\n",
      "1/1 - 0s - loss: 70.9995\n",
      "Epoch 79/100\n",
      "1/1 - 0s - loss: 70.9983\n",
      "Epoch 80/100\n",
      "1/1 - 0s - loss: 70.9971\n",
      "Epoch 81/100\n",
      "1/1 - 0s - loss: 70.9959\n",
      "Epoch 82/100\n",
      "1/1 - 0s - loss: 70.9948\n",
      "Epoch 83/100\n",
      "1/1 - 0s - loss: 70.9936\n",
      "Epoch 84/100\n",
      "1/1 - 0s - loss: 70.9924\n",
      "Epoch 85/100\n",
      "1/1 - 0s - loss: 70.9912\n",
      "Epoch 86/100\n",
      "1/1 - 0s - loss: 70.9900\n",
      "Epoch 87/100\n",
      "1/1 - 0s - loss: 70.9889\n",
      "Epoch 88/100\n",
      "1/1 - 0s - loss: 70.9877\n",
      "Epoch 89/100\n",
      "1/1 - 0s - loss: 70.9865\n",
      "Epoch 90/100\n",
      "1/1 - 0s - loss: 70.9853\n",
      "Epoch 91/100\n",
      "1/1 - 0s - loss: 70.9841\n",
      "Epoch 92/100\n",
      "1/1 - 0s - loss: 70.9829\n",
      "Epoch 93/100\n",
      "1/1 - 0s - loss: 70.9818\n",
      "Epoch 94/100\n",
      "1/1 - 0s - loss: 70.9806\n",
      "Epoch 95/100\n",
      "1/1 - 0s - loss: 70.9794\n",
      "Epoch 96/100\n",
      "1/1 - 0s - loss: 70.9782\n",
      "Epoch 97/100\n",
      "1/1 - 0s - loss: 70.9770\n",
      "Epoch 98/100\n",
      "1/1 - 0s - loss: 70.9759\n",
      "Epoch 99/100\n",
      "1/1 - 0s - loss: 70.9747\n",
      "Epoch 100/100\n",
      "1/1 - 0s - loss: 70.9735\n"
     ]
    },
    {
     "data": {
      "text/plain": [
       "<keras.callbacks.History at 0x7f67cc4cb100>"
      ]
     },
     "execution_count": 5,
     "metadata": {},
     "output_type": "execute_result"
    }
   ],
   "source": [
    "# Fit the model\n",
    "model.fit(\n",
    "    games_tourney_train[['seed_diff', 'pred']],\n",
    "    games_tourney_train[['score_1', 'score_2']],\n",
    "    verbose=2,\n",
    "    epochs=100,\n",
    "    batch_size=2**14\n",
    ")"
   ]
  },
  {
   "cell_type": "code",
   "execution_count": 6,
   "id": "8ec596c9-0e30-492c-bccb-7df422a1224e",
   "metadata": {},
   "outputs": [
    {
     "name": "stdout",
     "output_type": "stream",
     "text": [
      "[array([[-0.02649776, -0.71656966],\n",
      "       [ 0.28371283,  0.5153422 ]], dtype=float32), array([0.09999995, 0.09999995], dtype=float32)]\n",
      "Unnamed: 0    2115.222157\n",
      "season        2001.181050\n",
      "team_1        5566.316910\n",
      "team_2        5614.402332\n",
      "home             0.000000\n",
      "seed_diff        0.032070\n",
      "score_diff       0.156560\n",
      "score_1         71.198251\n",
      "score_2         71.041691\n",
      "won              0.506414\n",
      "pred             0.149096\n",
      "dtype: float64\n"
     ]
    }
   ],
   "source": [
    "# Print the model's weights\n",
    "print(model.get_weights())\n",
    "\n",
    "# Print the column means of the training data\n",
    "print(games_tourney_train.mean())"
   ]
  },
  {
   "cell_type": "code",
   "execution_count": 7,
   "id": "8a5e204a-3908-4773-864f-48941e71137c",
   "metadata": {},
   "outputs": [
    {
     "name": "stdout",
     "output_type": "stream",
     "text": [
      "70.96971130371094\n"
     ]
    }
   ],
   "source": [
    "# Evaluate the model on the tournament test data\n",
    "print(model.evaluate(\n",
    "    games_tourney_test[['seed_diff', 'pred']],\n",
    "    games_tourney_test[['score_1', 'score_2']],\n",
    "    verbose=0\n",
    "))"
   ]
  },
  {
   "cell_type": "markdown",
   "id": "51f17d2d-e5fa-4a24-9dea-38bbc946030c",
   "metadata": {},
   "source": [
    "Simple model for classifivation **and** regression\n",
    "\n",
    "This kind of model is only possible with a neural network."
   ]
  },
  {
   "cell_type": "code",
   "execution_count": 8,
   "id": "c3fdcffe-4145-4682-bc0d-66766151c85d",
   "metadata": {},
   "outputs": [],
   "source": [
    "# Build a simple regressor/classifier model\n",
    "from keras.models import Model\n",
    "from keras.layers import Input, Dense\n",
    "\n",
    "input_tensor = Input(shape=(1,))\n",
    "output_tensor_reg = Dense(1)(input_tensor)\n",
    "output_tensor_class = Dense(1, activation='sigmoid')(output_tensor_reg)\n",
    "\n",
    "model = Model(input_tensor, [output_tensor_reg, output_tensor_class])\n",
    "\n",
    "model.compile(loss=['mean_absolute_error', 'binary_crossentropy'], optimizer='adam')"
   ]
  },
  {
   "cell_type": "code",
   "execution_count": 9,
   "id": "96c07650-859f-452b-96d0-af2be7e6266c",
   "metadata": {},
   "outputs": [
    {
     "name": "stdout",
     "output_type": "stream",
     "text": [
      "Epoch 1/100\n",
      "26/26 - 1s - loss: 18.7772 - dense_1_loss: 18.2157 - dense_2_loss: 0.5614\n",
      "Epoch 2/100\n",
      "26/26 - 0s - loss: 18.6491 - dense_1_loss: 18.0882 - dense_2_loss: 0.5609\n",
      "Epoch 3/100\n",
      "26/26 - 0s - loss: 18.5224 - dense_1_loss: 17.9617 - dense_2_loss: 0.5608\n",
      "Epoch 4/100\n",
      "26/26 - 0s - loss: 18.3953 - dense_1_loss: 17.8348 - dense_2_loss: 0.5606\n",
      "Epoch 5/100\n",
      "26/26 - 0s - loss: 18.2671 - dense_1_loss: 17.7069 - dense_2_loss: 0.5603\n",
      "Epoch 6/100\n",
      "26/26 - 0s - loss: 18.1411 - dense_1_loss: 17.5810 - dense_2_loss: 0.5601\n",
      "Epoch 7/100\n",
      "26/26 - 0s - loss: 18.0129 - dense_1_loss: 17.4527 - dense_2_loss: 0.5602\n",
      "Epoch 8/100\n",
      "26/26 - 0s - loss: 17.8840 - dense_1_loss: 17.3241 - dense_2_loss: 0.5599\n",
      "Epoch 9/100\n",
      "26/26 - 0s - loss: 17.7571 - dense_1_loss: 17.1971 - dense_2_loss: 0.5599\n",
      "Epoch 10/100\n",
      "26/26 - 0s - loss: 17.6281 - dense_1_loss: 17.0684 - dense_2_loss: 0.5598\n",
      "Epoch 11/100\n",
      "26/26 - 0s - loss: 17.5054 - dense_1_loss: 16.9453 - dense_2_loss: 0.5601\n",
      "Epoch 12/100\n",
      "26/26 - 0s - loss: 17.3849 - dense_1_loss: 16.8248 - dense_2_loss: 0.5602\n",
      "Epoch 13/100\n",
      "26/26 - 0s - loss: 17.2646 - dense_1_loss: 16.7045 - dense_2_loss: 0.5601\n",
      "Epoch 14/100\n",
      "26/26 - 0s - loss: 17.1459 - dense_1_loss: 16.5861 - dense_2_loss: 0.5599\n",
      "Epoch 15/100\n",
      "26/26 - 0s - loss: 17.0288 - dense_1_loss: 16.4686 - dense_2_loss: 0.5601\n",
      "Epoch 16/100\n",
      "26/26 - 0s - loss: 16.9063 - dense_1_loss: 16.3465 - dense_2_loss: 0.5598\n",
      "Epoch 17/100\n",
      "26/26 - 0s - loss: 16.7871 - dense_1_loss: 16.2274 - dense_2_loss: 0.5597\n",
      "Epoch 18/100\n",
      "26/26 - 0s - loss: 16.6678 - dense_1_loss: 16.1081 - dense_2_loss: 0.5597\n",
      "Epoch 19/100\n",
      "26/26 - 0s - loss: 16.5470 - dense_1_loss: 15.9874 - dense_2_loss: 0.5597\n",
      "Epoch 20/100\n",
      "26/26 - 0s - loss: 16.4290 - dense_1_loss: 15.8694 - dense_2_loss: 0.5596\n",
      "Epoch 21/100\n",
      "26/26 - 0s - loss: 16.3122 - dense_1_loss: 15.7519 - dense_2_loss: 0.5602\n",
      "Epoch 22/100\n",
      "26/26 - 0s - loss: 16.1951 - dense_1_loss: 15.6351 - dense_2_loss: 0.5600\n",
      "Epoch 23/100\n",
      "26/26 - 0s - loss: 16.0766 - dense_1_loss: 15.5164 - dense_2_loss: 0.5602\n",
      "Epoch 24/100\n",
      "26/26 - 0s - loss: 15.9593 - dense_1_loss: 15.3993 - dense_2_loss: 0.5601\n",
      "Epoch 25/100\n",
      "26/26 - 0s - loss: 15.8401 - dense_1_loss: 15.2801 - dense_2_loss: 0.5600\n",
      "Epoch 26/100\n",
      "26/26 - 0s - loss: 15.7237 - dense_1_loss: 15.1636 - dense_2_loss: 0.5600\n",
      "Epoch 27/100\n",
      "26/26 - 0s - loss: 15.6060 - dense_1_loss: 15.0456 - dense_2_loss: 0.5604\n",
      "Epoch 28/100\n",
      "26/26 - 0s - loss: 15.4910 - dense_1_loss: 14.9307 - dense_2_loss: 0.5604\n",
      "Epoch 29/100\n",
      "26/26 - 0s - loss: 15.3735 - dense_1_loss: 14.8128 - dense_2_loss: 0.5608\n",
      "Epoch 30/100\n",
      "26/26 - 0s - loss: 15.2606 - dense_1_loss: 14.6997 - dense_2_loss: 0.5609\n",
      "Epoch 31/100\n",
      "26/26 - 0s - loss: 15.1468 - dense_1_loss: 14.5860 - dense_2_loss: 0.5607\n",
      "Epoch 32/100\n",
      "26/26 - 0s - loss: 15.0352 - dense_1_loss: 14.4744 - dense_2_loss: 0.5609\n",
      "Epoch 33/100\n",
      "26/26 - 0s - loss: 14.9244 - dense_1_loss: 14.3632 - dense_2_loss: 0.5612\n",
      "Epoch 34/100\n",
      "26/26 - 0s - loss: 14.8152 - dense_1_loss: 14.2535 - dense_2_loss: 0.5616\n",
      "Epoch 35/100\n",
      "26/26 - 0s - loss: 14.7076 - dense_1_loss: 14.1457 - dense_2_loss: 0.5619\n",
      "Epoch 36/100\n",
      "26/26 - 0s - loss: 14.6040 - dense_1_loss: 14.0420 - dense_2_loss: 0.5620\n",
      "Epoch 37/100\n",
      "26/26 - 0s - loss: 14.4994 - dense_1_loss: 13.9372 - dense_2_loss: 0.5621\n",
      "Epoch 38/100\n",
      "26/26 - 0s - loss: 14.3976 - dense_1_loss: 13.8350 - dense_2_loss: 0.5625\n",
      "Epoch 39/100\n",
      "26/26 - 0s - loss: 14.2985 - dense_1_loss: 13.7358 - dense_2_loss: 0.5627\n",
      "Epoch 40/100\n",
      "26/26 - 0s - loss: 14.1991 - dense_1_loss: 13.6357 - dense_2_loss: 0.5633\n",
      "Epoch 41/100\n",
      "26/26 - 0s - loss: 14.1003 - dense_1_loss: 13.5366 - dense_2_loss: 0.5637\n",
      "Epoch 42/100\n",
      "26/26 - 0s - loss: 13.9990 - dense_1_loss: 13.4342 - dense_2_loss: 0.5648\n",
      "Epoch 43/100\n",
      "26/26 - 0s - loss: 13.9047 - dense_1_loss: 13.3394 - dense_2_loss: 0.5654\n",
      "Epoch 44/100\n",
      "26/26 - 0s - loss: 13.8113 - dense_1_loss: 13.2448 - dense_2_loss: 0.5665\n",
      "Epoch 45/100\n",
      "26/26 - 0s - loss: 13.7184 - dense_1_loss: 13.1507 - dense_2_loss: 0.5676\n",
      "Epoch 46/100\n",
      "26/26 - 0s - loss: 13.6270 - dense_1_loss: 13.0581 - dense_2_loss: 0.5689\n",
      "Epoch 47/100\n",
      "26/26 - 0s - loss: 13.5374 - dense_1_loss: 12.9666 - dense_2_loss: 0.5708\n",
      "Epoch 48/100\n",
      "26/26 - 0s - loss: 13.4495 - dense_1_loss: 12.8767 - dense_2_loss: 0.5729\n",
      "Epoch 49/100\n",
      "26/26 - 0s - loss: 13.3628 - dense_1_loss: 12.7877 - dense_2_loss: 0.5751\n",
      "Epoch 50/100\n",
      "26/26 - 0s - loss: 13.2787 - dense_1_loss: 12.7013 - dense_2_loss: 0.5774\n",
      "Epoch 51/100\n",
      "26/26 - 0s - loss: 13.1961 - dense_1_loss: 12.6159 - dense_2_loss: 0.5802\n",
      "Epoch 52/100\n",
      "26/26 - 0s - loss: 13.1188 - dense_1_loss: 12.5352 - dense_2_loss: 0.5836\n",
      "Epoch 53/100\n",
      "26/26 - 0s - loss: 13.0440 - dense_1_loss: 12.4566 - dense_2_loss: 0.5874\n",
      "Epoch 54/100\n",
      "26/26 - 0s - loss: 12.9683 - dense_1_loss: 12.3767 - dense_2_loss: 0.5916\n",
      "Epoch 55/100\n",
      "26/26 - 0s - loss: 12.8936 - dense_1_loss: 12.2967 - dense_2_loss: 0.5969\n",
      "Epoch 56/100\n",
      "26/26 - 0s - loss: 12.8211 - dense_1_loss: 12.2182 - dense_2_loss: 0.6029\n",
      "Epoch 57/100\n",
      "26/26 - 0s - loss: 12.7553 - dense_1_loss: 12.1459 - dense_2_loss: 0.6094\n",
      "Epoch 58/100\n",
      "26/26 - 0s - loss: 12.6881 - dense_1_loss: 12.0708 - dense_2_loss: 0.6173\n",
      "Epoch 59/100\n",
      "26/26 - 0s - loss: 12.6271 - dense_1_loss: 12.0014 - dense_2_loss: 0.6257\n",
      "Epoch 60/100\n",
      "26/26 - 0s - loss: 12.5718 - dense_1_loss: 11.9368 - dense_2_loss: 0.6350\n",
      "Epoch 61/100\n",
      "26/26 - 0s - loss: 12.5189 - dense_1_loss: 11.8738 - dense_2_loss: 0.6451\n",
      "Epoch 62/100\n",
      "26/26 - 0s - loss: 12.4667 - dense_1_loss: 11.8100 - dense_2_loss: 0.6567\n",
      "Epoch 63/100\n",
      "26/26 - 0s - loss: 12.4174 - dense_1_loss: 11.7482 - dense_2_loss: 0.6692\n",
      "Epoch 64/100\n",
      "26/26 - 0s - loss: 12.3714 - dense_1_loss: 11.6894 - dense_2_loss: 0.6821\n",
      "Epoch 65/100\n",
      "26/26 - 0s - loss: 12.3246 - dense_1_loss: 11.6281 - dense_2_loss: 0.6965\n",
      "Epoch 66/100\n",
      "26/26 - 0s - loss: 12.2804 - dense_1_loss: 11.5692 - dense_2_loss: 0.7112\n",
      "Epoch 67/100\n",
      "26/26 - 0s - loss: 12.2371 - dense_1_loss: 11.5109 - dense_2_loss: 0.7263\n",
      "Epoch 68/100\n",
      "26/26 - 0s - loss: 12.1942 - dense_1_loss: 11.4527 - dense_2_loss: 0.7415\n",
      "Epoch 69/100\n",
      "26/26 - 0s - loss: 12.1507 - dense_1_loss: 11.3942 - dense_2_loss: 0.7565\n",
      "Epoch 70/100\n",
      "26/26 - 0s - loss: 12.1075 - dense_1_loss: 11.3373 - dense_2_loss: 0.7703\n",
      "Epoch 71/100\n",
      "26/26 - 0s - loss: 12.0627 - dense_1_loss: 11.2801 - dense_2_loss: 0.7826\n",
      "Epoch 72/100\n",
      "26/26 - 0s - loss: 12.0146 - dense_1_loss: 11.2216 - dense_2_loss: 0.7930\n",
      "Epoch 73/100\n",
      "26/26 - 0s - loss: 11.9644 - dense_1_loss: 11.1635 - dense_2_loss: 0.8009\n",
      "Epoch 74/100\n",
      "26/26 - 0s - loss: 11.9139 - dense_1_loss: 11.1086 - dense_2_loss: 0.8053\n",
      "Epoch 75/100\n",
      "26/26 - 0s - loss: 11.8571 - dense_1_loss: 11.0509 - dense_2_loss: 0.8062\n",
      "Epoch 76/100\n",
      "26/26 - 0s - loss: 11.7925 - dense_1_loss: 10.9891 - dense_2_loss: 0.8034\n",
      "Epoch 77/100\n",
      "26/26 - 0s - loss: 11.7274 - dense_1_loss: 10.9305 - dense_2_loss: 0.7968\n",
      "Epoch 78/100\n",
      "26/26 - 0s - loss: 11.6543 - dense_1_loss: 10.8683 - dense_2_loss: 0.7860\n",
      "Epoch 79/100\n",
      "26/26 - 0s - loss: 11.5800 - dense_1_loss: 10.8081 - dense_2_loss: 0.7719\n",
      "Epoch 80/100\n",
      "26/26 - 0s - loss: 11.4977 - dense_1_loss: 10.7435 - dense_2_loss: 0.7542\n",
      "Epoch 81/100\n",
      "26/26 - 0s - loss: 11.4148 - dense_1_loss: 10.6804 - dense_2_loss: 0.7344\n",
      "Epoch 82/100\n",
      "26/26 - 0s - loss: 11.3250 - dense_1_loss: 10.6128 - dense_2_loss: 0.7123\n",
      "Epoch 83/100\n",
      "26/26 - 0s - loss: 11.2360 - dense_1_loss: 10.5463 - dense_2_loss: 0.6897\n",
      "Epoch 84/100\n",
      "26/26 - 0s - loss: 11.1454 - dense_1_loss: 10.4789 - dense_2_loss: 0.6666\n",
      "Epoch 85/100\n",
      "26/26 - 0s - loss: 11.0605 - dense_1_loss: 10.4151 - dense_2_loss: 0.6454\n",
      "Epoch 86/100\n",
      "26/26 - 0s - loss: 10.9801 - dense_1_loss: 10.3532 - dense_2_loss: 0.6269\n",
      "Epoch 87/100\n",
      "26/26 - 0s - loss: 10.9040 - dense_1_loss: 10.2931 - dense_2_loss: 0.6109\n",
      "Epoch 88/100\n",
      "26/26 - 0s - loss: 10.8344 - dense_1_loss: 10.2368 - dense_2_loss: 0.5976\n",
      "Epoch 89/100\n",
      "26/26 - 0s - loss: 10.7681 - dense_1_loss: 10.1809 - dense_2_loss: 0.5871\n",
      "Epoch 90/100\n",
      "26/26 - 0s - loss: 10.7033 - dense_1_loss: 10.1252 - dense_2_loss: 0.5782\n",
      "Epoch 91/100\n",
      "26/26 - 0s - loss: 10.6389 - dense_1_loss: 10.0676 - dense_2_loss: 0.5713\n",
      "Epoch 92/100\n",
      "26/26 - 0s - loss: 10.5872 - dense_1_loss: 10.0196 - dense_2_loss: 0.5676\n",
      "Epoch 93/100\n",
      "26/26 - 0s - loss: 10.5378 - dense_1_loss: 9.9736 - dense_2_loss: 0.5642\n",
      "Epoch 94/100\n",
      "26/26 - 0s - loss: 10.4915 - dense_1_loss: 9.9291 - dense_2_loss: 0.5624\n",
      "Epoch 95/100\n",
      "26/26 - 0s - loss: 10.4480 - dense_1_loss: 9.8866 - dense_2_loss: 0.5613\n",
      "Epoch 96/100\n",
      "26/26 - 0s - loss: 10.4079 - dense_1_loss: 9.8471 - dense_2_loss: 0.5607\n",
      "Epoch 97/100\n",
      "26/26 - 0s - loss: 10.3717 - dense_1_loss: 9.8114 - dense_2_loss: 0.5603\n",
      "Epoch 98/100\n",
      "26/26 - 0s - loss: 10.3357 - dense_1_loss: 9.7755 - dense_2_loss: 0.5602\n",
      "Epoch 99/100\n",
      "26/26 - 0s - loss: 10.2995 - dense_1_loss: 9.7395 - dense_2_loss: 0.5599\n",
      "Epoch 100/100\n",
      "26/26 - 0s - loss: 10.2677 - dense_1_loss: 9.7076 - dense_2_loss: 0.5602\n"
     ]
    },
    {
     "data": {
      "text/plain": [
       "<keras.callbacks.History at 0x7f67cc028970>"
      ]
     },
     "execution_count": 9,
     "metadata": {},
     "output_type": "execute_result"
    }
   ],
   "source": [
    "# Fit the combination classifier/regressor\n",
    "X = games_tourney_test[['seed_diff']]\n",
    "y_reg = games_tourney_test[['score_diff']]  # Regression target\n",
    "y_class = games_tourney_test[['won']]  # Classification target\n",
    "model.fit(X, [y_reg, y_class], epochs=100, verbose=2)"
   ]
  },
  {
   "cell_type": "code",
   "execution_count": 10,
   "id": "97412779-8b60-4b8c-9056-52eb8cec66de",
   "metadata": {},
   "outputs": [
    {
     "data": {
      "text/plain": [
       "[array([[0.6587068]], dtype=float32),\n",
       " array([-0.46156925], dtype=float32),\n",
       " array([[0.27043036]], dtype=float32),\n",
       " array([-0.07496227], dtype=float32)]"
      ]
     },
     "execution_count": 10,
     "metadata": {},
     "output_type": "execute_result"
    }
   ],
   "source": [
    "model.get_weights()"
   ]
  },
  {
   "cell_type": "code",
   "execution_count": 11,
   "id": "805c014d-99af-44e4-9158-1543b54583a4",
   "metadata": {},
   "outputs": [
    {
     "data": {
      "text/plain": [
       "0.5487120212840203"
      ]
     },
     "execution_count": 11,
     "metadata": {},
     "output_type": "execute_result"
    }
   ],
   "source": [
    "# Explore that part of the model that handles classification\n",
    "from scipy.special import expit as sigmoid\n",
    "score_diff = 1\n",
    "weight = model.get_weights()[2][0, 0]\n",
    "bias = model.get_weights()[3][0]\n",
    "\n",
    "win_probability = sigmoid(score_diff * weight + bias)\n",
    "\n",
    "win_probability"
   ]
  },
  {
   "cell_type": "code",
   "execution_count": 12,
   "id": "8abccde1-126a-49d0-b693-01da18a5d87e",
   "metadata": {},
   "outputs": [
    {
     "name": "stdout",
     "output_type": "stream",
     "text": [
      "26/26 [==============================] - 0s 7ms/step - loss: 10.2521 - dense_1_loss: 9.6920 - dense_2_loss: 0.5601\n"
     ]
    },
    {
     "data": {
      "text/plain": [
       "[10.252132415771484, 9.692021369934082, 0.5601134300231934]"
      ]
     },
     "execution_count": 12,
     "metadata": {},
     "output_type": "execute_result"
    }
   ],
   "source": [
    "# Evaluate the model on new data\n",
    "X = games_tourney_test[['seed_diff']]\n",
    "y_reg = games_tourney_test[['score_diff']]\n",
    "y_class = games_tourney_test[['won']]\n",
    "\n",
    "model.evaluate(X, [y_reg, y_class])"
   ]
  },
  {
   "cell_type": "code",
   "execution_count": 13,
   "id": "519b7c30-aa58-4db1-8738-461442cb304c",
   "metadata": {},
   "outputs": [],
   "source": [
    "from tensorflow.keras.models import Model\n",
    "from tensorflow.keras.layers import Input, Dense\n",
    "\n",
    "# Create an input layer with 2 columns\n",
    "input_tensor = Input(shape=(2,))\n",
    "\n",
    "# Create the first output\n",
    "output_tensor_1 = Dense(1, activation='linear')(input_tensor)\n",
    "\n",
    "# Create the second output (use the first output as input here)\n",
    "output_tensor_2 = Dense(1, activation='sigmoid')(output_tensor_1)\n",
    "\n",
    "# Create a model with two outputs\n",
    "model = Model(input_tensor, [output_tensor_1, output_tensor_2])"
   ]
  },
  {
   "cell_type": "code",
   "execution_count": 14,
   "id": "786aa50e-a6f5-4db7-b6d2-ba3726db74cb",
   "metadata": {},
   "outputs": [
    {
     "name": "stdout",
     "output_type": "stream",
     "text": [
      "Epoch 1/10\n",
      "1/1 [==============================] - 1s 1s/step - loss: 11.4015 - dense_3_loss: 10.8273 - dense_4_loss: 0.5741\n",
      "Epoch 2/10\n",
      "1/1 [==============================] - 0s 5ms/step - loss: 11.3711 - dense_3_loss: 10.7931 - dense_4_loss: 0.5780\n",
      "Epoch 3/10\n",
      "1/1 [==============================] - 0s 6ms/step - loss: 11.3414 - dense_3_loss: 10.7592 - dense_4_loss: 0.5822\n",
      "Epoch 4/10\n",
      "1/1 [==============================] - 0s 7ms/step - loss: 11.3124 - dense_3_loss: 10.7259 - dense_4_loss: 0.5865\n",
      "Epoch 5/10\n",
      "1/1 [==============================] - 0s 6ms/step - loss: 11.2840 - dense_3_loss: 10.6931 - dense_4_loss: 0.5909\n",
      "Epoch 6/10\n",
      "1/1 [==============================] - 0s 7ms/step - loss: 11.2562 - dense_3_loss: 10.6607 - dense_4_loss: 0.5955\n",
      "Epoch 7/10\n",
      "1/1 [==============================] - 0s 7ms/step - loss: 11.2289 - dense_3_loss: 10.6288 - dense_4_loss: 0.6001\n",
      "Epoch 8/10\n",
      "1/1 [==============================] - 0s 8ms/step - loss: 11.2017 - dense_3_loss: 10.5971 - dense_4_loss: 0.6047\n",
      "Epoch 9/10\n",
      "1/1 [==============================] - 0s 7ms/step - loss: 11.1748 - dense_3_loss: 10.5655 - dense_4_loss: 0.6092\n",
      "Epoch 10/10\n",
      "1/1 [==============================] - 0s 6ms/step - loss: 11.1479 - dense_3_loss: 10.5341 - dense_4_loss: 0.6138\n"
     ]
    },
    {
     "data": {
      "text/plain": [
       "<keras.callbacks.History at 0x7f67c438e400>"
      ]
     },
     "execution_count": 14,
     "metadata": {},
     "output_type": "execute_result"
    }
   ],
   "source": [
    "# Compile and fit the model\n",
    "\n",
    "# Import the Adam optimizer\n",
    "from tensorflow.keras.optimizers import Adam\n",
    "\n",
    "# Compile the model with 2 losses and the Adam optimizer with a higher learning rate\n",
    "model.compile(loss=['mean_absolute_error', 'binary_crossentropy'], optimizer=Adam(learning_rate=.01))\n",
    "\n",
    "# Fit the model to the tournament training data, with 2 inputs and 2 outputs\n",
    "model.fit(\n",
    "  games_tourney_train[['seed_diff', 'pred']],\n",
    "  [\n",
    "    games_tourney_train[['score_diff']],\n",
    "    games_tourney_train[['won']]\n",
    "  ],\n",
    "  epochs=10,\n",
    "  batch_size=16384\n",
    ")"
   ]
  },
  {
   "cell_type": "markdown",
   "id": "5d26aa39-26b2-4a57-abe9-d611696fde99",
   "metadata": {},
   "source": [
    "Inspect the model"
   ]
  },
  {
   "cell_type": "code",
   "execution_count": 15,
   "id": "ea06b819-5065-41a5-9ca0-bcad7e0a9ab5",
   "metadata": {},
   "outputs": [
    {
     "data": {
      "text/plain": [
       "[array([[ 0.33478847],\n",
       "        [-0.16776909]], dtype=float32),\n",
       " array([0.09144106], dtype=float32),\n",
       " array([[0.9834116]], dtype=float32),\n",
       " array([0.04443261], dtype=float32)]"
      ]
     },
     "execution_count": 15,
     "metadata": {},
     "output_type": "execute_result"
    }
   ],
   "source": [
    "# Print the model weights\n",
    "model.get_weights()\n",
    "\n",
    "# The last weight converts the predicted score difference\n",
    "# to a predicted win probability"
   ]
  },
  {
   "cell_type": "code",
   "execution_count": 18,
   "id": "958b6775-d9f9-499f-b168-d2c03dbd6216",
   "metadata": {},
   "outputs": [
    {
     "data": {
      "text/plain": [
       "Unnamed: 0    2115.222157\n",
       "season        2001.181050\n",
       "team_1        5566.316910\n",
       "team_2        5614.402332\n",
       "home             0.000000\n",
       "seed_diff        0.032070\n",
       "score_diff       0.156560\n",
       "score_1         71.198251\n",
       "score_2         71.041691\n",
       "won              0.506414\n",
       "pred             0.149096\n",
       "dtype: float64"
      ]
     },
     "execution_count": 18,
     "metadata": {},
     "output_type": "execute_result"
    }
   ],
   "source": [
    "# Print the training data means\n",
    "games_tourney_train.mean()"
   ]
  },
  {
   "cell_type": "code",
   "execution_count": 19,
   "id": "29e4fde8-1fd8-48d6-85c3-c38f193633c3",
   "metadata": {},
   "outputs": [
    {
     "name": "stdout",
     "output_type": "stream",
     "text": [
      "0.7277846296171921\n",
      "0.9999464111584471\n"
     ]
    }
   ],
   "source": [
    "# Import the sigmoid function from scipy\n",
    "from scipy.special import expit as sigmoid\n",
    "\n",
    "# Weight from the model\n",
    "weight = model.get_weights()[2][0, 0]\n",
    "\n",
    "# Print the approximate win probability predicted close game\n",
    "print(sigmoid(1 * weight))\n",
    "\n",
    "# Print the approximate win probability predicted blowout game\n",
    "print(sigmoid(10 * weight))"
   ]
  },
  {
   "cell_type": "markdown",
   "id": "9d9c4674-83c1-424b-98a0-9ddeef42e18f",
   "metadata": {},
   "source": [
    "Evaluate on new data with two metrics"
   ]
  },
  {
   "cell_type": "code",
   "execution_count": 20,
   "id": "7b0a46e9-9aa5-43bb-86d8-6701b0044b71",
   "metadata": {},
   "outputs": [
    {
     "data": {
      "text/plain": [
       "[11.178581237792969, 10.551734924316406, 0.6268458962440491]"
      ]
     },
     "execution_count": 20,
     "metadata": {},
     "output_type": "execute_result"
    }
   ],
   "source": [
    "# Evaluate the model on new data\n",
    "model.evaluate(\n",
    "  games_tourney_test[['seed_diff', 'pred']],\n",
    "  [\n",
    "    games_tourney_test[['score_diff']],\n",
    "    games_tourney_test[['won']]\n",
    "  ],\n",
    "  verbose=0\n",
    ")"
   ]
  }
 ],
 "metadata": {
  "kernelspec": {
   "display_name": "Python 3 (ipykernel)",
   "language": "python",
   "name": "python3"
  },
  "language_info": {
   "codemirror_mode": {
    "name": "ipython",
    "version": 3
   },
   "file_extension": ".py",
   "mimetype": "text/x-python",
   "name": "python",
   "nbconvert_exporter": "python",
   "pygments_lexer": "ipython3",
   "version": "3.8.10"
  }
 },
 "nbformat": 4,
 "nbformat_minor": 5
}

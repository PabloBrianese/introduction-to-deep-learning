{
 "cells": [
  {
   "cell_type": "code",
   "execution_count": 1,
   "id": "91a15da9-4fb2-4314-aded-d449fb32af9b",
   "metadata": {},
   "outputs": [],
   "source": [
    "import pandas as pd"
   ]
  },
  {
   "cell_type": "code",
   "execution_count": 2,
   "id": "597c03b1-d132-417f-813f-eb96edc67f32",
   "metadata": {},
   "outputs": [],
   "source": [
    "# Data\n",
    "games_tourney = pd.read_csv('games_tourney_extended.csv')  # games_tourney.csv + games_season.csv three-input model prediction\n",
    "\n",
    "from sklearn.model_selection import train_test_split\n",
    "\n",
    "games_tourney_train, games_tourney_test = train_test_split(games_tourney, test_size=804)"
   ]
  },
  {
   "cell_type": "code",
   "execution_count": null,
   "id": "15d83745-38be-4fc2-b722-31ef7eeccd27",
   "metadata": {},
   "outputs": [],
   "source": [
    "# Simple two-output model\n",
    "\n",
    "from tensorflow.keras.models import Model\n",
    "from tensorflow.keras.layers import Input, Dense\n",
    "\n",
    "# Define the input\n",
    "input_tensor = Input((2,))\n",
    "\n",
    "# Define the output\n",
    "output_tensor = Dense(2)(input_tensor)\n",
    "\n",
    "# Compile the model\n",
    "model.compile(optimizer='adam', loss='mean_absolute_error')"
   ]
  },
  {
   "cell_type": "code",
   "execution_count": null,
   "id": "8e1b2523-3d08-44ef-9c3c-9e0aa6ad92c7",
   "metadata": {},
   "outputs": [],
   "source": [
    "# Fit the model\n",
    "model.fit(\n",
    "    games_tourney_train[['seed_diff', 'pred']],\n",
    "    games_tourney_train[['score_1', 'score_2']],\n",
    "    verbose=1,\n",
    "    epochs=100,\n",
    "    batch_size=2**14\n",
    ")"
   ]
  },
  {
   "cell_type": "code",
   "execution_count": null,
   "id": "8ec596c9-0e30-492c-bccb-7df422a1224e",
   "metadata": {},
   "outputs": [],
   "source": [
    "# Print the model's weights\n",
    "print(model.get_weights())\n",
    "\n",
    "# Print the column means of the training data\n",
    "print(games_tourney_train.mean())"
   ]
  },
  {
   "cell_type": "code",
   "execution_count": null,
   "id": "8a5e204a-3908-4773-864f-48941e71137c",
   "metadata": {},
   "outputs": [],
   "source": [
    "# Evaluate the model on the tournament test data\n",
    "print(model.evaluate(\n",
    "    games_tourney_test[['seed_diff', 'pred']],\n",
    "    games_tourney_test[['score_1', 'score_2']],\n",
    "    verbose=0\n",
    "))"
   ]
  }
 ],
 "metadata": {
  "kernelspec": {
   "display_name": "Python 3 (ipykernel)",
   "language": "python",
   "name": "python3"
  },
  "language_info": {
   "codemirror_mode": {
    "name": "ipython",
    "version": 3
   },
   "file_extension": ".py",
   "mimetype": "text/x-python",
   "name": "python",
   "nbconvert_exporter": "python",
   "pygments_lexer": "ipython3",
   "version": "3.8.10"
  }
 },
 "nbformat": 4,
 "nbformat_minor": 5
}

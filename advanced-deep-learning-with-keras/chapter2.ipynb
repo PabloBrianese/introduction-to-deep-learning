{
 "cells": [
  {
   "cell_type": "code",
   "execution_count": 1,
   "id": "db8a0a04-8fd4-478b-86ef-d81089842561",
   "metadata": {},
   "outputs": [],
   "source": [
    "import numpy as np\n",
    "import pandas as pd"
   ]
  },
  {
   "cell_type": "code",
   "execution_count": 2,
   "id": "614ed965-0711-4dfd-8ec3-f6d58a1418b5",
   "metadata": {},
   "outputs": [
    {
     "name": "stdout",
     "output_type": "stream",
     "text": [
      "   season  team_1  team_2  home  score_diff  score_1  score_2  won\n",
      "0    1985    3745    6664     0          17       81       64    1\n",
      "1    1985     126    7493     1           7       77       70    1\n",
      "2    1985     288    3593     1           7       63       56    1\n",
      "3    1985    1846    9881     1          16       70       54    1\n",
      "4    1985    2675   10298     1          12       86       74    1\n"
     ]
    }
   ],
   "source": [
    "# Data\n",
    "games_season = pd.read_csv('games_season.csv')\n",
    "print(games_season.head())\n",
    "\n",
    "# Count the number of unique teams\n",
    "n_teams = np.unique(games_season['team_1']).shape[0]"
   ]
  },
  {
   "cell_type": "code",
   "execution_count": 3,
   "id": "3dbf881e-8fb0-471a-a46a-5daa1340ee5d",
   "metadata": {},
   "outputs": [
    {
     "name": "stderr",
     "output_type": "stream",
     "text": [
      "2021-11-25 14:27:46.005900: W tensorflow/stream_executor/platform/default/dso_loader.cc:64] Could not load dynamic library 'libcudart.so.11.0'; dlerror: libcudart.so.11.0: cannot open shared object file: No such file or directory\n",
      "2021-11-25 14:27:46.005915: I tensorflow/stream_executor/cuda/cudart_stub.cc:29] Ignore above cudart dlerror if you do not have a GPU set up on your machine.\n"
     ]
    }
   ],
   "source": [
    "# Embedding layer\n",
    "from tensorflow.keras.layers import Embedding\n",
    "\n",
    "# Create an embedding layer\n",
    "team_lookup = Embedding(input_dim=n_teams, output_dim=1, input_length=1, name='Team-Strength')"
   ]
  },
  {
   "cell_type": "code",
   "execution_count": 4,
   "id": "dae7e735-666e-4f5a-9da6-685278e71c59",
   "metadata": {},
   "outputs": [
    {
     "name": "stderr",
     "output_type": "stream",
     "text": [
      "2021-11-25 14:27:46.824651: W tensorflow/stream_executor/platform/default/dso_loader.cc:64] Could not load dynamic library 'libcuda.so.1'; dlerror: libcuda.so.1: cannot open shared object file: No such file or directory\n",
      "2021-11-25 14:27:46.824666: W tensorflow/stream_executor/cuda/cuda_driver.cc:269] failed call to cuInit: UNKNOWN ERROR (303)\n",
      "2021-11-25 14:27:46.824677: I tensorflow/stream_executor/cuda/cuda_diagnostics.cc:156] kernel driver does not appear to be running on this host (AR2RCD0J3): /proc/driver/nvidia/version does not exist\n",
      "2021-11-25 14:27:46.824790: I tensorflow/core/platform/cpu_feature_guard.cc:151] This TensorFlow binary is optimized with oneAPI Deep Neural Network Library (oneDNN) to use the following CPU instructions in performance-critical operations:  AVX2 AVX512F FMA\n",
      "To enable them in other operations, rebuild TensorFlow with the appropriate compiler flags.\n"
     ]
    }
   ],
   "source": [
    "# Model\n",
    "from tensorflow.keras.layers import Input, Embedding, Flatten\n",
    "from tensorflow.keras.models import Model\n",
    "\n",
    "# Create an input layer for the team ID\n",
    "teamid_in = Input(shape=(1,))\n",
    "\n",
    "# Lookup the input in the team strength embedding layer\n",
    "strength_lookup = team_lookup(teamid_in)\n",
    "\n",
    "# Flatten the output\n",
    "strength_lookup_flat = Flatten()(strength_lookup)\n",
    "\n",
    "# Combine the operations into a single, re-usable model\n",
    "team_strength_model = Model(teamid_in, strength_lookup_flat, name='Team-Strength-Model')"
   ]
  },
  {
   "cell_type": "code",
   "execution_count": 6,
   "id": "e68df13b-a4bd-4b5c-920a-67aad9ad59f8",
   "metadata": {},
   "outputs": [],
   "source": [
    "# Shared layers\n",
    "\n",
    "# Defining two inputs\n",
    "from tensorflow.keras.layers import Input\n",
    "\n",
    "# Input layer for team 1\n",
    "team_in_1 = Input(shape=(1,), name='Team-1-In')\n",
    "\n",
    "# Input layer for team 2\n",
    "team_in_2 = Input(shape=(1,), name='Team-2-In')\n",
    "\n",
    "# Lookup team 1 in the team strength model\n",
    "team_1_strength = team_strength_model(team_in_1)\n",
    "\n",
    "# Lookup team 2 in the team strength model\n",
    "team_2_strength = team_strength_model(team_in_2)"
   ]
  }
 ],
 "metadata": {
  "kernelspec": {
   "display_name": "Python 3 (ipykernel)",
   "language": "python",
   "name": "python3"
  },
  "language_info": {
   "codemirror_mode": {
    "name": "ipython",
    "version": 3
   },
   "file_extension": ".py",
   "mimetype": "text/x-python",
   "name": "python",
   "nbconvert_exporter": "python",
   "pygments_lexer": "ipython3",
   "version": "3.8.10"
  }
 },
 "nbformat": 4,
 "nbformat_minor": 5
}

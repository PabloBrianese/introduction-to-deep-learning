{
 "cells": [
  {
   "cell_type": "code",
   "execution_count": 9,
   "id": "b1977417-1899-4569-82f8-9eca67007207",
   "metadata": {},
   "outputs": [],
   "source": [
    "import pandas as pd"
   ]
  },
  {
   "cell_type": "code",
   "execution_count": 1,
   "id": "361031a9-0d38-4385-9c0a-3fd54a7f3aff",
   "metadata": {},
   "outputs": [
    {
     "name": "stderr",
     "output_type": "stream",
     "text": [
      "2021-11-24 17:32:33.477375: W tensorflow/stream_executor/platform/default/dso_loader.cc:64] Could not load dynamic library 'libcudart.so.11.0'; dlerror: libcudart.so.11.0: cannot open shared object file: No such file or directory\n",
      "2021-11-24 17:32:33.477391: I tensorflow/stream_executor/cuda/cudart_stub.cc:29] Ignore above cudart dlerror if you do not have a GPU set up on your machine.\n"
     ]
    },
    {
     "data": {
      "text/plain": [
       "<KerasTensor: shape=(None, 1) dtype=float32 (created by layer 'input_1')>"
      ]
     },
     "execution_count": 1,
     "metadata": {},
     "output_type": "execute_result"
    }
   ],
   "source": [
    "from tensorflow.keras.layers import Input\n",
    "\n",
    "# Create an input layer of shape 1\n",
    "input_tensor = Input(shape=(1,))\n",
    "\n",
    "input_tensor  # is a tensor"
   ]
  },
  {
   "cell_type": "code",
   "execution_count": 2,
   "id": "b3d7acdc-cede-4f29-930a-e4d4bce85141",
   "metadata": {},
   "outputs": [
    {
     "name": "stdout",
     "output_type": "stream",
     "text": [
      "<keras.layers.core.dense.Dense object at 0x7fee06fcc520>\n",
      "KerasTensor(type_spec=TensorSpec(shape=(None, 1), dtype=tf.float32, name=None), name='dense/BiasAdd:0', description=\"created by layer 'dense'\")\n"
     ]
    },
    {
     "name": "stderr",
     "output_type": "stream",
     "text": [
      "2021-11-24 17:32:34.237359: W tensorflow/stream_executor/platform/default/dso_loader.cc:64] Could not load dynamic library 'libcuda.so.1'; dlerror: libcuda.so.1: cannot open shared object file: No such file or directory\n",
      "2021-11-24 17:32:34.237377: W tensorflow/stream_executor/cuda/cuda_driver.cc:269] failed call to cuInit: UNKNOWN ERROR (303)\n",
      "2021-11-24 17:32:34.237388: I tensorflow/stream_executor/cuda/cuda_diagnostics.cc:156] kernel driver does not appear to be running on this host (AR2RCD0J3): /proc/driver/nvidia/version does not exist\n",
      "2021-11-24 17:32:34.237868: I tensorflow/core/platform/cpu_feature_guard.cc:151] This TensorFlow binary is optimized with oneAPI Deep Neural Network Library (oneDNN) to use the following CPU instructions in performance-critical operations:  AVX2 AVX512F FMA\n",
      "To enable them in other operations, rebuild TensorFlow with the appropriate compiler flags.\n"
     ]
    }
   ],
   "source": [
    "from tensorflow.keras.layers import Input, Dense\n",
    "\n",
    "# Input layer\n",
    "input_tensor = Input(shape=(1,))\n",
    "\n",
    "# Dense layer\n",
    "output_layer = Dense(1)\n",
    "\n",
    "print(output_layer)  # is a layer\n",
    "\n",
    "# Connect the dense layer to the input tensor\n",
    "output_tensor = output_layer(input_tensor)\n",
    "\n",
    "print(output_tensor)  # is a tensor"
   ]
  },
  {
   "cell_type": "code",
   "execution_count": 3,
   "id": "f96ce4b1-a307-4e7b-a99d-abc66a825aaa",
   "metadata": {},
   "outputs": [],
   "source": [
    "from tensorflow.keras.layers import Input, Dense\n",
    "\n",
    "# Input layer\n",
    "input_tensor = Input(shape=(1,))\n",
    "\n",
    "# Create a dense layer and connect the dense layer to the input_tensor in one step\n",
    "output_tensor = Dense(1)(input_tensor)"
   ]
  },
  {
   "cell_type": "code",
   "execution_count": 4,
   "id": "3846501a-9e41-4d3d-9b2a-708f1f8c4590",
   "metadata": {},
   "outputs": [],
   "source": [
    "from tensorflow.keras.layers import Input, Dense\n",
    "\n",
    "input_tensor = Input(shape=(1,))\n",
    "output_tensor = Dense(1)(input_tensor)\n",
    "\n",
    "# Build the model\n",
    "from tensorflow.keras.models import Model\n",
    "\n",
    "model = Model(input_tensor, output_tensor)\n",
    "\n",
    "# Compile the model\n",
    "model.compile(optimizer='adam', loss='mean_absolute_error')"
   ]
  },
  {
   "cell_type": "code",
   "execution_count": 6,
   "id": "23693e61-04d3-4462-94e0-ff3f96bc98da",
   "metadata": {},
   "outputs": [
    {
     "name": "stdout",
     "output_type": "stream",
     "text": [
      "Model: \"model\"\n",
      "_________________________________________________________________\n",
      " Layer (type)                Output Shape              Param #   \n",
      "=================================================================\n",
      " input_4 (InputLayer)        [(None, 1)]               0         \n",
      "                                                                 \n",
      " dense_2 (Dense)             (None, 1)                 2         \n",
      "                                                                 \n",
      "=================================================================\n",
      "Total params: 2\n",
      "Trainable params: 2\n",
      "Non-trainable params: 0\n",
      "_________________________________________________________________\n"
     ]
    },
    {
     "data": {
      "image/png": "[encoded data removed]",
      "text/plain": [
       "<IPython.core.display.Image object>"
      ]
     },
     "execution_count": 6,
     "metadata": {},
     "output_type": "execute_result"
    }
   ],
   "source": [
    "# Visualize a model\n",
    "from tensorflow.keras.utils import plot_model\n",
    "from matplotlib import pyplot as plt\n",
    "\n",
    "# Summarize the model\n",
    "model.summary()\n",
    "\n",
    "# Plot the model\n",
    "plot_model(model)"
   ]
  },
  {
   "cell_type": "code",
   "execution_count": 21,
   "id": "75ce1dc8-3ded-4905-8bde-f0daf37273a6",
   "metadata": {},
   "outputs": [],
   "source": [
    "# Data for regression problem\n",
    "games_tourney = pd.read_csv('games_tourney.csv')\n",
    "\n",
    "predictor, target = games_tourney.seed_diff.values, games_tourney.score_diff.values\n",
    "\n",
    "from sklearn.model_selection import train_test_split\n",
    "\n",
    "predictor_train, predictor_test, target_train, target_test = \\\n",
    "    train_test_split(predictor, target, test_size=0.2)"
   ]
  },
  {
   "cell_type": "code",
   "execution_count": 27,
   "id": "8840e513-d49f-4425-96ca-f24ff28a3705",
   "metadata": {},
   "outputs": [
    {
     "name": "stdout",
     "output_type": "stream",
     "text": [
      "Epoch 1/10\n",
      "24/24 [==============================] - 0s 2ms/step - loss: 9.5212 - val_loss: 9.6803\n",
      "Epoch 2/10\n",
      "24/24 [==============================] - 0s 827us/step - loss: 9.4843 - val_loss: 9.6489\n",
      "Epoch 3/10\n",
      "24/24 [==============================] - 0s 822us/step - loss: 9.4532 - val_loss: 9.6244\n",
      "Epoch 4/10\n",
      "24/24 [==============================] - 0s 813us/step - loss: 9.4242 - val_loss: 9.6059\n",
      "Epoch 5/10\n",
      "24/24 [==============================] - 0s 793us/step - loss: 9.3997 - val_loss: 9.5874\n",
      "Epoch 6/10\n",
      "24/24 [==============================] - 0s 757us/step - loss: 9.3750 - val_loss: 9.5703\n",
      "Epoch 7/10\n",
      "24/24 [==============================] - 0s 795us/step - loss: 9.3532 - val_loss: 9.5559\n",
      "Epoch 8/10\n",
      "24/24 [==============================] - 0s 778us/step - loss: 9.3361 - val_loss: 9.5450\n",
      "Epoch 9/10\n",
      "24/24 [==============================] - 0s 806us/step - loss: 9.3214 - val_loss: 9.5344\n",
      "Epoch 10/10\n",
      "24/24 [==============================] - 0s 769us/step - loss: 9.3074 - val_loss: 9.5239\n",
      "27/27 [==============================] - 0s 309us/step - loss: 8.8081\n"
     ]
    },
    {
     "data": {
      "text/plain": [
       "8.808145523071289"
      ]
     },
     "execution_count": 27,
     "metadata": {},
     "output_type": "execute_result"
    }
   ],
   "source": [
    "from tensorflow.keras.models import Model\n",
    "from tensorflow.keras.layers import Input, Dense\n",
    "\n",
    "input_tensor = Input(shape=(1,))\n",
    "output_tensor = Dense(1)(input_tensor)\n",
    "model = Model(input_tensor, output_tensor)\n",
    "model.compile(optimizer='adam', loss='mae')\n",
    "\n",
    "model.fit(\n",
    "    predictor_train, target_train,\n",
    "    epochs=10, batch_size=2**7, validation_split=.1\n",
    ")\n",
    "\n",
    "model.evaluate(predictor_test, target_test)"
   ]
  }
 ],
 "metadata": {
  "kernelspec": {
   "display_name": "Python 3 (ipykernel)",
   "language": "python",
   "name": "python3"
  },
  "language_info": {
   "codemirror_mode": {
    "name": "ipython",
    "version": 3
   },
   "file_extension": ".py",
   "mimetype": "text/x-python",
   "name": "python",
   "nbconvert_exporter": "python",
   "pygments_lexer": "ipython3",
   "version": "3.8.10"
  }
 },
 "nbformat": 4,
 "nbformat_minor": 5
}

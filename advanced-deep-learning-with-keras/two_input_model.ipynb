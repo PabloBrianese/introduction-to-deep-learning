{
 "cells": [
  {
   "cell_type": "code",
   "execution_count": 1,
   "id": "db8a0a04-8fd4-478b-86ef-d81089842561",
   "metadata": {},
   "outputs": [],
   "source": [
    "import numpy as np\n",
    "import pandas as pd\n",
    "from matplotlib import pyplot as plt"
   ]
  },
  {
   "cell_type": "code",
   "execution_count": 22,
   "id": "614ed965-0711-4dfd-8ec3-f6d58a1418b5",
   "metadata": {},
   "outputs": [
    {
     "name": "stdout",
     "output_type": "stream",
     "text": [
      "Regular season data\n",
      "   season  team_1  team_2  home  score_diff  score_1  score_2  won\n",
      "0    1985    3745    6664     0          17       81       64    1\n",
      "1    1985     126    7493     1           7       77       70    1\n",
      "2    1985     288    3593     1           7       63       56    1\n",
      "3    1985    1846    9881     1          16       70       54    1\n",
      "4    1985    2675   10298     1          12       86       74    1\n",
      "Tournament data\n",
      "   season  team_1  team_2  home  seed_diff  score_diff  score_1  score_2  won\n",
      "0    1985     288      73     0         -3          -9       41       50    0\n",
      "1    1985    5929      73     0          4           6       61       55    1\n",
      "2    1985    9884      73     0          5          -4       59       63    0\n",
      "3    1985      73     288     0          3           9       50       41    1\n",
      "4    1985    3920     410     0          1          -9       54       63    0\n"
     ]
    }
   ],
   "source": [
    "# Data\n",
    "games_season = pd.read_csv('games_season.csv')\n",
    "games_tourney = pd.read_csv('games_tourney.csv')\n",
    "\n",
    "print('Regular season data')\n",
    "print(games_season.head())\n",
    "\n",
    "print('Tournament data')\n",
    "print(games_tourney.head())\n",
    "\n",
    "# Count the number of unique teams\n",
    "team_ids = np.unique(games_season['team_1'])\n",
    "n_teams = team_ids.shape[0]"
   ]
  },
  {
   "cell_type": "code",
   "execution_count": 3,
   "id": "f409a4cb-2b5d-4018-8813-d9ad232b6fab",
   "metadata": {},
   "outputs": [
    {
     "name": "stderr",
     "output_type": "stream",
     "text": [
      "2021-11-28 15:57:33.353339: W tensorflow/stream_executor/platform/default/dso_loader.cc:64] Could not load dynamic library 'libcudart.so.11.0'; dlerror: libcudart.so.11.0: cannot open shared object file: No such file or directory\n",
      "2021-11-28 15:57:33.353386: I tensorflow/stream_executor/cuda/cudart_stub.cc:29] Ignore above cudart dlerror if you do not have a GPU set up on your machine.\n",
      "2021-11-28 15:57:34.792086: W tensorflow/stream_executor/platform/default/dso_loader.cc:64] Could not load dynamic library 'libcuda.so.1'; dlerror: libcuda.so.1: cannot open shared object file: No such file or directory\n",
      "2021-11-28 15:57:34.792166: W tensorflow/stream_executor/cuda/cuda_driver.cc:269] failed call to cuInit: UNKNOWN ERROR (303)\n",
      "2021-11-28 15:57:34.792184: I tensorflow/stream_executor/cuda/cuda_diagnostics.cc:156] kernel driver does not appear to be running on this host (DESKTOP-FC4EGDV): /proc/driver/nvidia/version does not exist\n",
      "2021-11-28 15:57:34.792382: I tensorflow/core/platform/cpu_feature_guard.cc:142] This TensorFlow binary is optimized with oneAPI Deep Neural Network Library (oneDNN) to use the following CPU instructions in performance-critical operations:  AVX2 FMA\n",
      "To enable them in other operations, rebuild TensorFlow with the appropriate compiler flags.\n"
     ]
    }
   ],
   "source": [
    "# Team Strength Model\n",
    "from tensorflow.keras.layers import Input, Embedding, Flatten\n",
    "from tensorflow.keras.models import Model\n",
    "\n",
    "# Create an input layer for the team ID\n",
    "teamid_in = Input(shape=(1,))\n",
    "\n",
    "# Create an embedding layer\n",
    "team_lookup = Embedding(input_dim=n_teams, output_dim=1, input_length=1, name='Team-Strength')\n",
    "\n",
    "# Lookup the input in the team strength embedding layer\n",
    "strength_lookup = team_lookup(teamid_in)\n",
    "\n",
    "# Flatten the output\n",
    "strength_lookup_flat = Flatten()(strength_lookup)\n",
    "\n",
    "# Combine the operations into a single, re-usable model\n",
    "team_strength_model = Model(teamid_in, strength_lookup_flat, name='Team-Strength-Model')"
   ]
  },
  {
   "cell_type": "code",
   "execution_count": 4,
   "id": "e68df13b-a4bd-4b5c-920a-67aad9ad59f8",
   "metadata": {},
   "outputs": [],
   "source": [
    "# Shared layers\n",
    "\n",
    "from tensorflow.keras.models import Model\n",
    "from tensorflow.keras.layers import Input, Subtract\n",
    "\n",
    "# Input layers for team 1 and 2\n",
    "team_in_1 = Input(shape=(1,), name='Team-1-In')\n",
    "team_in_2 = Input(shape=(1,), name='Team-2-In')\n",
    "\n",
    "# Lookup team 1 and 2 in the team strength model\n",
    "team_1_strength = team_strength_model(team_in_1)\n",
    "team_2_strength = team_strength_model(team_in_2)\n",
    "\n",
    "# Create a subtract layer to merge team strengths\n",
    "score_diff = Subtract()([team_1_strength, team_2_strength])\n",
    "\n",
    "# Create the model\n",
    "model = Model([team_in_1, team_in_2], score_diff)\n",
    "model.compile(optimizer='adam', loss='mean_absolute_error')"
   ]
  },
  {
   "cell_type": "code",
   "execution_count": 5,
   "id": "fcfaaf30-039a-49fd-8bab-730f8a6a87a6",
   "metadata": {},
   "outputs": [
    {
     "name": "stderr",
     "output_type": "stream",
     "text": [
      "2021-11-28 15:57:34.948760: I tensorflow/compiler/mlir/mlir_graph_optimization_pass.cc:185] None of the MLIR Optimization Passes are enabled (registered 2)\n"
     ]
    }
   ],
   "source": [
    "# Get the team_1 column from the regular season data\n",
    "input_1 = games_season['team_1']\n",
    "\n",
    "# Get the team_2 column from the regular season data\n",
    "input_2 = games_season['team_2']\n",
    "\n",
    "# Get the score_diff column from the regular season data\n",
    "target = games_season['score_diff']\n",
    "\n",
    "# Fit the model\n",
    "history = model.fit([input_1, input_2], target, epochs=2**9, batch_size=2**11, validation_split=.1, verbose=0)"
   ]
  },
  {
   "cell_type": "code",
   "execution_count": 6,
   "id": "91da6630-12bd-41ee-88f6-bcd4104d3829",
   "metadata": {},
   "outputs": [
    {
     "data": {
      "image/png": "[encoded data removed]",
      "text/plain": [
       "<Figure size 432x288 with 1 Axes>"
      ]
     },
     "metadata": {
      "needs_background": "light"
     },
     "output_type": "display_data"
    }
   ],
   "source": [
    "plt.plot(history.history['loss'], label='training loss', color='black')\n",
    "plt.plot(history.history['val_loss'], label='validation loss', color='red')\n",
    "plt.title('Loss evolution over epochs')\n",
    "plt.xlabel('Epoch')\n",
    "plt.ylabel('mean_absolute_error')\n",
    "plt.legend()\n",
    "plt.show()"
   ]
  },
  {
   "cell_type": "code",
   "execution_count": 7,
   "id": "75e73fb5-0cc5-48f3-82bc-e43bd87a3953",
   "metadata": {},
   "outputs": [
    {
     "name": "stdout",
     "output_type": "stream",
     "text": [
      "133/133 [==============================] - 0s 862us/step - loss: 9.1152\n"
     ]
    },
    {
     "data": {
      "text/plain": [
       "9.115209579467773"
      ]
     },
     "execution_count": 7,
     "metadata": {},
     "output_type": "execute_result"
    }
   ],
   "source": [
    "# Get team_1 from the tournament data\n",
    "input_1 = games_tourney['team_1']\n",
    "\n",
    "# Get team_2 from the tournament data\n",
    "input_2 = games_tourney['team_2']\n",
    "\n",
    "# Get score_diff from the tournament data\n",
    "target = games_tourney['score_diff']\n",
    "\n",
    "# Evaluate the model using these inputs\n",
    "model.evaluate([input_1, input_2], target)"
   ]
  },
  {
   "cell_type": "code",
   "execution_count": 63,
   "id": "d454eab1-66f8-49b1-a672-2bf9663ab189",
   "metadata": {},
   "outputs": [
    {
     "data": {
      "text/html": [
       "<div>\n",
       "<style scoped>\n",
       "    .dataframe tbody tr th:only-of-type {\n",
       "        vertical-align: middle;\n",
       "    }\n",
       "\n",
       "    .dataframe tbody tr th {\n",
       "        vertical-align: top;\n",
       "    }\n",
       "\n",
       "    .dataframe thead th {\n",
       "        text-align: right;\n",
       "    }\n",
       "</style>\n",
       "<table border=\"1\" class=\"dataframe\">\n",
       "  <thead>\n",
       "    <tr style=\"text-align: right;\">\n",
       "      <th></th>\n",
       "      <th>team_id</th>\n",
       "      <th>mean_score_ranking</th>\n",
       "      <th>strength_ranking</th>\n",
       "      <th>ranking_difference</th>\n",
       "    </tr>\n",
       "  </thead>\n",
       "  <tbody>\n",
       "    <tr>\n",
       "      <th>0</th>\n",
       "      <td>0</td>\n",
       "      <td>9583</td>\n",
       "      <td>10609</td>\n",
       "      <td>1026</td>\n",
       "    </tr>\n",
       "    <tr>\n",
       "      <th>1</th>\n",
       "      <td>1</td>\n",
       "      <td>10215</td>\n",
       "      <td>10255</td>\n",
       "      <td>40</td>\n",
       "    </tr>\n",
       "    <tr>\n",
       "      <th>2</th>\n",
       "      <td>2</td>\n",
       "      <td>5788</td>\n",
       "      <td>9024</td>\n",
       "      <td>3236</td>\n",
       "    </tr>\n",
       "    <tr>\n",
       "      <th>3</th>\n",
       "      <td>3</td>\n",
       "      <td>7144</td>\n",
       "      <td>9127</td>\n",
       "      <td>1983</td>\n",
       "    </tr>\n",
       "    <tr>\n",
       "      <th>4</th>\n",
       "      <td>4</td>\n",
       "      <td>5235</td>\n",
       "      <td>6409</td>\n",
       "      <td>1174</td>\n",
       "    </tr>\n",
       "    <tr>\n",
       "      <th>...</th>\n",
       "      <td>...</td>\n",
       "      <td>...</td>\n",
       "      <td>...</td>\n",
       "      <td>...</td>\n",
       "    </tr>\n",
       "    <tr>\n",
       "      <th>10883</th>\n",
       "      <td>10883</td>\n",
       "      <td>2764</td>\n",
       "      <td>6994</td>\n",
       "      <td>4230</td>\n",
       "    </tr>\n",
       "    <tr>\n",
       "      <th>10884</th>\n",
       "      <td>10884</td>\n",
       "      <td>5125</td>\n",
       "      <td>9472</td>\n",
       "      <td>4347</td>\n",
       "    </tr>\n",
       "    <tr>\n",
       "      <th>10885</th>\n",
       "      <td>10885</td>\n",
       "      <td>2300</td>\n",
       "      <td>9598</td>\n",
       "      <td>7298</td>\n",
       "    </tr>\n",
       "    <tr>\n",
       "      <th>10886</th>\n",
       "      <td>10886</td>\n",
       "      <td>2142</td>\n",
       "      <td>8255</td>\n",
       "      <td>6113</td>\n",
       "    </tr>\n",
       "    <tr>\n",
       "      <th>10887</th>\n",
       "      <td>10887</td>\n",
       "      <td>3825</td>\n",
       "      <td>10267</td>\n",
       "      <td>6442</td>\n",
       "    </tr>\n",
       "  </tbody>\n",
       "</table>\n",
       "<p>10888 rows × 4 columns</p>\n",
       "</div>"
      ],
      "text/plain": [
       "       team_id  mean_score_ranking  strength_ranking  ranking_difference\n",
       "0            0                9583             10609                1026\n",
       "1            1               10215             10255                  40\n",
       "2            2                5788              9024                3236\n",
       "3            3                7144              9127                1983\n",
       "4            4                5235              6409                1174\n",
       "...        ...                 ...               ...                 ...\n",
       "10883    10883                2764              6994                4230\n",
       "10884    10884                5125              9472                4347\n",
       "10885    10885                2300              9598                7298\n",
       "10886    10886                2142              8255                6113\n",
       "10887    10887                3825             10267                6442\n",
       "\n",
       "[10888 rows x 4 columns]"
      ]
     },
     "execution_count": 63,
     "metadata": {},
     "output_type": "execute_result"
    }
   ],
   "source": [
    "team_1 = games_season[['team_1', 'score_1']]\n",
    "\n",
    "ranking_by_mean = list(team_1.groupby('team_1').mean().sort_values(by='score_1', ascending=False).index.values)\n",
    "\n",
    "df = pd.DataFrame(\n",
    "  {'strength_predictions': team_strength_model.predict(team_ids).flatten()},\n",
    "  index=pd.Index(data=team_ids, name='team_id')\n",
    ")\n",
    "\n",
    "ranking_by_strength = list(df.sort_values(by='strength_predictions', ascending=False).index.values)\n",
    "\n",
    "rankings_df = pd.DataFrame({\n",
    "  'team_id': team_ids,\n",
    "  'mean_score_ranking': [ranking_by_mean.index(team_id) for team_id in team_ids],\n",
    "  'strength_ranking': [ranking_by_strength.index(team_id) for team_id in team_ids]\n",
    "})\n",
    "\n",
    "rankings_df['ranking_difference'] = np.abs(rankings_df.mean_score_ranking - rankings_df.strength_ranking)\n",
    "\n",
    "rankings_df"
   ]
  },
  {
   "cell_type": "code",
   "execution_count": 65,
   "id": "c07028e8-713d-40a3-9dc5-19e23452ffdb",
   "metadata": {},
   "outputs": [
    {
     "data": {
      "text/plain": [
       "2412.0222263041883"
      ]
     },
     "execution_count": 65,
     "metadata": {},
     "output_type": "execute_result"
    }
   ],
   "source": [
    "# Ranking by mean_score is very different from ranking by strength\n",
    "rankings_df.ranking_difference.mean()"
   ]
  },
  {
   "cell_type": "code",
   "execution_count": 67,
   "id": "f1102da1-6899-487c-8c58-4b7b0af12eac",
   "metadata": {},
   "outputs": [
    {
     "data": {
      "text/plain": [
       "0         1\n",
       "1         1\n",
       "2         1\n",
       "3         1\n",
       "4         1\n",
       "         ..\n",
       "312173    0\n",
       "312174    0\n",
       "312175    0\n",
       "312176    0\n",
       "312177    0\n",
       "Name: won, Length: 312178, dtype: int64"
      ]
     },
     "execution_count": 67,
     "metadata": {},
     "output_type": "execute_result"
    }
   ],
   "source": [
    "games_season.won"
   ]
  }
 ],
 "metadata": {
  "kernelspec": {
   "display_name": "Python 3 (ipykernel)",
   "language": "python",
   "name": "python3"
  },
  "language_info": {
   "codemirror_mode": {
    "name": "ipython",
    "version": 3
   },
   "file_extension": ".py",
   "mimetype": "text/x-python",
   "name": "python",
   "nbconvert_exporter": "python",
   "pygments_lexer": "ipython3",
   "version": "3.8.10"
  }
 },
 "nbformat": 4,
 "nbformat_minor": 5
}

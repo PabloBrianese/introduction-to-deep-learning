{
 "cells": [
  {
   "cell_type": "code",
   "execution_count": 7,
   "id": "dba60d2c-8de3-43cd-a7fa-00d54a960a49",
   "metadata": {},
   "outputs": [],
   "source": [
    "import numpy as np\n",
    "import tensorflow as tf"
   ]
  },
  {
   "cell_type": "code",
   "execution_count": 4,
   "id": "534168d8-7ded-4c00-aff1-b09a78c2e6cd",
   "metadata": {},
   "outputs": [],
   "source": [
    "# Neural Network\n",
    "# Low level construction\n",
    "\n",
    "# Define inputs (features)\n",
    "inputs = tf.constant([[1.0, 35.0]])\n",
    "\n",
    "# Define weights\n",
    "weights = tf.Variable([[-0.05], [-0.01]])\n",
    "\n",
    "# Define the bias\n",
    "bias = tf.Variable([0.05])\n",
    "\n",
    "# Multiply inputs (features) by the weights\n",
    "product = tf.matmul(inputs, weights)\n",
    "\n",
    "# Define dense layer\n",
    "dense = tf.keras.activations.sigmoid(product + bias)"
   ]
  },
  {
   "cell_type": "code",
   "execution_count": null,
   "id": "46958c77-53f5-48c2-982b-c918b0adf3ef",
   "metadata": {},
   "outputs": [],
   "source": [
    "# Neural Network\n",
    "# High level construction\n",
    "\n",
    "# Define input (features)\n",
    "inputs = tf.constant(data, tf.float32)\n",
    "\n",
    "# Define first dense layer\n",
    "dense1 = tf.keras.layers.Dense(10, activation='sigmoid')(inputs)\n",
    "\n",
    "# Define second dense layer\n",
    "dense2 = tf.keras.layers.Dense(5, activation='sigmoid')(dense1)\n",
    "\n",
    "# Define output (predictions) layer\n",
    "outputs = tf.keras.layers.Dense(1, activation='sigmoid')(dense2)"
   ]
  },
  {
   "cell_type": "code",
   "execution_count": 33,
   "id": "fdfc518c-f98b-4901-8ab6-c22b7fbc8c23",
   "metadata": {},
   "outputs": [
    {
     "name": "stdout",
     "output_type": "stream",
     "text": [
      "prediction [[0.95257413]]\n",
      "actual 1\n"
     ]
    }
   ],
   "source": [
    "# Low level\n",
    "\n",
    "borrower_features = np.array([[ 2.,  2., 43.]], dtype=np.float32)\n",
    "\n",
    "# Initialize bias1\n",
    "bias1 = tf.Variable(1.0, dtype=tf.float32)\n",
    "\n",
    "# Initialize weights1 as 3x2 variable of ones\n",
    "weights1 = tf.Variable(np.ones([3,2]), dtype=tf.float32)\n",
    "\n",
    "# Perform matrix multiplication\n",
    "product1 = tf.matmul(borrower_features, weights1)\n",
    "\n",
    "# Apply sigmoid activation function to product1 + bias1\n",
    "dense1 = tf.keras.activations.sigmoid(product1 + bias1)\n",
    "\n",
    "# Initialize bias2 and weights2\n",
    "bias2 = tf.Variable(1.0, dtype=tf.float32)\n",
    "weights2 = tf.Variable(np.ones([2, 1]), dtype=tf.float32)\n",
    "\n",
    "# Perform matrix multiplication\n",
    "product2 = tf.matmul(dense1, weights2)\n",
    "\n",
    "# Apply activation to product2 + bias2 and print the prediction\n",
    "prediction = tf.keras.activations.sigmoid(product2 + bias2)\n",
    "\n",
    "print(f\"prediction {prediction.numpy()}\")\n",
    "print(\"actual 1\")"
   ]
  },
  {
   "cell_type": "code",
   "execution_count": 41,
   "id": "13ac811a-736e-4d9a-bf6f-536606e13ed8",
   "metadata": {},
   "outputs": [
    {
     "name": "stdout",
     "output_type": "stream",
     "text": [
      "borrower_features.shape=(5, 3)\n",
      "weights1.shape=TensorShape([3, 2])\n",
      "bias1.shape=TensorShape([])\n",
      "dense1.shape=TensorShape([5, 2])\n"
     ]
    }
   ],
   "source": [
    "borrower_features = np.array([[ 3.,  3., 23.],\n",
    "       [ 2.,  1., 24.],\n",
    "       [ 1.,  1., 49.],\n",
    "       [ 1.,  1., 49.],\n",
    "       [ 2.,  1., 29.]], dtype=np.float32)\n",
    "\n",
    "weights1 = tf.Variable(\n",
    "  np.array([[-0.6 ,  0.6 ],\n",
    "       [ 0.8 , -0.3 ],\n",
    "       [-0.09, -0.08]]), dtype=tf.float32)\n",
    "\n",
    "# Compute the product of borrower_features and weights1\n",
    "products1 = tf.matmul(borrower_features, weights1)\n",
    "\n",
    "# Apply a sigmoid activation function to products1 + bias1\n",
    "dense1 = tf.keras.activations.sigmoid(products1 + bias1)\n",
    "\n",
    "# Print the shapes of borrower_features, weights1, bias1, and dense1\n",
    "print(f\"{borrower_features.shape=}\")\n",
    "print(f\"{weights1.shape=}\")\n",
    "print(f\"{bias1.shape=}\")\n",
    "print(f\"{dense1.shape=}\")"
   ]
  }
 ],
 "metadata": {
  "kernelspec": {
   "display_name": "Python 3 (ipykernel)",
   "language": "python",
   "name": "python3"
  },
  "language_info": {
   "codemirror_mode": {
    "name": "ipython",
    "version": 3
   },
   "file_extension": ".py",
   "mimetype": "text/x-python",
   "name": "python",
   "nbconvert_exporter": "python",
   "pygments_lexer": "ipython3",
   "version": "3.8.10"
  }
 },
 "nbformat": 4,
 "nbformat_minor": 5
}

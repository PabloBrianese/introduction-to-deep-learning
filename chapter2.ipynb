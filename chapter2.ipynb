{
  "nbformat": 4,
  "nbformat_minor": 0,
  "metadata": {
    "colab": {
      "name": "chapter2.ipynb",
      "provenance": [],
      "collapsed_sections": [],
      "authorship_tag": "ABX9TyMAvCNJHM6OdY6ieF+2uuAn",
      "include_colab_link": true
    },
    "kernelspec": {
      "name": "python3",
      "display_name": "Python 3"
    },
    "language_info": {
      "name": "python"
    }
  },
  "cells": [
    {
      "cell_type": "markdown",
      "metadata": {
        "id": "view-in-github",
        "colab_type": "text"
      },
      "source": [
        "<a href=\"https://colab.research.google.com/github/PabloBrianese/introduction-to-deep-learning/blob/main/chapter2.ipynb\" target=\"_parent\"><img src=\"https://colab.research.google.com/assets/colab-badge.svg\" alt=\"Open In Colab\"/></a>"
      ]
    },
    {
      "cell_type": "code",
      "metadata": {
        "colab": {
          "base_uri": "https://localhost:8080/"
        },
        "id": "6kXUZ4FYzd9y",
        "outputId": "e2a8a667-00fb-48fe-b326-4e23d8ad373c"
      },
      "source": [
        "import pandas as pd\n",
        "\n",
        "data_path = 'kc_house_data.csv'\n",
        "\n",
        "housing = pd.read_csv(data_path)\n",
        "\n",
        "housing.price"
      ],
      "execution_count": 2,
      "outputs": [
        {
          "output_type": "execute_result",
          "data": {
            "text/plain": [
              "0        221900.0\n",
              "1        538000.0\n",
              "2        180000.0\n",
              "3        604000.0\n",
              "4        510000.0\n",
              "           ...   \n",
              "21608    360000.0\n",
              "21609    400000.0\n",
              "21610    402101.0\n",
              "21611    400000.0\n",
              "21612    325000.0\n",
              "Name: price, Length: 21613, dtype: float64"
            ]
          },
          "metadata": {},
          "execution_count": 2
        }
      ]
    },
    {
      "cell_type": "code",
      "metadata": {
        "colab": {
          "base_uri": "https://localhost:8080/"
        },
        "id": "uYT8stAK3M5W",
        "outputId": "45ea5810-c1d7-4ef5-8140-875f6293909d"
      },
      "source": [
        "import numpy as np\n",
        "import tensorflow as tf\n",
        "\n",
        "# Use a numpy array to define price as a 32-bit float\n",
        "price = np.array(housing.price, np.float32)\n",
        "\n",
        "# Define waterfront as a Boolean using cast\n",
        "waterfront = tf.cast(housing.waterfront, tf.bool)\n",
        "\n",
        "print(price); print(waterfront)"
      ],
      "execution_count": 4,
      "outputs": [
        {
          "output_type": "stream",
          "name": "stdout",
          "text": [
            "[221900. 538000. 180000. ... 402101. 400000. 325000.]\n",
            "tf.Tensor([False False False ... False False False], shape=(21613,), dtype=bool)\n"
          ]
        }
      ]
    },
    {
      "cell_type": "code",
      "metadata": {
        "colab": {
          "base_uri": "https://localhost:8080/"
        },
        "id": "w3rzgmq04EPs",
        "outputId": "9adbc2d6-aeca-4320-f1a6-47335c57b22f"
      },
      "source": [
        "# Compute the MSE loss\n",
        "targets = [1, 2]\n",
        "predictions = [1.1, 2.1]\n",
        "loss = tf.keras .losses.mse(targets, predictions)\n",
        "loss"
      ],
      "execution_count": 7,
      "outputs": [
        {
          "output_type": "execute_result",
          "data": {
            "text/plain": [
              "<tf.Tensor: shape=(), dtype=float32, numpy=0.009999992>"
            ]
          },
          "metadata": {},
          "execution_count": 7
        }
      ]
    },
    {
      "cell_type": "code",
      "metadata": {
        "colab": {
          "base_uri": "https://localhost:8080/"
        },
        "id": "f1iVRLBg5Zs8",
        "outputId": "e4fff8b7-3db4-40c9-bf66-fd4afe3684e4"
      },
      "source": [
        "# Define a a linear regression model\n",
        "def linear_regression(intercept, slope, features):\n",
        "  return intercept + features * slope\n",
        "\n",
        "\n",
        "# Define a loss function to compute the MSE\n",
        "def loss_function(intercept, slope, targets, features):\n",
        "  # Compute the predictions for a linear model\n",
        "  predictions = linear_regression(intercept, slope, features)\n",
        "\n",
        "  # Compute the MSE loss\n",
        "  loss = tf.keras.losses.mse(targets, predictions)\n",
        "  \n",
        "  return loss\n",
        "\n",
        "\n",
        "intercept = 0\n",
        "slope = 1\n",
        "targets = np.ones([5])\n",
        "features = np.zeros([5])\n",
        "\n",
        "loss_function(intercept, slope, targets, features)"
      ],
      "execution_count": 8,
      "outputs": [
        {
          "output_type": "execute_result",
          "data": {
            "text/plain": [
              "<tf.Tensor: shape=(), dtype=float64, numpy=1.0>"
            ]
          },
          "metadata": {},
          "execution_count": 8
        }
      ]
    },
    {
      "cell_type": "code",
      "metadata": {
        "colab": {
          "base_uri": "https://localhost:8080/"
        },
        "id": "W59SkD6e8TNc",
        "outputId": "0c5b1ada-d905-4ba0-f07e-cc960ded8d9f"
      },
      "source": [
        "# Tensor of house prices\n",
        "price = np.array([ 221900.,  538000.,  180000.,  604000.,  510000., 1225000.,\n",
        "        257500.,  291850.,  229500.,  323000.], dtype=np.float32)\n",
        "\n",
        "# Tensor of predicted house prices\n",
        "predictions = np.array([154546.51228417, 153942.9622033 ,  40833.26164156, 332994.12052607,\n",
        "       366929.17459064, 518305.41365246, 252546.78108404, 199867.55920599,\n",
        "       110373.87139066, 126653.95837671])\n",
        "\n",
        "# Import the keras module from tensorflow\n",
        "from tensorflow import keras\n",
        "\n",
        "# Compute the mean squared error (mse)\n",
        "mse = keras.losses.mse(price, predictions)\n",
        "\n",
        "print(mse.numpy())\n",
        "\n",
        "# Compute the mean absolute error (mae)\n",
        "mae = keras.losses.mae(price, predictions)\n",
        "\n",
        "print(mae.numpy())"
      ],
      "execution_count": 14,
      "outputs": [
        {
          "output_type": "stream",
          "name": "stdout",
          "text": [
            "82596247419.03\n",
            "212375.63850444002\n"
          ]
        }
      ]
    },
    {
      "cell_type": "code",
      "metadata": {
        "colab": {
          "base_uri": "https://localhost:8080/"
        },
        "id": "hEgm_EBoKA_-",
        "outputId": "b1414929-aa4a-49b1-912b-3bce06fa6ddd"
      },
      "source": [
        "features = tf.constant([1., 2., 3., 4., 5.], dtype=tf.float32)\n",
        "targets = tf.constant([ 2.,  4.,  6.,  8., 10.], dtype=tf.float32)\n",
        "\n",
        "# Initialize a variable named scalar\n",
        "scalar = tf.Variable(1.0, dtype=tf.float32)\n",
        "\n",
        "\n",
        "# Define the model\n",
        "def model(scalar, features=features):\n",
        "  return scalar * features\n",
        "\n",
        "\n",
        "# Define a loss function\n",
        "def loss_function(scalar, features=features, targets=targets):\n",
        "  # Compute the predicted values\n",
        "  predictions = model(scalar, features)\n",
        "\n",
        "  # Return the mean absolute error loss\n",
        "  return keras.losses.mae(targets, predictions)\n",
        "\n",
        "\n",
        "# Evaluate the loss function and print the loss\n",
        "loss_function(scalar).numpy()"
      ],
      "execution_count": 15,
      "outputs": [
        {
          "output_type": "execute_result",
          "data": {
            "text/plain": [
              "3.0"
            ]
          },
          "metadata": {},
          "execution_count": 15
        }
      ]
    },
    {
      "cell_type": "code",
      "metadata": {
        "colab": {
          "base_uri": "https://localhost:8080/"
        },
        "id": "cgL8T2jSMwZe",
        "outputId": "5f06416d-3e4a-4b10-995d-24bbb6f02f53"
      },
      "source": [
        "# Define the targets and features\n",
        "price = np.array(housing.price, np.float32)\n",
        "size = np.array(housing.sqft_living, np.float32)\n",
        "\n",
        "# Define the intercept and slope, as trainable Variables\n",
        "intercept = tf.Variable(0.1, np.float32)\n",
        "slope = tf.Variable(0.1, np.float32)\n",
        "var_list = [intercept, slope]\n",
        "\n",
        "\n",
        "# Define a linear regression model\n",
        "def linear_regression(intercept, slope, features=size):\n",
        "  return intercept + features * slope\n",
        "\n",
        "\n",
        "# Compute the predicted values and loss\n",
        "def loss_function(intercept, slope, targets=price, features=size):\n",
        "  predictions = linear_regression(intercept, slope)\n",
        "  return tf.keras.losses.mse(targets, predictions)\n",
        "\n",
        "\n",
        "# Define an optimization operation\n",
        "opt = tf.keras.optimizers.Adam()\n",
        "\n",
        "# Minimize the loss function and print the loss\n",
        "for j in range(10000):\n",
        "  opt.minimize(lambda: loss_function(*var_list), var_list=var_list)\n",
        "  if not j % 1000: print(loss_function(*var_list))\n",
        "\n",
        "\n",
        "print(intercept.numpy(), slope.numpy())"
      ],
      "execution_count": 22,
      "outputs": [
        {
          "output_type": "stream",
          "name": "stdout",
          "text": [
            "tf.Tensor(426196570000.0, shape=(), dtype=float32)\n",
            "tf.Tensor(423483800000.0, shape=(), dtype=float32)\n",
            "tf.Tensor(420784930000.0, shape=(), dtype=float32)\n",
            "tf.Tensor(418098580000.0, shape=(), dtype=float32)\n",
            "tf.Tensor(415423560000.0, shape=(), dtype=float32)\n",
            "tf.Tensor(412759430000.0, shape=(), dtype=float32)\n",
            "tf.Tensor(410106400000.0, shape=(), dtype=float32)\n",
            "tf.Tensor(407463700000.0, shape=(), dtype=float32)\n",
            "tf.Tensor(404831100000.0, shape=(), dtype=float32)\n",
            "tf.Tensor(402207700000.0, shape=(), dtype=float32)\n",
            "10.066566 10.068806\n"
          ]
        }
      ]
    }
  ]
}
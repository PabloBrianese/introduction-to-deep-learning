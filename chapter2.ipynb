{
  "nbformat": 4,
  "nbformat_minor": 0,
  "metadata": {
    "colab": {
      "name": "chapter2.ipynb",
      "provenance": [],
      "collapsed_sections": [],
      "authorship_tag": "ABX9TyP87Ef1GptgUZdKDAxHlABr",
      "include_colab_link": true
    },
    "kernelspec": {
      "name": "python3",
      "display_name": "Python 3"
    },
    "language_info": {
      "name": "python"
    }
  },
  "cells": [
    {
      "cell_type": "markdown",
      "metadata": {
        "id": "view-in-github",
        "colab_type": "text"
      },
      "source": [
        "<a href=\"https://colab.research.google.com/github/PabloBrianese/introduction-to-deep-learning/blob/main/chapter2.ipynb\" target=\"_parent\"><img src=\"https://colab.research.google.com/assets/colab-badge.svg\" alt=\"Open In Colab\"/></a>"
      ]
    },
    {
      "cell_type": "code",
      "metadata": {
        "colab": {
          "base_uri": "https://localhost:8080/"
        },
        "id": "6kXUZ4FYzd9y",
        "outputId": "caba733a-d636-4663-bb08-9ac223b07e11"
      },
      "source": [
        "import pandas as pd\n",
        "\n",
        "data_path = 'kc_house_data.csv'\n",
        "\n",
        "housing = pd.read_csv(data_path)\n",
        "\n",
        "housing.price"
      ],
      "execution_count": 5,
      "outputs": [
        {
          "output_type": "execute_result",
          "data": {
            "text/plain": [
              "0        221900.0\n",
              "1        538000.0\n",
              "2        180000.0\n",
              "3        604000.0\n",
              "4        510000.0\n",
              "           ...   \n",
              "21608    360000.0\n",
              "21609    400000.0\n",
              "21610    402101.0\n",
              "21611    400000.0\n",
              "21612    325000.0\n",
              "Name: price, Length: 21613, dtype: float64"
            ]
          },
          "metadata": {},
          "execution_count": 5
        }
      ]
    },
    {
      "cell_type": "code",
      "metadata": {
        "colab": {
          "base_uri": "https://localhost:8080/"
        },
        "id": "uYT8stAK3M5W",
        "outputId": "2d30088a-21de-4278-a861-960cbd6c3b68"
      },
      "source": [
        "import numpy as np\n",
        "import tensorflow as tf\n",
        "\n",
        "# Use a numpy array to define price as a 32-bit float\n",
        "price = np.array(housing.price, np.float32)\n",
        "\n",
        "# Define waterfront as a Boolean using cast\n",
        "waterfront = tf.cast(housing.waterfront, tf.bool)\n",
        "\n",
        "print(price); print(waterfront)"
      ],
      "execution_count": 9,
      "outputs": [
        {
          "output_type": "stream",
          "name": "stdout",
          "text": [
            "[221900. 538000. 180000. ... 402101. 400000. 325000.]\n",
            "tf.Tensor([False False False ... False False False], shape=(21613,), dtype=bool)\n"
          ]
        }
      ]
    },
    {
      "cell_type": "code",
      "metadata": {
        "colab": {
          "base_uri": "https://localhost:8080/"
        },
        "id": "w3rzgmq04EPs",
        "outputId": "9adbc2d6-aeca-4320-f1a6-47335c57b22f"
      },
      "source": [
        "# Compute the MSE loss\n",
        "targets = [1, 2]\n",
        "predictions = [1.1, 2.1]\n",
        "loss = tf.keras .losses.mse(targets, predictions)\n",
        "loss"
      ],
      "execution_count": null,
      "outputs": [
        {
          "output_type": "execute_result",
          "data": {
            "text/plain": [
              "<tf.Tensor: shape=(), dtype=float32, numpy=0.009999992>"
            ]
          },
          "metadata": {},
          "execution_count": 7
        }
      ]
    },
    {
      "cell_type": "code",
      "metadata": {
        "colab": {
          "base_uri": "https://localhost:8080/"
        },
        "id": "f1iVRLBg5Zs8",
        "outputId": "e4fff8b7-3db4-40c9-bf66-fd4afe3684e4"
      },
      "source": [
        "# Define a a linear regression model\n",
        "def linear_regression(intercept, slope, features):\n",
        "  return intercept + features * slope\n",
        "\n",
        "\n",
        "# Define a loss function to compute the MSE\n",
        "def loss_function(intercept, slope, targets, features):\n",
        "  # Compute the predictions for a linear model\n",
        "  predictions = linear_regression(intercept, slope, features)\n",
        "\n",
        "  # Compute the MSE loss\n",
        "  loss = tf.keras.losses.mse(targets, predictions)\n",
        "  \n",
        "  return loss\n",
        "\n",
        "\n",
        "intercept = 0\n",
        "slope = 1\n",
        "targets = np.ones([5])\n",
        "features = np.zeros([5])\n",
        "\n",
        "loss_function(intercept, slope, targets, features)"
      ],
      "execution_count": null,
      "outputs": [
        {
          "output_type": "execute_result",
          "data": {
            "text/plain": [
              "<tf.Tensor: shape=(), dtype=float64, numpy=1.0>"
            ]
          },
          "metadata": {},
          "execution_count": 8
        }
      ]
    },
    {
      "cell_type": "code",
      "metadata": {
        "colab": {
          "base_uri": "https://localhost:8080/"
        },
        "id": "W59SkD6e8TNc",
        "outputId": "0c5b1ada-d905-4ba0-f07e-cc960ded8d9f"
      },
      "source": [
        "# Tensor of house prices\n",
        "price = np.array([ 221900.,  538000.,  180000.,  604000.,  510000., 1225000.,\n",
        "        257500.,  291850.,  229500.,  323000.], dtype=np.float32)\n",
        "\n",
        "# Tensor of predicted house prices\n",
        "predictions = np.array([154546.51228417, 153942.9622033 ,  40833.26164156, 332994.12052607,\n",
        "       366929.17459064, 518305.41365246, 252546.78108404, 199867.55920599,\n",
        "       110373.87139066, 126653.95837671])\n",
        "\n",
        "# Import the keras module from tensorflow\n",
        "from tensorflow import keras\n",
        "\n",
        "# Compute the mean squared error (mse)\n",
        "mse = keras.losses.mse(price, predictions)\n",
        "\n",
        "print(mse.numpy())\n",
        "\n",
        "# Compute the mean absolute error (mae)\n",
        "mae = keras.losses.mae(price, predictions)\n",
        "\n",
        "print(mae.numpy())"
      ],
      "execution_count": null,
      "outputs": [
        {
          "output_type": "stream",
          "name": "stdout",
          "text": [
            "82596247419.03\n",
            "212375.63850444002\n"
          ]
        }
      ]
    },
    {
      "cell_type": "code",
      "metadata": {
        "colab": {
          "base_uri": "https://localhost:8080/"
        },
        "id": "hEgm_EBoKA_-",
        "outputId": "b1414929-aa4a-49b1-912b-3bce06fa6ddd"
      },
      "source": [
        "features = tf.constant([1., 2., 3., 4., 5.], dtype=tf.float32)\n",
        "targets = tf.constant([ 2.,  4.,  6.,  8., 10.], dtype=tf.float32)\n",
        "\n",
        "# Initialize a variable named scalar\n",
        "scalar = tf.Variable(1.0, dtype=tf.float32)\n",
        "\n",
        "\n",
        "# Define the model\n",
        "def model(scalar, features=features):\n",
        "  return scalar * features\n",
        "\n",
        "\n",
        "# Define a loss function\n",
        "def loss_function(scalar, features=features, targets=targets):\n",
        "  # Compute the predicted values\n",
        "  predictions = model(scalar, features)\n",
        "\n",
        "  # Return the mean absolute error loss\n",
        "  return keras.losses.mae(targets, predictions)\n",
        "\n",
        "\n",
        "# Evaluate the loss function and print the loss\n",
        "loss_function(scalar).numpy()"
      ],
      "execution_count": null,
      "outputs": [
        {
          "output_type": "execute_result",
          "data": {
            "text/plain": [
              "3.0"
            ]
          },
          "metadata": {},
          "execution_count": 15
        }
      ]
    },
    {
      "cell_type": "code",
      "metadata": {
        "colab": {
          "base_uri": "https://localhost:8080/"
        },
        "id": "cgL8T2jSMwZe",
        "outputId": "5f06416d-3e4a-4b10-995d-24bbb6f02f53"
      },
      "source": [
        "# Define the targets and features\n",
        "price = np.array(housing.price, np.float32)\n",
        "size = np.array(housing.sqft_living, np.float32)\n",
        "\n",
        "# Define the intercept and slope, as trainable Variables\n",
        "intercept = tf.Variable(0.1, np.float32)\n",
        "slope = tf.Variable(0.1, np.float32)\n",
        "var_list = [intercept, slope]\n",
        "\n",
        "\n",
        "# Define a linear regression model\n",
        "def linear_regression(intercept, slope, features=size):\n",
        "  return intercept + features * slope\n",
        "\n",
        "\n",
        "# Compute the predicted values and loss\n",
        "def loss_function(intercept, slope, targets=price, features=size):\n",
        "  predictions = linear_regression(intercept, slope)\n",
        "  return tf.keras.losses.mse(targets, predictions)\n",
        "\n",
        "\n",
        "# Define an optimization operation\n",
        "opt = tf.keras.optimizers.Adam()\n",
        "\n",
        "# Minimize the loss function and print the loss\n",
        "for j in range(10000):\n",
        "  opt.minimize(lambda: loss_function(*var_list), var_list=var_list)\n",
        "  if not j % 1000: print(loss_function(*var_list))\n",
        "\n",
        "\n",
        "print(intercept.numpy(), slope.numpy())"
      ],
      "execution_count": null,
      "outputs": [
        {
          "output_type": "stream",
          "name": "stdout",
          "text": [
            "tf.Tensor(426196570000.0, shape=(), dtype=float32)\n",
            "tf.Tensor(423483800000.0, shape=(), dtype=float32)\n",
            "tf.Tensor(420784930000.0, shape=(), dtype=float32)\n",
            "tf.Tensor(418098580000.0, shape=(), dtype=float32)\n",
            "tf.Tensor(415423560000.0, shape=(), dtype=float32)\n",
            "tf.Tensor(412759430000.0, shape=(), dtype=float32)\n",
            "tf.Tensor(410106400000.0, shape=(), dtype=float32)\n",
            "tf.Tensor(407463700000.0, shape=(), dtype=float32)\n",
            "tf.Tensor(404831100000.0, shape=(), dtype=float32)\n",
            "tf.Tensor(402207700000.0, shape=(), dtype=float32)\n",
            "10.066566 10.068806\n"
          ]
        }
      ]
    },
    {
      "cell_type": "code",
      "metadata": {
        "colab": {
          "base_uri": "https://localhost:8080/"
        },
        "id": "IOYHUP-KJfy_",
        "outputId": "4b82e3eb-85f0-41b1-834a-f5bad29620f1"
      },
      "source": [
        "np.log(housing.price)"
      ],
      "execution_count": 14,
      "outputs": [
        {
          "output_type": "execute_result",
          "data": {
            "text/plain": [
              "0        12.309982\n",
              "1        13.195614\n",
              "2        12.100712\n",
              "3        13.311329\n",
              "4        13.142166\n",
              "           ...    \n",
              "21608    12.793859\n",
              "21609    12.899220\n",
              "21610    12.904459\n",
              "21611    12.899220\n",
              "21612    12.691580\n",
              "Name: price, Length: 21613, dtype: float64"
            ]
          },
          "metadata": {},
          "execution_count": 14
        }
      ]
    },
    {
      "cell_type": "code",
      "metadata": {
        "colab": {
          "base_uri": "https://localhost:8080/"
        },
        "id": "68a1csVnIx1Q",
        "outputId": "2383e6da-5a4f-41f8-f0d8-46be7ba33733"
      },
      "source": [
        "size_log = np.array([ 8.639411 ,  8.887652 ,  9.2103405,  8.517193 ,  8.997148 ,\n",
        "       11.532042 ,  8.827468 ,  9.181015 ,  8.918651 ,  8.788746 ],\n",
        "      dtype=np.float32)\n",
        "price_log = np.array([12.309982, 13.195614, 12.100712, 13.31133 , 13.142166, 14.018452,\n",
        "       12.458775, 12.583995, 12.343658, 12.685408], dtype=np.float32)\n",
        "\n",
        "\n",
        "# Define a linear regression model\n",
        "def linear_regression(intercept, slope, features = size_log):\n",
        "  return intercept + features * slope\n",
        "\n",
        "\n",
        "# Set loss_function() to take the variables as arguments\n",
        "def loss_function(intercept, slope, features=size_log, targets=price_log):\n",
        "  # Set the predicted values\n",
        "  predictions = linear_regression(intercept, slope, features)\n",
        "\n",
        "  # Compute the mean squared error loss\n",
        "  mse = tf.keras.losses.mse(targets, predictions)\n",
        "\n",
        "  return mse\n",
        "\n",
        "\n",
        "# Compute the loss for different slope and intercept values\n",
        "print(loss_function(0.1, 0.1).numpy())\n",
        "print(loss_function(0.1, 0.5).numpy())"
      ],
      "execution_count": 16,
      "outputs": [
        {
          "output_type": "stream",
          "name": "stdout",
          "text": [
            "139.50249\n",
            "66.45302\n"
          ]
        }
      ]
    },
    {
      "cell_type": "code",
      "metadata": {
        "colab": {
          "base_uri": "https://localhost:8080/"
        },
        "id": "CeFtJ5xbMDKW",
        "outputId": "a8bf78fd-79c2-4acf-ee64-e59120af604c"
      },
      "source": [
        "# Initialize intercept and slope as variables\n",
        "intercept = tf.Variable(5.0, tf.float32)\n",
        "slope = tf.Variable(0.001, tf.float32)\n",
        "var_list = [intercept, slope]\n",
        "\n",
        "# Initialize an Adam optimizer\n",
        "opt = tf.keras.optimizers.Adam(0.5)\n",
        "\n",
        "for j in range(100):\n",
        "  # Apply minimize, pass the loss function, and supply the variables\n",
        "  opt.minimize(lambda: loss_function(*var_list), var_list=var_list)\n",
        "\n",
        "  # Print every 10th value of the loss\n",
        "  if j % 10 == 0:\n",
        "    print(loss_function(*var_list).numpy())"
      ],
      "execution_count": 18,
      "outputs": [
        {
          "output_type": "stream",
          "name": "stdout",
          "text": [
            "7.650777\n",
            "10.579771\n",
            "0.32019067\n",
            "1.5415816\n",
            "0.27557558\n",
            "0.4387912\n",
            "0.29008627\n",
            "0.25297967\n",
            "0.25202858\n",
            "0.24904196\n"
          ]
        }
      ]
    },
    {
      "cell_type": "code",
      "metadata": {
        "colab": {
          "base_uri": "https://localhost:8080/",
          "height": 313
        },
        "id": "BNFwaWGLOH5w",
        "outputId": "543aa97d-32a7-4053-bcad-3176a000b4da"
      },
      "source": [
        "from matplotlib import pyplot as plt\n",
        "\n",
        "# Plot data\n",
        "plt.scatter(size_log, price_log, c='black')\n",
        "\n",
        "# Plot model predictions\n",
        "x = np.linspace(8, 12)\n",
        "plt.plot(x, intercept + slope * x, c='red')\n",
        "\n",
        "# Annotations\n",
        "plt.title('Scatterplot of data and fitted regression line')\n",
        "plt.xlabel('log(size)')\n",
        "\n",
        "plt.ylabel('log(price)')"
      ],
      "execution_count": 28,
      "outputs": [
        {
          "output_type": "execute_result",
          "data": {
            "text/plain": [
              "Text(0, 0.5, 'log(price)')"
            ]
          },
          "metadata": {},
          "execution_count": 28
        },
        {
          "output_type": "display_data",
          "data": {
            "image/png": "[encoded data removed]",
            "text/plain": [
              "<Figure size 432x288 with 1 Axes>"
            ]
          },
          "metadata": {
            "needs_background": "light"
          }
        }
      ]
    },
    {
      "cell_type": "code",
      "metadata": {
        "colab": {
          "base_uri": "https://localhost:8080/"
        },
        "id": "d83swoS5TIJX",
        "outputId": "252d936e-a112-4e0b-ef57-ea77268c8bb2"
      },
      "source": [
        "# We will add another feature to the model\n",
        "bedrooms = np.array([3., 3., 2., 4., 3., 4., 3., 3., 3., 3.], dtype=np.float32)\n",
        "\n",
        "# Define parameters as a variable tensor\n",
        "params = tf.Variable([0.1, 0.05, 0.02], tf.float32)\n",
        "\n",
        "\n",
        "# Define the linear regression model\n",
        "def linear_regression(params, feature1=size_log, feature2=bedrooms):\n",
        "  return params[0] + feature1 * params[1] + feature2 * params[2]\n",
        "\n",
        "\n",
        "# Define the loss function\n",
        "def loss_function(params, targets=price_log, feature1=size_log, feature2=bedrooms):\n",
        "  # Set the predicted values\n",
        "  predictions = linear_regression(params, feature1, feature2)\n",
        "\n",
        "  # Use the mean absolute error loss\n",
        "  return tf.keras.losses.mae(targets, predictions)\n",
        "\n",
        "\n",
        "# Define the optimize operation\n",
        "opt = tf.keras.optimizers.Adam()\n",
        "\n",
        "# Perform minimization and print trainable variables\n",
        "for j in range(12 * 100):\n",
        "  opt.minimize(lambda: loss_function(params), var_list=[params])\n",
        "  if j % 100 == 0:\n",
        "    print(params.numpy(), loss_function(params).numpy())\n"
      ],
      "execution_count": 44,
      "outputs": [
        {
          "output_type": "stream",
          "name": "stdout",
          "text": [
            "[0.101 0.051 0.021] 12.1822605\n",
            "[0.20100015 0.15100016 0.12100006] 10.857264\n",
            "[0.30099958 0.25100034 0.22100025] 9.532264\n",
            "[0.4009983  0.35099906 0.32099938] 8.207283\n",
            "[0.500997   0.45099777 0.4209981 ] 6.8823037\n",
            "[0.6009957 0.5509965 0.5209968] 5.5573244\n",
            "[0.70099443 0.6509952  0.6209955 ] 4.232344\n",
            "[0.80099314 0.7509939  0.72099423] 2.907365\n",
            "[0.90099186 0.8509926  0.82099295] 1.5823852\n",
            "[0.9843985  0.9299507  0.89943576] 0.7909258\n",
            "[1.0373633  0.9784519  0.94775754] 0.43075055\n",
            "[1.0387346  0.97638947 0.9454059 ] 0.429959\n",
            "[1.0422698  0.97612876 0.9448865 ] 0.42983675\n"
          ]
        }
      ]
    },
    {
      "cell_type": "code",
      "metadata": {
        "id": "csg-Px5zW6ab"
      },
      "source": [
        "import pandas as pd\n",
        "import numpy as np\n",
        "\n",
        "# Load data in batches\n",
        "for batch in pd.read_csv('kc_house_data.csv', chunksize=100):\n",
        "  # Extract price column\n",
        "  price = np.array(batch.price, np.float32)\n",
        "\n",
        "  # Extract size column\n",
        "  size = np.array(batch.size, np.float32)"
      ],
      "execution_count": 46,
      "outputs": []
    },
    {
      "cell_type": "code",
      "metadata": {
        "id": "LZZGrA6TX3si"
      },
      "source": [
        "import tensorflow as tf\n",
        "import pandas as pd\n",
        "import numpy as np\n",
        "\n",
        "# Define trainable variables\n",
        "intercept = td.Variable(0.1, tf.float32)\n",
        "slope = tf.Variable(0.1, tf.float32)\n",
        "\n",
        "\n",
        "# Define the model\n",
        "def linear_regression(intercept, slope, features):\n",
        "  return intercept + features * slope\n"
      ],
      "execution_count": null,
      "outputs": []
    }
  ]
}
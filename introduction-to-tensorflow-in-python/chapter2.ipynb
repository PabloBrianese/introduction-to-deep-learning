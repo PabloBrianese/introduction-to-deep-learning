{
 "cells": [
  {
   "cell_type": "markdown",
   "metadata": {
    "colab_type": "text",
    "id": "view-in-github"
   },
   "source": [
    "<a href=\"https://colab.research.google.com/github/PabloBrianese/introduction-to-deep-learning/blob/main/chapter2.ipynb\" target=\"_parent\"><img src=\"https://colab.research.google.com/assets/colab-badge.svg\" alt=\"Open In Colab\"/></a>"
   ]
  },
  {
   "cell_type": "code",
   "execution_count": 1,
   "metadata": {},
   "outputs": [],
   "source": [
    "import warnings\n",
    "warnings.filterwarnings('ignore')"
   ]
  },
  {
   "cell_type": "code",
   "execution_count": 2,
   "metadata": {
    "colab": {
     "base_uri": "https://localhost:8080/"
    },
    "id": "6kXUZ4FYzd9y",
    "outputId": "caba733a-d636-4663-bb08-9ac223b07e11"
   },
   "outputs": [
    {
     "data": {
      "text/plain": [
       "0        221900.0\n",
       "1        538000.0\n",
       "2        180000.0\n",
       "3        604000.0\n",
       "4        510000.0\n",
       "           ...   \n",
       "21608    360000.0\n",
       "21609    400000.0\n",
       "21610    402101.0\n",
       "21611    400000.0\n",
       "21612    325000.0\n",
       "Name: price, Length: 21613, dtype: float64"
      ]
     },
     "execution_count": 2,
     "metadata": {},
     "output_type": "execute_result"
    }
   ],
   "source": [
    "import pandas as pd\n",
    "\n",
    "data_path = 'kc_house_data.csv'\n",
    "\n",
    "housing = pd.read_csv(data_path)\n",
    "\n",
    "housing.price"
   ]
  },
  {
   "cell_type": "code",
   "execution_count": 3,
   "metadata": {
    "colab": {
     "base_uri": "https://localhost:8080/"
    },
    "id": "uYT8stAK3M5W",
    "outputId": "2d30088a-21de-4278-a861-960cbd6c3b68"
   },
   "outputs": [
    {
     "name": "stderr",
     "output_type": "stream",
     "text": [
      "2021-12-02 18:20:47.074441: W tensorflow/stream_executor/platform/default/dso_loader.cc:64] Could not load dynamic library 'libcudart.so.11.0'; dlerror: libcudart.so.11.0: cannot open shared object file: No such file or directory\n",
      "2021-12-02 18:20:47.074464: I tensorflow/stream_executor/cuda/cudart_stub.cc:29] Ignore above cudart dlerror if you do not have a GPU set up on your machine.\n"
     ]
    },
    {
     "name": "stdout",
     "output_type": "stream",
     "text": [
      "[221900. 538000. 180000. ... 402101. 400000. 325000.]\n",
      "tf.Tensor([False False False ... False False False], shape=(21613,), dtype=bool)\n"
     ]
    },
    {
     "name": "stderr",
     "output_type": "stream",
     "text": [
      "2021-12-02 18:20:48.525763: W tensorflow/stream_executor/platform/default/dso_loader.cc:64] Could not load dynamic library 'libcuda.so.1'; dlerror: libcuda.so.1: cannot open shared object file: No such file or directory\n",
      "2021-12-02 18:20:48.525791: W tensorflow/stream_executor/cuda/cuda_driver.cc:269] failed call to cuInit: UNKNOWN ERROR (303)\n",
      "2021-12-02 18:20:48.525810: I tensorflow/stream_executor/cuda/cuda_diagnostics.cc:156] kernel driver does not appear to be running on this host (AR2RCD0J3): /proc/driver/nvidia/version does not exist\n",
      "2021-12-02 18:20:48.526129: I tensorflow/core/platform/cpu_feature_guard.cc:151] This TensorFlow binary is optimized with oneAPI Deep Neural Network Library (oneDNN) to use the following CPU instructions in performance-critical operations:  AVX2 AVX512F FMA\n",
      "To enable them in other operations, rebuild TensorFlow with the appropriate compiler flags.\n"
     ]
    }
   ],
   "source": [
    "import numpy as np\n",
    "import tensorflow as tf\n",
    "\n",
    "# Use a numpy array to define price as a 32-bit float\n",
    "price = np.array(housing.price, np.float32)\n",
    "\n",
    "# Define waterfront as a Boolean using cast\n",
    "waterfront = tf.cast(housing.waterfront, tf.bool)\n",
    "\n",
    "print(price); print(waterfront)"
   ]
  },
  {
   "cell_type": "code",
   "execution_count": 17,
   "metadata": {
    "colab": {
     "base_uri": "https://localhost:8080/"
    },
    "id": "w3rzgmq04EPs",
    "outputId": "9adbc2d6-aeca-4320-f1a6-47335c57b22f"
   },
   "outputs": [
    {
     "data": {
      "text/plain": [
       "<tf.Tensor: shape=(), dtype=float32, numpy=0.009999992>"
      ]
     },
     "execution_count": 17,
     "metadata": {},
     "output_type": "execute_result"
    }
   ],
   "source": [
    "# Compute the MSE loss\n",
    "targets = [1, 2]\n",
    "predictions = [1.1, 2.1]\n",
    "loss = tf.keras.losses.mse(targets, predictions)\n",
    "loss"
   ]
  },
  {
   "cell_type": "code",
   "execution_count": 18,
   "metadata": {
    "colab": {
     "base_uri": "https://localhost:8080/"
    },
    "id": "f1iVRLBg5Zs8",
    "outputId": "e4fff8b7-3db4-40c9-bf66-fd4afe3684e4"
   },
   "outputs": [],
   "source": [
    "# Define a a linear regression model\n",
    "def linear_regression(intercept, slope, features):\n",
    "  return intercept + features * slope\n",
    "\n",
    "\n",
    "# Define a loss function to compute the MSE\n",
    "def loss_function(intercept, slope, targets, features):\n",
    "  # Compute the predictions for a linear model\n",
    "  predictions = linear_regression(intercept, slope, features)\n",
    "\n",
    "  # Compute the MSE loss\n",
    "  loss = tf.keras.losses.mse(targets, predictions)\n",
    "  \n",
    "  return loss\n",
    "\n",
    "\n",
    "intercept = 0\n",
    "slope = 1\n",
    "targets = np.ones([5])\n",
    "features = np.zeros([5])\n",
    "\n",
    "loss_function(intercept, slope, targets, features)"
   ]
  },
  {
   "cell_type": "code",
   "execution_count": 20,
   "metadata": {
    "colab": {
     "base_uri": "https://localhost:8080/"
    },
    "id": "f1iVRLBg5Zs8",
    "outputId": "e4fff8b7-3db4-40c9-bf66-fd4afe3684e4"
   },
   "outputs": [
    {
     "name": "stdout",
     "output_type": "stream",
     "text": [
      "82596247419.03\n",
      "212375.63850444002\n"
     ]
    }
   ],
   "source": [
    "# Tensor of house prices\n",
    "price = np.array([ 221900.,  538000.,  180000.,  604000.,  510000., 1225000.,\n",
    "        257500.,  291850.,  229500.,  323000.], dtype=np.float32)\n",
    "\n",
    "# Tensor of predicted house prices\n",
    "predictions = np.array([154546.51228417, 153942.9622033 ,  40833.26164156, 332994.12052607,\n",
    "       366929.17459064, 518305.41365246, 252546.78108404, 199867.55920599,\n",
    "       110373.87139066, 126653.95837671])\n",
    "\n",
    "# Import the keras module from tensorflow\n",
    "from tensorflow import keras\n",
    "\n",
    "# Compute the mean squared error (mse)\n",
    "mse = keras.losses.mse(price, predictions)\n",
    "\n",
    "print(mse.numpy())\n",
    "\n",
    "# Compute the mean absolute error (mae)\n",
    "mae = keras.losses.mae(price, predictions)\n",
    "\n",
    "print(mae.numpy())"
   ]
  },
  {
   "cell_type": "code",
   "execution_count": 7,
   "metadata": {
    "colab": {
     "base_uri": "https://localhost:8080/"
    },
    "id": "hEgm_EBoKA_-",
    "outputId": "b1414929-aa4a-49b1-912b-3bce06fa6ddd"
   },
   "outputs": [
    {
     "data": {
      "text/plain": [
       "3.0"
      ]
     },
     "execution_count": 7,
     "metadata": {},
     "output_type": "execute_result"
    }
   ],
   "source": [
    "features = tf.constant([1., 2., 3., 4., 5.], dtype=tf.float32)\n",
    "targets = tf.constant([ 2.,  4.,  6.,  8., 10.], dtype=tf.float32)\n",
    "\n",
    "# Initialize a variable named scalar\n",
    "scalar = tf.Variable(1.0, dtype=tf.float32)\n",
    "\n",
    "\n",
    "# Define the model\n",
    "def model(scalar, features=features):\n",
    "  return scalar * features\n",
    "\n",
    "\n",
    "# Define a loss function\n",
    "def loss_function(scalar, features=features, targets=targets):\n",
    "  # Compute the predicted values\n",
    "  predictions = model(scalar, features)\n",
    "\n",
    "  # Return the mean absolute error loss\n",
    "  return keras.losses.mae(targets, predictions)\n",
    "\n",
    "\n",
    "# Evaluate the loss function and print the loss\n",
    "loss_function(scalar).numpy()"
   ]
  },
  {
   "cell_type": "code",
   "execution_count": 23,
   "metadata": {
    "colab": {
     "base_uri": "https://localhost:8080/"
    },
    "id": "cgL8T2jSMwZe",
    "outputId": "5f06416d-3e4a-4b10-995d-24bbb6f02f53"
   },
   "outputs": [
    {
     "name": "stdout",
     "output_type": "stream",
     "text": [
      "tf.Tensor(426196570000.0, shape=(), dtype=float32)\n",
      "tf.Tensor(424267970000.0, shape=(), dtype=float32)\n",
      "tf.Tensor(423781340000.0, shape=(), dtype=float32)\n",
      "tf.Tensor(423756560000.0, shape=(), dtype=float32)\n",
      "tf.Tensor(423756460000.0, shape=(), dtype=float32)\n",
      "tf.Tensor(423756400000.0, shape=(), dtype=float32)\n",
      "tf.Tensor(423756400000.0, shape=(), dtype=float32)\n",
      "tf.Tensor(423756400000.0, shape=(), dtype=float32)\n",
      "tf.Tensor(423756400000.0, shape=(), dtype=float32)\n",
      "tf.Tensor(423756400000.0, shape=(), dtype=float32)\n",
      "0.96478355 0.99961174\n"
     ]
    }
   ],
   "source": [
    "# Define the targets and features\n",
    "price = np.array(housing.price, np.float32)\n",
    "size = np.array(housing.sqft_living, np.float32)\n",
    "\n",
    "# Define the intercept and slope, as trainable Variables\n",
    "intercept = tf.Variable(0.1, np.float32)\n",
    "slope = tf.Variable(0.1, np.float32)\n",
    "var_list = [intercept, slope]\n",
    "\n",
    "\n",
    "# Define a linear regression model\n",
    "def linear_regression(intercept, slope, features):\n",
    "  return intercept + features * slope\n",
    "\n",
    "\n",
    "# Compute the predicted values and loss\n",
    "def loss_function(intercept, slope, targets=price, features=size):\n",
    "  predictions = linear_regression(intercept, slope, features)\n",
    "  return tf.keras.losses.mse(targets, predictions)\n",
    "\n",
    "\n",
    "# Define an optimization operation\n",
    "opt = tf.keras.optimizers.Adam()\n",
    "\n",
    "# Minimize the loss function and print the loss\n",
    "for j in range(10000):\n",
    "  opt.minimize(lambda: loss_function(*var_list, size), var_list=var_list)\n",
    "  if not j % 1000: print(loss_function(*var_list))\n",
    "\n",
    "\n",
    "print(intercept.numpy(), slope.numpy())"
   ]
  },
  {
   "cell_type": "code",
   "execution_count": 27,
   "metadata": {
    "colab": {
     "base_uri": "https://localhost:8080/"
    },
    "id": "IOYHUP-KJfy_",
    "outputId": "4b82e3eb-85f0-41b1-834a-f5bad29620f1"
   },
   "outputs": [
    {
     "data": {
      "text/plain": [
       "<AxesSubplot:>"
      ]
     },
     "execution_count": 27,
     "metadata": {},
     "output_type": "execute_result"
    },
    {
     "data": {
      "image/png": "[encoded data removed]",
      "text/plain": [
       "<Figure size 432x288 with 1 Axes>"
      ]
     },
     "metadata": {
      "needs_background": "light"
     },
     "output_type": "display_data"
    }
   ],
   "source": [
    "np.log(housing.price).hist()"
   ]
  },
  {
   "cell_type": "code",
   "execution_count": 10,
   "metadata": {
    "colab": {
     "base_uri": "https://localhost:8080/"
    },
    "id": "68a1csVnIx1Q",
    "outputId": "2383e6da-5a4f-41f8-f0d8-46be7ba33733"
   },
   "outputs": [
    {
     "name": "stdout",
     "output_type": "stream",
     "text": [
      "139.50249\n",
      "66.45302\n"
     ]
    }
   ],
   "source": [
    "size_log = np.array([ 8.639411 ,  8.887652 ,  9.2103405,  8.517193 ,  8.997148 ,\n",
    "       11.532042 ,  8.827468 ,  9.181015 ,  8.918651 ,  8.788746 ],\n",
    "      dtype=np.float32)\n",
    "price_log = np.array([12.309982, 13.195614, 12.100712, 13.31133 , 13.142166, 14.018452,\n",
    "       12.458775, 12.583995, 12.343658, 12.685408], dtype=np.float32)\n",
    "\n",
    "\n",
    "# Define a linear regression model\n",
    "def linear_regression(intercept, slope, features = size_log):\n",
    "  return intercept + features * slope\n",
    "\n",
    "\n",
    "# Set loss_function() to take the variables as arguments\n",
    "def loss_function(intercept, slope, features=size_log, targets=price_log):\n",
    "  # Set the predicted values\n",
    "  predictions = linear_regression(intercept, slope, features)\n",
    "\n",
    "  # Compute the mean squared error loss\n",
    "  mse = tf.keras.losses.mse(targets, predictions)\n",
    "\n",
    "  return mse\n",
    "\n",
    "\n",
    "# Compute the loss for different slope and intercept values\n",
    "print(loss_function(0.1, 0.1).numpy())\n",
    "print(loss_function(0.1, 0.5).numpy())"
   ]
  },
  {
   "cell_type": "code",
   "execution_count": 28,
   "metadata": {
    "colab": {
     "base_uri": "https://localhost:8080/"
    },
    "id": "CeFtJ5xbMDKW",
    "outputId": "a8bf78fd-79c2-4acf-ee64-e59120af604c"
   },
   "outputs": [
    {
     "name": "stdout",
     "output_type": "stream",
     "text": [
      "425103980000.0\n",
      "411664500000.0\n",
      "398531170000.0\n",
      "385733850000.0\n",
      "373289840000.0\n",
      "361205960000.0\n",
      "349482120000.0\n",
      "338114800000.0\n",
      "327098600000.0\n",
      "316427300000.0\n"
     ]
    }
   ],
   "source": [
    "# Initialize intercept and slope as variables\n",
    "intercept = tf.Variable(5.0, tf.float32)\n",
    "slope = tf.Variable(0.001, tf.float32)\n",
    "var_list = [intercept, slope]\n",
    "\n",
    "# Initialize an Adam optimizer\n",
    "opt = tf.keras.optimizers.Adam(0.5)\n",
    "\n",
    "for j in range(100):\n",
    "  # Apply minimize, pass the loss function, and supply the variables\n",
    "  opt.minimize(lambda: loss_function(*var_list), var_list=var_list)\n",
    "\n",
    "  # Print every 10th value of the loss\n",
    "  if j % 10 == 0:\n",
    "    print(loss_function(*var_list).numpy())"
   ]
  },
  {
   "cell_type": "code",
   "execution_count": 12,
   "metadata": {
    "colab": {
     "base_uri": "https://localhost:8080/",
     "height": 313
    },
    "id": "BNFwaWGLOH5w",
    "outputId": "543aa97d-32a7-4053-bcad-3176a000b4da"
   },
   "outputs": [
    {
     "data": {
      "text/plain": [
       "Text(0, 0.5, 'log(price)')"
      ]
     },
     "execution_count": 12,
     "metadata": {},
     "output_type": "execute_result"
    },
    {
     "data": {
      "image/png": "[encoded data removed]",
      "text/plain": [
       "<Figure size 432x288 with 1 Axes>"
      ]
     },
     "metadata": {
      "needs_background": "light"
     },
     "output_type": "display_data"
    }
   ],
   "source": [
    "from matplotlib import pyplot as plt\n",
    "\n",
    "# Plot data\n",
    "plt.scatter(size_log, price_log, c='black')\n",
    "\n",
    "# Plot model predictions\n",
    "x = np.linspace(8, 12)\n",
    "plt.plot(x, intercept + slope * x, c='red')\n",
    "\n",
    "# Annotations\n",
    "plt.title('Scatterplot of data and fitted regression line')\n",
    "plt.xlabel('log(size)')\n",
    "\n",
    "plt.ylabel('log(price)')"
   ]
  },
  {
   "cell_type": "code",
   "execution_count": 13,
   "metadata": {
    "colab": {
     "base_uri": "https://localhost:8080/"
    },
    "id": "d83swoS5TIJX",
    "outputId": "252d936e-a112-4e0b-ef57-ea77268c8bb2"
   },
   "outputs": [
    {
     "name": "stdout",
     "output_type": "stream",
     "text": [
      "[0.101 0.051 0.021] 12.1822605\n",
      "[0.20100014 0.15100016 0.12100006] 10.857264\n",
      "[0.30099958 0.25100034 0.22100025] 9.532264\n",
      "[0.4009983  0.35099906 0.32099938] 8.207283\n",
      "[0.500997   0.45099777 0.4209981 ] 6.8823037\n",
      "[0.6009957 0.5509965 0.5209968] 5.5573244\n",
      "[0.70099443 0.6509952  0.6209955 ] 4.232344\n",
      "[0.80099314 0.7509939  0.72099423] 2.907365\n",
      "[0.90099186 0.8509926  0.82099295] 1.5823852\n",
      "[0.9843985  0.9299507  0.89943576] 0.7909258\n",
      "[1.0373633  0.9784519  0.94775754] 0.43075055\n",
      "[1.0387346  0.97638947 0.9454059 ] 0.429959\n"
     ]
    }
   ],
   "source": [
    "# We will add another feature to the model\n",
    "bedrooms = np.array([3., 3., 2., 4., 3., 4., 3., 3., 3., 3.], dtype=np.float32)\n",
    "\n",
    "# Define parameters as a variable tensor\n",
    "params = tf.Variable([0.1, 0.05, 0.02], tf.float32)\n",
    "\n",
    "\n",
    "# Define the linear regression model\n",
    "def linear_regression(params, feature1=size_log, feature2=bedrooms):\n",
    "  return params[0] + feature1 * params[1] + feature2 * params[2]\n",
    "\n",
    "\n",
    "# Define the loss function\n",
    "def loss_function(params, targets=price_log, feature1=size_log, feature2=bedrooms):\n",
    "  # Set the predicted values\n",
    "  predictions = linear_regression(params, feature1, feature2)\n",
    "\n",
    "  # Use the mean absolute error loss\n",
    "  return tf.keras.losses.mae(targets, predictions)\n",
    "\n",
    "\n",
    "# Define the optimize operation\n",
    "opt = tf.keras.optimizers.Adam()\n",
    "\n",
    "# Perform minimization and print trainable variables\n",
    "for j in range(12 * 100):\n",
    "  opt.minimize(lambda: loss_function(params), var_list=[params])\n",
    "  if j % 100 == 0:\n",
    "    print(params.numpy(), loss_function(params).numpy())\n"
   ]
  },
  {
   "cell_type": "code",
   "execution_count": 14,
   "metadata": {
    "id": "csg-Px5zW6ab"
   },
   "outputs": [],
   "source": [
    "# Batch training\n",
    "import pandas as pd\n",
    "import numpy as np\n",
    "\n",
    "# Load data in batches\n",
    "for batch in pd.read_csv('kc_house_data.csv', chunksize=100):\n",
    "  # Extract price column\n",
    "  price = np.array(batch.price, np.float32)\n",
    "\n",
    "  # Extract size column\n",
    "  size = np.array(batch.size, np.float32)"
   ]
  },
  {
   "cell_type": "code",
   "execution_count": 29,
   "metadata": {
    "id": "LZZGrA6TX3si"
   },
   "outputs": [
    {
     "name": "stdout",
     "output_type": "stream",
     "text": [
      "0.31781912 0.29831016\n"
     ]
    }
   ],
   "source": [
    "import tensorflow as tf\n",
    "import pandas as pd\n",
    "import numpy as np\n",
    "\n",
    "# Define trainable variables\n",
    "intercept = tf.Variable(0.1, tf.float32)\n",
    "slope = tf.Variable(0.1, tf.float32)\n",
    "\n",
    "\n",
    "# Define the model\n",
    "def linear_regression(intercept, slope, features):\n",
    "  return intercept + features * slope\n",
    "\n",
    "\n",
    "# Compute the predicted values and return the loss\n",
    "def loss_function(intercept, slope, targets, features):\n",
    "  predictions = linear_regression(intercept, slope, features)\n",
    "  return tf.keras.losses.mse(targets, predictions)\n",
    "\n",
    "\n",
    "# Define optimization operation\n",
    "opt = tf.keras.optimizers.Adam()\n",
    "\n",
    "# Load the data in batches from pandas\n",
    "for batch in pd.read_csv('kc_house_data.csv', chunksize=100):\n",
    "  # Extract the target and feature columns\n",
    "  price_batch = np.array(batch.price, np.float32)\n",
    "  size_batch = np.array(batch.sqft_lot, np.float32)\n",
    "  \n",
    "  # Minimize the loss function\n",
    "  opt.minimize(lambda: loss_function(intercept, slope, price_batch, size_batch), var_list=[intercept, slope])\n",
    "\n",
    "\n",
    "print(intercept.numpy(), slope.numpy())"
   ]
  },
  {
   "cell_type": "code",
   "execution_count": 30,
   "metadata": {},
   "outputs": [
    {
     "data": {
      "text/plain": [
       "21613"
      ]
     },
     "execution_count": 30,
     "metadata": {},
     "output_type": "execute_result"
    }
   ],
   "source": [
    "len(housing)"
   ]
  }
 ],
 "metadata": {
  "colab": {
   "authorship_tag": "ABX9TyP87Ef1GptgUZdKDAxHlABr",
   "collapsed_sections": [],
   "include_colab_link": true,
   "name": "chapter2.ipynb",
   "provenance": []
  },
  "kernelspec": {
   "display_name": "Python 3 (ipykernel)",
   "language": "python",
   "name": "python3"
  },
  "language_info": {
   "codemirror_mode": {
    "name": "ipython",
    "version": 3
   },
   "file_extension": ".py",
   "mimetype": "text/x-python",
   "name": "python",
   "nbconvert_exporter": "python",
   "pygments_lexer": "ipython3",
   "version": "3.8.10"
  }
 },
 "nbformat": 4,
 "nbformat_minor": 4
}

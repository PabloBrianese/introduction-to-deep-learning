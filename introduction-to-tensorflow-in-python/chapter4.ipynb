{
 "cells": [
  {
   "cell_type": "markdown",
   "metadata": {
    "colab_type": "text",
    "id": "view-in-github"
   },
   "source": [
    "<a href=\"https://colab.research.google.com/github/PabloBrianese/introduction-to-deep-learning/blob/main/chapter4.ipynb\" target=\"_parent\"><img src=\"https://colab.research.google.com/assets/colab-badge.svg\" alt=\"Open In Colab\"/></a>"
   ]
  },
  {
   "cell_type": "code",
   "execution_count": 1,
   "metadata": {},
   "outputs": [
    {
     "name": "stderr",
     "output_type": "stream",
     "text": [
      "2021-11-09 09:45:04.742484: W tensorflow/stream_executor/platform/default/dso_loader.cc:64] Could not load dynamic library 'libcudart.so.11.0'; dlerror: libcudart.so.11.0: cannot open shared object file: No such file or directory\n",
      "2021-11-09 09:45:04.742536: I tensorflow/stream_executor/cuda/cudart_stub.cc:29] Ignore above cudart dlerror if you do not have a GPU set up on your machine.\n"
     ]
    }
   ],
   "source": [
    "import tensorflow as tf"
   ]
  },
  {
   "cell_type": "code",
   "execution_count": 2,
   "metadata": {
    "colab": {
     "base_uri": "https://localhost:8080/"
    },
    "id": "65XMUtIkajBd",
    "outputId": "16044a01-a72d-4798-bfa5-6af50498c317"
   },
   "outputs": [
    {
     "name": "stdout",
     "output_type": "stream",
     "text": [
      "Model: \"sequential\"\n",
      "_________________________________________________________________\n",
      "Layer (type)                 Output Shape              Param #   \n",
      "=================================================================\n",
      "dense (Dense)                (None, 16)                12560     \n",
      "_________________________________________________________________\n",
      "dense_1 (Dense)              (None, 8)                 136       \n",
      "_________________________________________________________________\n",
      "dense_2 (Dense)              (None, 4)                 36        \n",
      "=================================================================\n",
      "Total params: 12,732\n",
      "Trainable params: 12,732\n",
      "Non-trainable params: 0\n",
      "_________________________________________________________________\n"
     ]
    },
    {
     "name": "stderr",
     "output_type": "stream",
     "text": [
      "2021-11-09 09:45:07.766433: W tensorflow/stream_executor/platform/default/dso_loader.cc:64] Could not load dynamic library 'libcuda.so.1'; dlerror: libcuda.so.1: cannot open shared object file: No such file or directory\n",
      "2021-11-09 09:45:07.766520: W tensorflow/stream_executor/cuda/cuda_driver.cc:269] failed call to cuInit: UNKNOWN ERROR (303)\n",
      "2021-11-09 09:45:07.766546: I tensorflow/stream_executor/cuda/cuda_diagnostics.cc:156] kernel driver does not appear to be running on this host (DESKTOP-FC4EGDV): /proc/driver/nvidia/version does not exist\n",
      "2021-11-09 09:45:07.766787: I tensorflow/core/platform/cpu_feature_guard.cc:142] This TensorFlow binary is optimized with oneAPI Deep Neural Network Library (oneDNN) to use the following CPU instructions in performance-critical operations:  AVX2 FMA\n",
      "To enable them in other operations, rebuild TensorFlow with the appropriate compiler flags.\n"
     ]
    }
   ],
   "source": [
    "# Building a sequential model\n",
    "\n",
    "# Import tensorflow\n",
    "from tensorflow import keras\n",
    "\n",
    "# Define a sequential model\n",
    "model = keras.Sequential()\n",
    "\n",
    "# Define first hidden layer\n",
    "model.add(keras.layers.Dense(16, activation='relu', input_shape=(28*28,)))\n",
    "\n",
    "# Define second hidden layer\n",
    "model.add(keras.layers.Dense(8, activation='relu'))\n",
    "\n",
    "# Define output layer\n",
    "model.add(keras.layers.Dense(4, activation='softmax'))\n",
    "\n",
    "# Compile the model\n",
    "model.compile('adam', loss='categorical_crossentropy')\n",
    "\n",
    "# Summarize the model\n",
    "model.summary()"
   ]
  },
  {
   "cell_type": "code",
   "execution_count": 3,
   "metadata": {
    "id": "fQ8FmAn-fsEQ"
   },
   "outputs": [],
   "source": [
    "# Functional API\n",
    "import tensorflow as tf\n",
    "\n",
    "# Define model 1 input layer shape\n",
    "model1_inputs = tf.keras.Input(shape=(10,))\n",
    "\n",
    "# Define model 2 input layer shape\n",
    "model2_inputs = tf.keras.Input(shape=(10,))\n",
    "\n",
    "# Define layer 1 for model 1\n",
    "model1_layer1 = tf.keras.layers.Dense(12, activation='relu')(model1_inputs)\n",
    "# Define layer 2 for model 1\n",
    "model1_layer2 = tf.keras.layers.Dense(4, activation='softmax')(model1_layer1)\n",
    "\n",
    "# Define layer 1 for model 2\n",
    "model2_layer1 = tf.keras.layers.Dense(8, activation='relu')(model2_inputs)\n",
    "# Define layer 2 for model 2\n",
    "model2_layer2 = tf.keras.layers.Dense(4, activation='softmax')(model2_layer1)\n",
    "\n",
    "# Merge model 1 and model 2\n",
    "merged = tf.keras.layers.add([model1_layer2, model2_layer2])\n",
    "\n",
    "# Define a functional model\n",
    "model = tf.keras.Model(inputs=[model1_inputs, model2_inputs], outputs=merged)\n",
    "\n",
    "# Compile the model\n",
    "model.compile('adam', loss='categorical_crossentropy')"
   ]
  },
  {
   "cell_type": "code",
   "execution_count": 4,
   "metadata": {
    "colab": {
     "base_uri": "https://localhost:8080/"
    },
    "id": "OBXdAwRHiH5M",
    "outputId": "185eab4d-1825-4ca4-dbfc-87a9dd0f88bb"
   },
   "outputs": [
    {
     "name": "stdout",
     "output_type": "stream",
     "text": [
      "Model: \"sequential_1\"\n",
      "_________________________________________________________________\n",
      "Layer (type)                 Output Shape              Param #   \n",
      "=================================================================\n",
      "dense_7 (Dense)              (None, 16)                12560     \n",
      "_________________________________________________________________\n",
      "dense_8 (Dense)              (None, 8)                 136       \n",
      "_________________________________________________________________\n",
      "dense_9 (Dense)              (None, 4)                 36        \n",
      "=================================================================\n",
      "Total params: 12,732\n",
      "Trainable params: 12,732\n",
      "Non-trainable params: 0\n",
      "_________________________________________________________________\n"
     ]
    }
   ],
   "source": [
    "# The sequential model in Keras\n",
    "\n",
    "# Define a Keras sequential model\n",
    "model = keras.Sequential()\n",
    "\n",
    "# Define the first dense layer\n",
    "model.add(keras.layers.Dense(16, activation='relu', input_shape=(28*28,)))\n",
    "\n",
    "# Define the second dense layer\n",
    "model.add(keras.layers.Dense(8, activation='relu'))\n",
    "\n",
    "# Define the output layer\n",
    "model.add(keras.layers.Dense(4, activation='softmax'))\n",
    "\n",
    "# Print the model arquitecture\n",
    "model.summary()"
   ]
  },
  {
   "cell_type": "code",
   "execution_count": 5,
   "metadata": {
    "colab": {
     "base_uri": "https://localhost:8080/"
    },
    "id": "KwQf0cmAnD1f",
    "outputId": "7c6612a4-6ede-4246-d5dd-4707bce0313c"
   },
   "outputs": [
    {
     "name": "stdout",
     "output_type": "stream",
     "text": [
      "Model: \"sequential_2\"\n",
      "_________________________________________________________________\n",
      "Layer (type)                 Output Shape              Param #   \n",
      "=================================================================\n",
      "dense_10 (Dense)             (None, 16)                12560     \n",
      "_________________________________________________________________\n",
      "dropout (Dropout)            (None, 16)                0         \n",
      "_________________________________________________________________\n",
      "dense_11 (Dense)             (None, 4)                 68        \n",
      "=================================================================\n",
      "Total params: 12,628\n",
      "Trainable params: 12,628\n",
      "Non-trainable params: 0\n",
      "_________________________________________________________________\n"
     ]
    }
   ],
   "source": [
    "# Compiling a sequential model\n",
    "\n",
    "from tensorflow import keras\n",
    "from tensorflow.keras.layers import Dense, Dropout\n",
    "\n",
    "model = keras.Sequential()\n",
    "\n",
    "# Define the first dense layer\n",
    "model.add(Dense(16, activation='sigmoid', input_shape=(28*28,)))\n",
    "\n",
    "# Apply dropout to the first layer's output\n",
    "model.add(Dropout(0.25))\n",
    "\n",
    "# Define the output layer\n",
    "model.add(Dense(4, activation='softmax'))\n",
    "\n",
    "# Compile the model\n",
    "model.compile('adam', loss='categorical_crossentropy')\n",
    "\n",
    "model.summary()"
   ]
  },
  {
   "cell_type": "code",
   "execution_count": 6,
   "metadata": {
    "colab": {
     "base_uri": "https://localhost:8080/"
    },
    "id": "_N6kk-7tqIP2",
    "outputId": "bffa0833-4d96-48f1-a719-b7cb8df200fd"
   },
   "outputs": [
    {
     "name": "stdout",
     "output_type": "stream",
     "text": [
      "Model: \"model_1\"\n",
      "__________________________________________________________________________________________________\n",
      "Layer (type)                    Output Shape         Param #     Connected to                     \n",
      "==================================================================================================\n",
      "input_3 (InputLayer)            [(None, 784)]        0                                            \n",
      "__________________________________________________________________________________________________\n",
      "input_4 (InputLayer)            [(None, 784)]        0                                            \n",
      "__________________________________________________________________________________________________\n",
      "dense_12 (Dense)                (None, 12)           9420        input_3[0][0]                    \n",
      "__________________________________________________________________________________________________\n",
      "dense_14 (Dense)                (None, 12)           9420        input_4[0][0]                    \n",
      "__________________________________________________________________________________________________\n",
      "dense_13 (Dense)                (None, 4)            52          dense_12[0][0]                   \n",
      "__________________________________________________________________________________________________\n",
      "dense_15 (Dense)                (None, 4)            52          dense_14[0][0]                   \n",
      "__________________________________________________________________________________________________\n",
      "add_1 (Add)                     (None, 4)            0           dense_13[0][0]                   \n",
      "                                                                 dense_15[0][0]                   \n",
      "==================================================================================================\n",
      "Total params: 18,944\n",
      "Trainable params: 18,944\n",
      "Non-trainable params: 0\n",
      "__________________________________________________________________________________________________\n"
     ]
    }
   ],
   "source": [
    "# Defining a multiple input model\n",
    "\n",
    "from tensorflow import keras\n",
    "\n",
    "# Define inputs for model 1\n",
    "m1_inputs = keras.Input(shape=(28*28,))\n",
    "# Define inputs for model 2\n",
    "m2_inputs = keras.Input(shape=(28*28,))\n",
    "\n",
    "# For model 1, pass the input layer to layer 1 and layer 1 to layer 2\n",
    "m1_layer1 = keras.layers.Dense(12, activation='sigmoid')(m1_inputs)\n",
    "m1_layer2 = keras.layers.Dense(4, activation='softmax')(m1_layer1)\n",
    "\n",
    "# For model 2, pass the input layer to layer 1 and layer 1 to layer 2\n",
    "m2_layer1 = keras.layers.Dense(12, activation='relu')(m2_inputs)\n",
    "m2_layer2 = keras.layers.Dense(4, activation='softmax')(m2_layer1)\n",
    "\n",
    "# Merge model outputs and define a functional model\n",
    "merged = keras.layers.add([m1_layer2, m2_layer2])\n",
    "model = keras.Model(inputs=[m1_inputs, m2_inputs], outputs=merged)\n",
    "\n",
    "model.summary()"
   ]
  },
  {
   "cell_type": "code",
   "execution_count": 7,
   "metadata": {},
   "outputs": [],
   "source": [
    "import pandas as pd\n",
    "\n",
    "data_train = pd.read_csv('./digit-recognizer/train.csv')\n",
    "\n",
    "X = data_train.drop('label', axis=1).values\n",
    "y = pd.get_dummies(data_train['label']).values\n",
    "\n",
    "from sklearn.model_selection import train_test_split\n",
    "\n",
    "X_train, X_test, y_train, y_test = train_test_split(X, y, test_size=0.2)"
   ]
  },
  {
   "cell_type": "code",
   "execution_count": 8,
   "metadata": {},
   "outputs": [
    {
     "name": "stderr",
     "output_type": "stream",
     "text": [
      "2021-11-09 09:45:13.202261: I tensorflow/compiler/mlir/mlir_graph_optimization_pass.cc:185] None of the MLIR Optimization Passes are enabled (registered 2)\n"
     ]
    },
    {
     "name": "stdout",
     "output_type": "stream",
     "text": [
      "1050/1050 [==============================] - 2s 1ms/step - loss: 2.9732\n"
     ]
    },
    {
     "data": {
      "text/plain": [
       "<keras.callbacks.History at 0x7f947415fac0>"
      ]
     },
     "execution_count": 8,
     "metadata": {},
     "output_type": "execute_result"
    }
   ],
   "source": [
    "# Training and validation with Keras\n",
    "\n",
    "# Define a sequential model\n",
    "model = tf.keras.Sequential()\n",
    "\n",
    "# Define the hidden layer\n",
    "model.add(tf.keras.layers.Dense(16, activation='relu', input_shape=(28*28,)))\n",
    "\n",
    "# Define the output layer\n",
    "model.add(tf.keras.layers.Dense(10, activation='softmax'))\n",
    "\n",
    "# Compile the model\n",
    "model.compile('adam', loss='categorical_crossentropy')\n",
    "\n",
    "# Train model\n",
    "model.fit(X_train, y_train)"
   ]
  },
  {
   "cell_type": "code",
   "execution_count": 9,
   "metadata": {},
   "outputs": [
    {
     "name": "stdout",
     "output_type": "stream",
     "text": [
      "Epoch 1/10\n",
      "840/840 [==============================] - 1s 2ms/step - loss: 2.0628 - val_loss: 2.0400\n",
      "Epoch 2/10\n",
      "840/840 [==============================] - 1s 1ms/step - loss: 1.8345 - val_loss: 1.6344\n",
      "Epoch 3/10\n",
      "840/840 [==============================] - 1s 1ms/step - loss: 1.5481 - val_loss: 1.4676\n",
      "Epoch 4/10\n",
      "840/840 [==============================] - 1s 1ms/step - loss: 1.3752 - val_loss: 1.3348\n",
      "Epoch 5/10\n",
      "840/840 [==============================] - 1s 1ms/step - loss: 1.2687 - val_loss: 1.2746\n",
      "Epoch 6/10\n",
      "840/840 [==============================] - 1s 1ms/step - loss: 1.1805 - val_loss: 1.2865\n",
      "Epoch 7/10\n",
      "840/840 [==============================] - 1s 1ms/step - loss: 1.1309 - val_loss: 1.1360\n",
      "Epoch 8/10\n",
      "840/840 [==============================] - 1s 1ms/step - loss: 1.0926 - val_loss: 1.0938\n",
      "Epoch 9/10\n",
      "840/840 [==============================] - 1s 1ms/step - loss: 1.0386 - val_loss: 1.0490\n",
      "Epoch 10/10\n",
      "840/840 [==============================] - 1s 1ms/step - loss: 0.9959 - val_loss: 1.0149\n"
     ]
    },
    {
     "data": {
      "text/plain": [
       "<keras.callbacks.History at 0x7f93e46d6b50>"
      ]
     },
     "execution_count": 9,
     "metadata": {},
     "output_type": "execute_result"
    }
   ],
   "source": [
    "# Train model with validation split\n",
    "model.fit(X_train, y_train, epochs=10, validation_split=0.20)"
   ]
  },
  {
   "cell_type": "code",
   "execution_count": 10,
   "metadata": {},
   "outputs": [
    {
     "name": "stdout",
     "output_type": "stream",
     "text": [
      "Epoch 1/10\n",
      "840/840 [==============================] - 2s 2ms/step - loss: 0.9616 - accuracy: 0.6298 - val_loss: 0.9702 - val_accuracy: 0.6171\n",
      "Epoch 2/10\n",
      "840/840 [==============================] - 1s 2ms/step - loss: 0.9195 - accuracy: 0.6461 - val_loss: 0.9392 - val_accuracy: 0.6548\n",
      "Epoch 3/10\n",
      "840/840 [==============================] - 1s 2ms/step - loss: 0.8950 - accuracy: 0.6638 - val_loss: 0.9195 - val_accuracy: 0.6403\n",
      "Epoch 4/10\n",
      "840/840 [==============================] - 1s 2ms/step - loss: 0.8504 - accuracy: 0.6810 - val_loss: 0.8886 - val_accuracy: 0.6763\n",
      "Epoch 5/10\n",
      "840/840 [==============================] - 1s 2ms/step - loss: 0.8389 - accuracy: 0.6867 - val_loss: 0.8447 - val_accuracy: 0.7058\n",
      "Epoch 6/10\n",
      "840/840 [==============================] - 1s 2ms/step - loss: 0.8191 - accuracy: 0.6981 - val_loss: 0.8760 - val_accuracy: 0.6832\n",
      "Epoch 7/10\n",
      "840/840 [==============================] - 1s 2ms/step - loss: 0.7954 - accuracy: 0.7071 - val_loss: 0.8138 - val_accuracy: 0.7228\n",
      "Epoch 8/10\n",
      "840/840 [==============================] - 1s 2ms/step - loss: 0.7779 - accuracy: 0.7163 - val_loss: 0.8875 - val_accuracy: 0.6938\n",
      "Epoch 9/10\n",
      "840/840 [==============================] - 1s 2ms/step - loss: 0.7725 - accuracy: 0.7183 - val_loss: 0.8390 - val_accuracy: 0.7135\n",
      "Epoch 10/10\n",
      "840/840 [==============================] - 1s 2ms/step - loss: 0.7582 - accuracy: 0.7276 - val_loss: 0.8183 - val_accuracy: 0.7335\n"
     ]
    },
    {
     "data": {
      "text/plain": [
       "<keras.callbacks.History at 0x7f93e4f84d60>"
      ]
     },
     "execution_count": 10,
     "metadata": {},
     "output_type": "execute_result"
    }
   ],
   "source": [
    "# Recompile the model with the accuracy metric\n",
    "model.compile('adam', loss='categorical_crossentropy', metrics=['accuracy'])\n",
    "\n",
    "# Train the model with validation splits\n",
    "model.fit(X_train, y_train, epochs=10, validation_split=0.20)"
   ]
  },
  {
   "cell_type": "code",
   "execution_count": 11,
   "metadata": {},
   "outputs": [
    {
     "name": "stdout",
     "output_type": "stream",
     "text": [
      "263/263 [==============================] - 0s 999us/step - loss: 0.0000e+00 - accuracy: 0.0000e+00\n"
     ]
    },
    {
     "data": {
      "text/plain": [
       "[0.0, 0.0]"
      ]
     },
     "execution_count": 11,
     "metadata": {},
     "output_type": "execute_result"
    }
   ],
   "source": [
    "model.evaluate(X_test)"
   ]
  },
  {
   "cell_type": "code",
   "execution_count": 12,
   "metadata": {},
   "outputs": [
    {
     "name": "stdout",
     "output_type": "stream",
     "text": [
      "Epoch 1/5\n",
      "1050/1050 [==============================] - 1s 1ms/step - loss: 7.3722\n",
      "Epoch 2/5\n",
      "1050/1050 [==============================] - 1s 1ms/step - loss: 2.3013\n",
      "Epoch 3/5\n",
      "1050/1050 [==============================] - 1s 1ms/step - loss: 2.3012\n",
      "Epoch 4/5\n",
      "1050/1050 [==============================] - 1s 1ms/step - loss: 2.3012\n",
      "Epoch 5/5\n",
      "1050/1050 [==============================] - 1s 1ms/step - loss: 2.3012\n"
     ]
    },
    {
     "data": {
      "text/plain": [
       "<keras.callbacks.History at 0x7f93e4deeaf0>"
      ]
     },
     "execution_count": 12,
     "metadata": {},
     "output_type": "execute_result"
    }
   ],
   "source": [
    "# Define a sequential model\n",
    "model = tf.keras.Sequential()\n",
    "\n",
    "# Define a hidden layer\n",
    "model.add(tf.keras.layers.Dense(16, activation='relu', input_shape=(28*28,)))\n",
    "\n",
    "# Define the output layer\n",
    "model.add(tf.keras.layers.Dense(10, activation='softmax'))\n",
    "\n",
    "# Compile the model\n",
    "model.compile('SGD', loss='categorical_crossentropy')\n",
    "\n",
    "# Complete the fitting operation\n",
    "model.fit(X_train, y_train, epochs=5)"
   ]
  },
  {
   "cell_type": "code",
   "execution_count": 13,
   "metadata": {},
   "outputs": [
    {
     "name": "stdout",
     "output_type": "stream",
     "text": [
      "Epoch 1/10\n",
      "945/945 [==============================] - 2s 2ms/step - loss: 0.9435 - accuracy: 0.7446 - val_loss: 0.5566 - val_accuracy: 0.8384\n",
      "Epoch 2/10\n",
      "945/945 [==============================] - 2s 2ms/step - loss: 0.4530 - accuracy: 0.8687 - val_loss: 0.4302 - val_accuracy: 0.8699\n",
      "Epoch 3/10\n",
      "945/945 [==============================] - 1s 2ms/step - loss: 0.3865 - accuracy: 0.8846 - val_loss: 0.3733 - val_accuracy: 0.8821\n",
      "Epoch 4/10\n",
      "945/945 [==============================] - 1s 2ms/step - loss: 0.3501 - accuracy: 0.8953 - val_loss: 0.3465 - val_accuracy: 0.8943\n",
      "Epoch 5/10\n",
      "945/945 [==============================] - 1s 2ms/step - loss: 0.3273 - accuracy: 0.9026 - val_loss: 0.3519 - val_accuracy: 0.8932\n",
      "Epoch 6/10\n",
      "945/945 [==============================] - 1s 1ms/step - loss: 0.3163 - accuracy: 0.9046 - val_loss: 0.3477 - val_accuracy: 0.8952\n",
      "Epoch 7/10\n",
      "945/945 [==============================] - 1s 1ms/step - loss: 0.3104 - accuracy: 0.9085 - val_loss: 0.3216 - val_accuracy: 0.8979\n",
      "Epoch 8/10\n",
      "945/945 [==============================] - 1s 1ms/step - loss: 0.2966 - accuracy: 0.9118 - val_loss: 0.3069 - val_accuracy: 0.9036\n",
      "Epoch 9/10\n",
      "945/945 [==============================] - 1s 1ms/step - loss: 0.2922 - accuracy: 0.9129 - val_loss: 0.3294 - val_accuracy: 0.9012\n",
      "Epoch 10/10\n",
      "945/945 [==============================] - 1s 1ms/step - loss: 0.2847 - accuracy: 0.9151 - val_loss: 0.3135 - val_accuracy: 0.9045\n"
     ]
    },
    {
     "data": {
      "text/plain": [
       "<keras.callbacks.History at 0x7f93e4d88490>"
      ]
     },
     "execution_count": 13,
     "metadata": {},
     "output_type": "execute_result"
    }
   ],
   "source": [
    "# Metrics and validation with Keras\n",
    "\n",
    "# Define sequential model\n",
    "model = tf.keras.Sequential()\n",
    "\n",
    "# Define the first layer\n",
    "model.add(tf.keras.layers.Dense(32, activation='sigmoid', input_shape=(28*28,)))\n",
    "\n",
    "# Add activation function to the classifier\n",
    "model.add(tf.keras.layers.Dense(10, activation='softmax'))\n",
    "\n",
    "# Set the optimizer, loss function, and metrics\n",
    "model.compile(optimizer='RMSprop', loss='categorical_crossentropy', metrics=['accuracy'])\n",
    "\n",
    "# Add the number of epochs and the validation split\n",
    "model.fit(X_train, y_train, epochs=10, validation_split=0.10)"
   ]
  },
  {
   "cell_type": "code",
   "execution_count": 14,
   "metadata": {},
   "outputs": [
    {
     "name": "stdout",
     "output_type": "stream",
     "text": [
      "Epoch 1/15\n",
      "11/11 [==============================] - 3s 252ms/step - loss: 89.2378 - accuracy: 0.4256 - val_loss: 34.4505 - val_accuracy: 0.6653\n",
      "Epoch 2/15\n",
      "11/11 [==============================] - 2s 224ms/step - loss: 11.0937 - accuracy: 0.8452 - val_loss: 25.6825 - val_accuracy: 0.7618\n",
      "Epoch 3/15\n",
      "11/11 [==============================] - 2s 215ms/step - loss: 5.6250 - accuracy: 0.9077 - val_loss: 19.7726 - val_accuracy: 0.8024\n",
      "Epoch 4/15\n",
      "11/11 [==============================] - 2s 214ms/step - loss: 2.1496 - accuracy: 0.9613 - val_loss: 19.5685 - val_accuracy: 0.8109\n",
      "Epoch 5/15\n",
      "11/11 [==============================] - 2s 228ms/step - loss: 1.5949 - accuracy: 0.9792 - val_loss: 22.1881 - val_accuracy: 0.7946\n",
      "Epoch 6/15\n",
      "11/11 [==============================] - 2s 207ms/step - loss: 0.4851 - accuracy: 0.9911 - val_loss: 22.8758 - val_accuracy: 0.7975\n",
      "Epoch 7/15\n",
      "11/11 [==============================] - 2s 201ms/step - loss: 0.3205 - accuracy: 0.9911 - val_loss: 21.2219 - val_accuracy: 0.8063\n",
      "Epoch 8/15\n",
      "11/11 [==============================] - 2s 211ms/step - loss: 0.3140 - accuracy: 0.9881 - val_loss: 20.3298 - val_accuracy: 0.8112\n",
      "Epoch 9/15\n",
      "11/11 [==============================] - 2s 219ms/step - loss: 0.0202 - accuracy: 0.9970 - val_loss: 19.8177 - val_accuracy: 0.8122\n",
      "Epoch 10/15\n",
      "11/11 [==============================] - 2s 228ms/step - loss: 0.0705 - accuracy: 0.9970 - val_loss: 18.7800 - val_accuracy: 0.8203\n",
      "Epoch 11/15\n",
      "11/11 [==============================] - 2s 207ms/step - loss: 0.0299 - accuracy: 0.9970 - val_loss: 18.6397 - val_accuracy: 0.8250\n",
      "Epoch 12/15\n",
      "11/11 [==============================] - 2s 213ms/step - loss: 0.0028 - accuracy: 0.9970 - val_loss: 18.8927 - val_accuracy: 0.8259\n",
      "Epoch 13/15\n",
      "11/11 [==============================] - 2s 209ms/step - loss: 0.2914 - accuracy: 0.9911 - val_loss: 18.6917 - val_accuracy: 0.8261\n",
      "Epoch 14/15\n",
      "11/11 [==============================] - 2s 205ms/step - loss: 0.1550 - accuracy: 0.9940 - val_loss: 19.9007 - val_accuracy: 0.8198\n",
      "Epoch 15/15\n",
      "11/11 [==============================] - 2s 211ms/step - loss: 0.0921 - accuracy: 0.9940 - val_loss: 20.4846 - val_accuracy: 0.8142\n"
     ]
    },
    {
     "data": {
      "text/plain": [
       "<keras.callbacks.History at 0x7f93ec8bdaf0>"
      ]
     },
     "execution_count": 14,
     "metadata": {},
     "output_type": "execute_result"
    }
   ],
   "source": [
    "# Overfitting detection\n",
    "\n",
    "# Define sequential model\n",
    "model = tf.keras.Sequential()\n",
    "\n",
    "# Define the first layer\n",
    "model.add(tf.keras.layers.Dense(1024, activation='relu', input_shape=(784,)))\n",
    "\n",
    "# Add activation function to classifier\n",
    "model.add(keras.layers.Dense(10, activation='softmax'))\n",
    "\n",
    "# Finish the model compilation\n",
    "model.compile(optimizer=tf.keras.optimizers.Adam(learning_rate=0.001), loss='categorical_crossentropy', metrics=['accuracy'])\n",
    "\n",
    "# Complete the model fit operation\n",
    "model.fit(X_train, y_train, epochs=15, validation_split=0.99)"
   ]
  },
  {
   "cell_type": "code",
   "execution_count": 15,
   "metadata": {},
   "outputs": [
    {
     "name": "stdout",
     "output_type": "stream",
     "text": [
      "Epoch 1/10\n",
      "840/840 [==============================] - 2s 2ms/step - loss: 5.2243 - accuracy: 0.1108 - val_loss: 2.3016 - val_accuracy: 0.1115\n",
      "Epoch 2/10\n",
      "840/840 [==============================] - 1s 1ms/step - loss: 2.3014 - accuracy: 0.1111 - val_loss: 2.3013 - val_accuracy: 0.1115\n",
      "Epoch 3/10\n",
      "840/840 [==============================] - 1s 1ms/step - loss: 2.3013 - accuracy: 0.1111 - val_loss: 2.3013 - val_accuracy: 0.1115\n",
      "Epoch 4/10\n",
      "840/840 [==============================] - 1s 1ms/step - loss: 2.3012 - accuracy: 0.1111 - val_loss: 2.3012 - val_accuracy: 0.1115\n",
      "Epoch 5/10\n",
      "840/840 [==============================] - 1s 1ms/step - loss: 2.3012 - accuracy: 0.1111 - val_loss: 2.3014 - val_accuracy: 0.1115\n",
      "Epoch 6/10\n",
      "840/840 [==============================] - 1s 1ms/step - loss: 2.3012 - accuracy: 0.1111 - val_loss: 2.3014 - val_accuracy: 0.1115\n",
      "Epoch 7/10\n",
      "840/840 [==============================] - 1s 1ms/step - loss: 2.3012 - accuracy: 0.1111 - val_loss: 2.3015 - val_accuracy: 0.1115\n",
      "Epoch 8/10\n",
      "840/840 [==============================] - 1s 1ms/step - loss: 2.3012 - accuracy: 0.1111 - val_loss: 2.3014 - val_accuracy: 0.1115\n",
      "Epoch 9/10\n",
      "840/840 [==============================] - 1s 1ms/step - loss: 2.3012 - accuracy: 0.1111 - val_loss: 2.3015 - val_accuracy: 0.1115\n",
      "Epoch 10/10\n",
      "840/840 [==============================] - 1s 1ms/step - loss: 2.3012 - accuracy: 0.1111 - val_loss: 2.3015 - val_accuracy: 0.1115\n",
      "\n",
      "\n",
      "\n",
      "Epoch 1/10\n",
      "840/840 [==============================] - 2s 2ms/step - loss: 1.0227 - accuracy: 0.7419 - val_loss: 0.6681 - val_accuracy: 0.8363\n",
      "Epoch 2/10\n",
      "840/840 [==============================] - 2s 2ms/step - loss: 0.5688 - accuracy: 0.8636 - val_loss: 0.5171 - val_accuracy: 0.8702\n",
      "Epoch 3/10\n",
      "840/840 [==============================] - 1s 2ms/step - loss: 0.4597 - accuracy: 0.8833 - val_loss: 0.4351 - val_accuracy: 0.8885\n",
      "Epoch 4/10\n",
      "840/840 [==============================] - 2s 2ms/step - loss: 0.4080 - accuracy: 0.8952 - val_loss: 0.4012 - val_accuracy: 0.8933\n",
      "Epoch 5/10\n",
      "840/840 [==============================] - 2s 2ms/step - loss: 0.3740 - accuracy: 0.9004 - val_loss: 0.3904 - val_accuracy: 0.8954\n",
      "Epoch 6/10\n",
      "840/840 [==============================] - 2s 2ms/step - loss: 0.3591 - accuracy: 0.9046 - val_loss: 0.3450 - val_accuracy: 0.9031\n",
      "Epoch 7/10\n",
      "840/840 [==============================] - 2s 2ms/step - loss: 0.3411 - accuracy: 0.9068 - val_loss: 0.3443 - val_accuracy: 0.9049\n",
      "Epoch 8/10\n",
      "840/840 [==============================] - 2s 2ms/step - loss: 0.3374 - accuracy: 0.9082 - val_loss: 0.3463 - val_accuracy: 0.9058\n",
      "Epoch 9/10\n",
      "840/840 [==============================] - 2s 2ms/step - loss: 0.3279 - accuracy: 0.9098 - val_loss: 0.3345 - val_accuracy: 0.9057\n",
      "Epoch 10/10\n",
      "840/840 [==============================] - 2s 2ms/step - loss: 0.3119 - accuracy: 0.9164 - val_loss: 0.3249 - val_accuracy: 0.9106\n",
      "\n",
      "\n",
      "\n",
      "1050/1050 [==============================] - 1s 975us/step - loss: 2.3012 - accuracy: 0.1112\n",
      "263/263 [==============================] - 1s 2ms/step - loss: 2.3014 - accuracy: 0.1129\n",
      "1050/1050 [==============================] - 1s 1ms/step - loss: 0.3047 - accuracy: 0.9147\n",
      "263/263 [==============================] - 1s 2ms/step - loss: 0.3296 - accuracy: 0.9048\n",
      "\n",
      "\n",
      "\n",
      "small_train=[2.3011884689331055, 0.11119047552347183] small_test=[2.301443338394165, 0.1128571406006813]\n",
      "large_train=[0.30465635657310486, 0.9147321581840515] large_test=[0.32959654927253723, 0.9047619104385376]\n"
     ]
    }
   ],
   "source": [
    "# Evaluating models\n",
    "\n",
    "# Small model description\n",
    "'''\n",
    "Model: \"sequential\"\n",
    "_________________________________________________________________\n",
    "Layer (type)                 Output Shape              Param #   \n",
    "=================================================================\n",
    "dense (Dense)                (None, 8)                 6280      \n",
    "_________________________________________________________________\n",
    "dense_1 (Dense)              (None, 4)                 36        \n",
    "=================================================================\n",
    "Total params: 6,316\n",
    "Trainable params: 6,316\n",
    "Non-trainable params: 0\n",
    "_________________________________________________________________\n",
    "'''\n",
    "\n",
    "# Small model config\n",
    "{'layers': [{'class_name': 'InputLayer',\n",
    "   'config': {'batch_input_shape': (None, 784),\n",
    "    'dtype': 'float32',\n",
    "    'name': 'dense_input',\n",
    "    'ragged': False,\n",
    "    'sparse': False}},\n",
    "  {'class_name': 'Dense',\n",
    "   'config': {'activation': 'relu',\n",
    "    'activity_regularizer': None,\n",
    "    'batch_input_shape': (None, 784),\n",
    "    'bias_constraint': None,\n",
    "    'bias_initializer': {'class_name': 'Zeros', 'config': {}},\n",
    "    'bias_regularizer': None,\n",
    "    'dtype': 'float32',\n",
    "    'kernel_constraint': None,\n",
    "    'kernel_initializer': {'class_name': 'GlorotUniform',\n",
    "     'config': {'seed': None}},\n",
    "    'kernel_regularizer': None,\n",
    "    'name': 'dense',\n",
    "    'trainable': True,\n",
    "    'units': 8,\n",
    "    'use_bias': True}},\n",
    "  {'class_name': 'Dense',\n",
    "   'config': {'activation': 'softmax',\n",
    "    'activity_regularizer': None,\n",
    "    'bias_constraint': None,\n",
    "    'bias_initializer': {'class_name': 'Zeros', 'config': {}},\n",
    "    'bias_regularizer': None,\n",
    "    'dtype': 'float32',\n",
    "    'kernel_constraint': None,\n",
    "    'kernel_initializer': {'class_name': 'GlorotUniform',\n",
    "     'config': {'seed': None}},\n",
    "    'kernel_regularizer': None,\n",
    "    'name': 'dense_1',\n",
    "    'trainable': True,\n",
    "    'units': 4,\n",
    "    'use_bias': True}}],\n",
    " 'name': 'sequential'}\n",
    "\n",
    "small_model = tf.keras.Sequential()\n",
    "\n",
    "small_model.add(tf.keras.layers.Dense(8, activation='relu', input_shape=(28*28,)))\n",
    "\n",
    "small_model.add(tf.keras.layers.Dense(10, activation='softmax'))\n",
    "\n",
    "small_model.compile('SGD', loss='categorical_crossentropy', metrics=['accuracy'])\n",
    "\n",
    "small_model.fit(X_train, y_train, epochs=10, validation_split=0.20)\n",
    "\n",
    "print('\\n\\n')\n",
    "\n",
    "# Large model description\n",
    "'''\n",
    "Model: \"sequential_1\"\n",
    "_________________________________________________________________\n",
    "Layer (type)                 Output Shape              Param #   \n",
    "=================================================================\n",
    "dense_2 (Dense)              (None, 64)                50240     \n",
    "_________________________________________________________________\n",
    "dense_3 (Dense)              (None, 4)                 260       \n",
    "=================================================================\n",
    "Total params: 50,500\n",
    "Trainable params: 50,500\n",
    "Non-trainable params: 0\n",
    "_________________________________________________________________\n",
    "'''\n",
    "\n",
    "# Large model config\n",
    "{'layers': [{'class_name': 'InputLayer',\n",
    "   'config': {'batch_input_shape': (None, 784),\n",
    "    'dtype': 'float32',\n",
    "    'name': 'dense_2_input',\n",
    "    'ragged': False,\n",
    "    'sparse': False}},\n",
    "  {'class_name': 'Dense',\n",
    "   'config': {'activation': 'sigmoid',\n",
    "    'activity_regularizer': None,\n",
    "    'batch_input_shape': (None, 784),\n",
    "    'bias_constraint': None,\n",
    "    'bias_initializer': {'class_name': 'Zeros', 'config': {}},\n",
    "    'bias_regularizer': None,\n",
    "    'dtype': 'float32',\n",
    "    'kernel_constraint': None,\n",
    "    'kernel_initializer': {'class_name': 'GlorotUniform',\n",
    "     'config': {'seed': None}},\n",
    "    'kernel_regularizer': None,\n",
    "    'name': 'dense_2',\n",
    "    'trainable': True,\n",
    "    'units': 64,\n",
    "    'use_bias': True}},\n",
    "  {'class_name': 'Dense',\n",
    "   'config': {'activation': 'softmax',\n",
    "    'activity_regularizer': None,\n",
    "    'bias_constraint': None,\n",
    "    'bias_initializer': {'class_name': 'Zeros', 'config': {}},\n",
    "    'bias_regularizer': None,\n",
    "    'dtype': 'float32',\n",
    "    'kernel_constraint': None,\n",
    "    'kernel_initializer': {'class_name': 'GlorotUniform',\n",
    "     'config': {'seed': None}},\n",
    "    'kernel_regularizer': None,\n",
    "    'name': 'dense_3',\n",
    "    'trainable': True,\n",
    "    'units': 4,\n",
    "    'use_bias': True}}],\n",
    " 'name': 'sequential_1'}\n",
    "\n",
    "large_model = tf.keras.Sequential()\n",
    "\n",
    "large_model.add(tf.keras.layers.Dense(64, activation='sigmoid', input_shape=(28*28,)))\n",
    "\n",
    "large_model.add(tf.keras.layers.Dense(10, activation='softmax'))\n",
    "\n",
    "large_model.compile('SGD', loss='categorical_crossentropy', metrics=['accuracy'])\n",
    "\n",
    "large_model.fit(X_train, y_train, epochs=10, validation_split=0.20)\n",
    "\n",
    "print('\\n\\n')\n",
    "\n",
    "# Evaluate the small model using the train data\n",
    "small_train = small_model.evaluate(X_train, y_train)\n",
    "\n",
    "# Evaluate the small model using the test data\n",
    "small_test = small_model.evaluate(X_test, y_test)\n",
    "\n",
    "# Evaluate the large model using the train data\n",
    "large_train = large_model.evaluate(X_train, y_train)\n",
    "\n",
    "# Evaluata the large model using the test data\n",
    "large_test = large_model.evaluate(X_test, y_test)\n",
    "\n",
    "print('\\n\\n')\n",
    "\n",
    "print(f'{small_train=}', f'{small_test=}')\n",
    "print(f'{large_train=}', f'{large_test=}')"
   ]
  }
 ],
 "metadata": {
  "colab": {
   "authorship_tag": "ABX9TyOsWgrApzeLBQO4ez8s0+sM",
   "collapsed_sections": [],
   "include_colab_link": true,
   "name": "chapter4.ipynb",
   "provenance": []
  },
  "kernelspec": {
   "display_name": "Python 3 (ipykernel)",
   "language": "python",
   "name": "python3"
  },
  "language_info": {
   "codemirror_mode": {
    "name": "ipython",
    "version": 3
   },
   "file_extension": ".py",
   "mimetype": "text/x-python",
   "name": "python",
   "nbconvert_exporter": "python",
   "pygments_lexer": "ipython3",
   "version": "3.8.10"
  }
 },
 "nbformat": 4,
 "nbformat_minor": 4
}

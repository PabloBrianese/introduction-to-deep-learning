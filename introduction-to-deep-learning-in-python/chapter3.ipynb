{
 "cells": [
  {
   "cell_type": "code",
   "execution_count": 15,
   "id": "13ba26f1-f965-472c-bb8b-b58fd5d21d9d",
   "metadata": {},
   "outputs": [],
   "source": [
    "import numpy as np\n",
    "import pandas as pd\n",
    "import tensorflow as tf"
   ]
  },
  {
   "cell_type": "code",
   "execution_count": 20,
   "id": "07f0cc34-b210-4867-8dfd-b5d24b31487e",
   "metadata": {},
   "outputs": [],
   "source": [
    "data = pd.read_csv('hourly_wages.csv')\n",
    "predictors = data.drop('wage_per_hour', axis=1).values\n",
    "target = data['wage_per_hour'].values\n",
    "n_cols = predictors.shape[1]"
   ]
  },
  {
   "cell_type": "code",
   "execution_count": 21,
   "id": "6d197bd3-022a-498a-a932-8f1869376bfc",
   "metadata": {},
   "outputs": [],
   "source": [
    "# Model specification\n",
    "from keras.models import Sequential\n",
    "from keras.layers import Dense\n",
    "\n",
    "model = Sequential()\n",
    "model.add(Dense(100, activation='relu', input_shape=(n_cols,)))\n",
    "model.add(Dense(100, activation='relu'))\n",
    "model.add(Dense(1))"
   ]
  },
  {
   "cell_type": "code",
   "execution_count": 23,
   "id": "42654029-cfdc-4fb7-8acd-2e1e8f7e1d47",
   "metadata": {},
   "outputs": [],
   "source": [
    "# Specifiying another model\n",
    "model = Sequential()\n",
    "model.add(Dense(50, activation='relu', input_shape=(n_cols,)))\n",
    "model.add(Dense(32, activation='relu'))\n",
    "model.add(Dense(1))"
   ]
  },
  {
   "cell_type": "code",
   "execution_count": 24,
   "id": "9d39c8ee-1a60-4a74-a3ee-00a7d95730e2",
   "metadata": {},
   "outputs": [
    {
     "name": "stdout",
     "output_type": "stream",
     "text": [
      "17/17 [==============================] - 1s 3ms/step - loss: 27.0022\n"
     ]
    },
    {
     "data": {
      "text/plain": [
       "<keras.callbacks.History at 0x7f816c7e0580>"
      ]
     },
     "execution_count": 24,
     "metadata": {},
     "output_type": "execute_result"
    }
   ],
   "source": [
    "# Compiling and fitting a model\n",
    "model = Sequential()\n",
    "model.add(Dense(100, activation='relu', input_shape=(n_cols,)))\n",
    "model.add(Dense(100, activation='relu'))\n",
    "model.add(Dense(1))\n",
    "model.compile(optimizer='adam', loss='mean_squared_error')\n",
    "model.fit(predictors, target)"
   ]
  },
  {
   "cell_type": "code",
   "execution_count": 31,
   "id": "fc8b3879-1159-4d05-87c7-6d4772605cb9",
   "metadata": {},
   "outputs": [
    {
     "name": "stdout",
     "output_type": "stream",
     "text": [
      "mean_squared_error\n",
      "17/17 [==============================] - 1s 2ms/step - loss: 102.7844\n"
     ]
    },
    {
     "data": {
      "text/plain": [
       "<keras.callbacks.History at 0x7f8132067400>"
      ]
     },
     "execution_count": 31,
     "metadata": {},
     "output_type": "execute_result"
    }
   ],
   "source": [
    "# Compiling and fitting the model\n",
    "model = Sequential([\n",
    "  Dense(50, activation='relu', input_shape=(n_cols,)),\n",
    "  Dense(32, activation='relu'),\n",
    "  Dense(1)\n",
    "])\n",
    "\n",
    "model.compile(optimizer='adam', loss='mean_squared_error')\n",
    "print(model.loss)\n",
    "\n",
    "model.fit(predictors, target)"
   ]
  },
  {
   "cell_type": "code",
   "execution_count": 54,
   "id": "67c0022f-d593-40f4-8bf4-56a1d8806d92",
   "metadata": {},
   "outputs": [
    {
     "name": "stdout",
     "output_type": "stream",
     "text": [
      "3829/3829 [==============================] - 25s 6ms/step - loss: 0.6594 - accuracy: 0.6098\n"
     ]
    },
    {
     "data": {
      "text/plain": [
       "<keras.callbacks.History at 0x7f80e0c5c550>"
      ]
     },
     "execution_count": 54,
     "metadata": {},
     "output_type": "execute_result"
    }
   ],
   "source": [
    "from keras.utils.np_utils import to_categorical\n",
    "\n",
    "data = pd.read_csv('shot_logs.csv').dropna()\n",
    "predictors = data[['SHOT_CLOCK', 'DRIBBLES', 'TOUCH_TIME', 'SHOT_DIST', 'CLOSE_DEF_DIST']].values\n",
    "n_cols = predictors.shape[1]\n",
    "target = to_categorical((data['SHOT_RESULT'] == 'made'))\n",
    "\n",
    "\n",
    "\n",
    "model = Sequential([\n",
    "  Dense(100, activation='relu', input_shape=(n_cols,)),\n",
    "  Dense(100, activation='relu'),\n",
    "  Dense(100, activation='relu'),\n",
    "  Dense(2, activation='softmax')\n",
    "])\n",
    "\n",
    "model.compile(optimizer='adam', loss='categorical_crossentropy', metrics='accuracy')\n",
    "model.fit(predictors, target)"
   ]
  },
  {
   "cell_type": "code",
   "execution_count": 71,
   "id": "ae2f64aa-b229-4b9f-a1f9-b15e1dc21238",
   "metadata": {},
   "outputs": [
    {
     "name": "stdout",
     "output_type": "stream",
     "text": [
      "28/28 [==============================] - 0s 3ms/step - loss: 2.7496 - accuracy: 0.5982\n"
     ]
    },
    {
     "data": {
      "text/plain": [
       "<keras.callbacks.History at 0x7f81317d4460>"
      ]
     },
     "execution_count": 71,
     "metadata": {},
     "output_type": "execute_result"
    }
   ],
   "source": [
    "data = pd.read_csv('titanic_all_numeric.csv')\n",
    "predictors = data.drop('survived', axis=1).astype('float32')\n",
    "n_cols = predictors.shape[1]\n",
    "target = to_categorical(data.survived)\n",
    "\n",
    "model = Sequential([\n",
    "  Dense(32, activation='relu', input_shape=(n_cols,)),\n",
    "  Dense(2, activation='softmax')\n",
    "])\n",
    "\n",
    "model.compile(optimizer='sgd', loss='categorical_crossentropy', metrics=['accuracy'])\n",
    "model.fit(predictors, target)"
   ]
  },
  {
   "cell_type": "code",
   "execution_count": 73,
   "id": "ccac197e-b2be-4edb-aa67-e7b38e9d4a4e",
   "metadata": {},
   "outputs": [
    {
     "name": "stdout",
     "output_type": "stream",
     "text": [
      "Model: \"sequential_35\"\n",
      "_________________________________________________________________\n",
      "Layer (type)                 Output Shape              Param #   \n",
      "=================================================================\n",
      "dense_163 (Dense)            (None, 32)                352       \n",
      "_________________________________________________________________\n",
      "dense_164 (Dense)            (None, 2)                 66        \n",
      "=================================================================\n",
      "Total params: 418\n",
      "Trainable params: 418\n",
      "Non-trainable params: 0\n",
      "_________________________________________________________________\n"
     ]
    }
   ],
   "source": [
    "# Saving, reloading and using your model\n",
    "from keras.models import load_model\n",
    "\n",
    "model.save('model_file.h5')\n",
    "my_model = load_model('model_file.h5')\n",
    "predictions = my_model.predict(predictors)\n",
    "probability_true = predictions[:,1]\n",
    "\n",
    "my_model.summary()"
   ]
  }
 ],
 "metadata": {
  "kernelspec": {
   "display_name": "Python 3 (ipykernel)",
   "language": "python",
   "name": "python3"
  },
  "language_info": {
   "codemirror_mode": {
    "name": "ipython",
    "version": 3
   },
   "file_extension": ".py",
   "mimetype": "text/x-python",
   "name": "python",
   "nbconvert_exporter": "python",
   "pygments_lexer": "ipython3",
   "version": "3.8.10"
  }
 },
 "nbformat": 4,
 "nbformat_minor": 5
}

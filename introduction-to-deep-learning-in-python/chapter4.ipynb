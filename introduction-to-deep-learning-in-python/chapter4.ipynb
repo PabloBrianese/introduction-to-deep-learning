{
 "cells": [
  {
   "cell_type": "code",
   "execution_count": 1,
   "id": "c4af1886-193a-4c23-b13e-c32a6cc41f76",
   "metadata": {},
   "outputs": [
    {
     "name": "stderr",
     "output_type": "stream",
     "text": [
      "2021-11-13 10:39:26.168946: W tensorflow/stream_executor/platform/default/dso_loader.cc:64] Could not load dynamic library 'libcudart.so.11.0'; dlerror: libcudart.so.11.0: cannot open shared object file: No such file or directory\n",
      "2021-11-13 10:39:26.169004: I tensorflow/stream_executor/cuda/cudart_stub.cc:29] Ignore above cudart dlerror if you do not have a GPU set up on your machine.\n"
     ]
    }
   ],
   "source": [
    "import numpy as np\n",
    "import pandas as pd\n",
    "import tensorflow as tf"
   ]
  },
  {
   "cell_type": "code",
   "execution_count": 17,
   "id": "ad317a35-afb8-4da4-9eea-d03b69f0eefe",
   "metadata": {},
   "outputs": [],
   "source": [
    "from tensorflow.keras.utils import to_categorical\n",
    "\n",
    "data = pd.read_csv('titanic_all_numeric.csv').astype('float32').dropna()\n",
    "predictors = data.drop('survived', axis=1).values\n",
    "n_cols = predictors.shape[1]\n",
    "input_shape = (n_cols,)\n",
    "target = to_categorical(data['survived'].values)"
   ]
  },
  {
   "cell_type": "code",
   "execution_count": 18,
   "id": "c3e50275-406e-4d4e-97e6-76708832ade4",
   "metadata": {},
   "outputs": [
    {
     "name": "stdout",
     "output_type": "stream",
     "text": [
      "\n",
      "\n",
      "Testing model with learning rate 1e-06\n",
      "\n",
      "28/28 [==============================] - 0s 1ms/step - loss: 1.7596\n",
      "\n",
      "\n",
      "Testing model with learning rate 0.01\n",
      "\n",
      "28/28 [==============================] - 0s 1ms/step - loss: 1.6922\n",
      "\n",
      "\n",
      "Testing model with learning rate 1\n",
      "\n",
      "28/28 [==============================] - 0s 1ms/step - loss: 101788448.0000\n"
     ]
    }
   ],
   "source": [
    "# Changing optimization parameters\n",
    "from tensorflow.keras.models import Sequential\n",
    "from tensorflow.keras.layers import Dense\n",
    "\n",
    "# Import the SGD optimizer\n",
    "from tensorflow.keras.optimizers import SGD\n",
    "\n",
    "# Create unoptimized model\n",
    "def get_new_model(input_shape=input_shape):\n",
    "  model = Sequential([\n",
    "    Dense(100, activation='relu', input_shape=input_shape),\n",
    "    Dense(100, activation='relu'),\n",
    "    Dense(2, activation='softmax')\n",
    "  ])\n",
    "  \n",
    "  return model\n",
    "\n",
    "# Create list of learning rates\n",
    "lr_to_test = [.000001, .01, 1]\n",
    "\n",
    "for lr in lr_to_test:\n",
    "  print(f\"\\n\\nTesting model with learning rate {lr}\\n\")\n",
    "  # New model unaffected by previous models\n",
    "  model = get_new_model()\n",
    "  # Create SGD optimizer with specified learning rate\n",
    "  my_optimizer = SGD(learning_rate=lr)\n",
    "  model.compile(optimizer=my_optimizer, loss='categorical_crossentropy')\n",
    "  model.fit(predictors, target)"
   ]
  },
  {
   "cell_type": "code",
   "execution_count": 20,
   "id": "deed295b-4ff0-40c6-a75d-907cb18c0531",
   "metadata": {},
   "outputs": [
    {
     "name": "stdout",
     "output_type": "stream",
     "text": [
      "Epoch 1/10\n",
      "20/20 [==============================] - 0s 7ms/step - loss: 1.3948 - accuracy: 0.6116 - val_loss: 0.9420 - val_accuracy: 0.6604\n",
      "Epoch 2/10\n",
      "20/20 [==============================] - 0s 3ms/step - loss: 0.6612 - accuracy: 0.6726 - val_loss: 0.5614 - val_accuracy: 0.7351\n",
      "Epoch 3/10\n",
      "20/20 [==============================] - 0s 3ms/step - loss: 0.5988 - accuracy: 0.6854 - val_loss: 0.5367 - val_accuracy: 0.7351\n",
      "Epoch 4/10\n",
      "20/20 [==============================] - 0s 3ms/step - loss: 0.6108 - accuracy: 0.7047 - val_loss: 0.5384 - val_accuracy: 0.7500\n",
      "Epoch 5/10\n",
      "20/20 [==============================] - 0s 3ms/step - loss: 0.6029 - accuracy: 0.6902 - val_loss: 0.5192 - val_accuracy: 0.7687\n",
      "Epoch 6/10\n",
      "20/20 [==============================] - 0s 2ms/step - loss: 0.6030 - accuracy: 0.6982 - val_loss: 0.5598 - val_accuracy: 0.7313\n",
      "Epoch 7/10\n",
      "20/20 [==============================] - 0s 3ms/step - loss: 0.5926 - accuracy: 0.7063 - val_loss: 0.5386 - val_accuracy: 0.7276\n",
      "Epoch 8/10\n",
      "20/20 [==============================] - 0s 2ms/step - loss: 0.5746 - accuracy: 0.7319 - val_loss: 0.5056 - val_accuracy: 0.7313\n",
      "Epoch 9/10\n",
      "20/20 [==============================] - 0s 2ms/step - loss: 0.5400 - accuracy: 0.7432 - val_loss: 0.6315 - val_accuracy: 0.7351\n",
      "Epoch 10/10\n",
      "20/20 [==============================] - 0s 2ms/step - loss: 0.5667 - accuracy: 0.7111 - val_loss: 0.4594 - val_accuracy: 0.7724\n"
     ]
    },
    {
     "data": {
      "text/plain": [
       "<keras.callbacks.History at 0x7f4d6fd16430>"
      ]
     },
     "execution_count": 20,
     "metadata": {},
     "output_type": "execute_result"
    }
   ],
   "source": [
    "model = Sequential([\n",
    "  Dense(100, activation='relu', input_shape=input_shape),\n",
    "  Dense(100, activation='relu'),\n",
    "  Dense(2, activation='softmax')\n",
    "])\n",
    "\n",
    "model.compile(optimizer='adam', loss='categorical_crossentropy', metrics='accuracy')\n",
    "model.fit(predictors, target, validation_split=.3, epochs=10)"
   ]
  }
 ],
 "metadata": {
  "kernelspec": {
   "display_name": "Python 3 (ipykernel)",
   "language": "python",
   "name": "python3"
  },
  "language_info": {
   "codemirror_mode": {
    "name": "ipython",
    "version": 3
   },
   "file_extension": ".py",
   "mimetype": "text/x-python",
   "name": "python",
   "nbconvert_exporter": "python",
   "pygments_lexer": "ipython3",
   "version": "3.8.10"
  }
 },
 "nbformat": 4,
 "nbformat_minor": 5
}

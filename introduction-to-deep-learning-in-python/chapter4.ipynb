{
 "cells": [
  {
   "cell_type": "code",
   "execution_count": 9,
   "id": "c4af1886-193a-4c23-b13e-c32a6cc41f76",
   "metadata": {},
   "outputs": [],
   "source": [
    "import numpy as np\n",
    "import pandas as pd\n",
    "from matplotlib import pyplot as plt\n",
    "import tensorflow as tf"
   ]
  },
  {
   "cell_type": "code",
   "execution_count": 4,
   "id": "ad317a35-afb8-4da4-9eea-d03b69f0eefe",
   "metadata": {},
   "outputs": [],
   "source": [
    "from tensorflow.keras.utils import to_categorical\n",
    "\n",
    "data = pd.read_csv('titanic_all_numeric.csv').astype('float32').dropna()\n",
    "predictors = data.drop('survived', axis=1).values\n",
    "n_cols = predictors.shape[1]\n",
    "input_shape = (n_cols,)\n",
    "target = to_categorical(data['survived'].values)"
   ]
  },
  {
   "cell_type": "code",
   "execution_count": 5,
   "id": "c3e50275-406e-4d4e-97e6-76708832ade4",
   "metadata": {},
   "outputs": [
    {
     "name": "stdout",
     "output_type": "stream",
     "text": [
      "\n",
      "\n",
      "Testing model with learning rate 1e-06\n",
      "\n"
     ]
    },
    {
     "name": "stderr",
     "output_type": "stream",
     "text": [
      "2021-11-14 23:44:54.868811: W tensorflow/stream_executor/platform/default/dso_loader.cc:64] Could not load dynamic library 'libcuda.so.1'; dlerror: libcuda.so.1: cannot open shared object file: No such file or directory\n",
      "2021-11-14 23:44:54.868960: W tensorflow/stream_executor/cuda/cuda_driver.cc:269] failed call to cuInit: UNKNOWN ERROR (303)\n",
      "2021-11-14 23:44:54.869023: I tensorflow/stream_executor/cuda/cuda_diagnostics.cc:156] kernel driver does not appear to be running on this host (DESKTOP-FC4EGDV): /proc/driver/nvidia/version does not exist\n",
      "2021-11-14 23:44:54.869701: I tensorflow/core/platform/cpu_feature_guard.cc:142] This TensorFlow binary is optimized with oneAPI Deep Neural Network Library (oneDNN) to use the following CPU instructions in performance-critical operations:  AVX2 FMA\n",
      "To enable them in other operations, rebuild TensorFlow with the appropriate compiler flags.\n",
      "2021-11-14 23:44:55.247865: I tensorflow/compiler/mlir/mlir_graph_optimization_pass.cc:185] None of the MLIR Optimization Passes are enabled (registered 2)\n"
     ]
    },
    {
     "name": "stdout",
     "output_type": "stream",
     "text": [
      "28/28 [==============================] - 1s 3ms/step - loss: 2.4245\n",
      "\n",
      "\n",
      "Testing model with learning rate 0.01\n",
      "\n",
      "28/28 [==============================] - 1s 3ms/step - loss: 1.5376\n",
      "\n",
      "\n",
      "Testing model with learning rate 1\n",
      "\n",
      "28/28 [==============================] - 1s 2ms/step - loss: 2670.7185\n"
     ]
    }
   ],
   "source": [
    "# Changing optimization parameters\n",
    "from tensorflow.keras.models import Sequential\n",
    "from tensorflow.keras.layers import Dense\n",
    "\n",
    "# Import the SGD optimizer\n",
    "from tensorflow.keras.optimizers import SGD\n",
    "\n",
    "# Create unoptimized model\n",
    "def get_new_model(input_shape=input_shape):\n",
    "  model = Sequential([\n",
    "    Dense(100, activation='relu', input_shape=input_shape),\n",
    "    Dense(100, activation='relu'),\n",
    "    Dense(2, activation='softmax')\n",
    "  ])\n",
    "  \n",
    "  return model\n",
    "\n",
    "# Create list of learning rates\n",
    "lr_to_test = [.000001, .01, 1]\n",
    "\n",
    "for lr in lr_to_test:\n",
    "  print(f\"\\n\\nTesting model with learning rate {lr}\\n\")\n",
    "  # New model unaffected by previous models\n",
    "  model = get_new_model()\n",
    "  # Create SGD optimizer with specified learning rate\n",
    "  my_optimizer = SGD(learning_rate=lr)\n",
    "  model.compile(optimizer=my_optimizer, loss='categorical_crossentropy')\n",
    "  model.fit(predictors, target)"
   ]
  },
  {
   "cell_type": "code",
   "execution_count": 6,
   "id": "deed295b-4ff0-40c6-a75d-907cb18c0531",
   "metadata": {},
   "outputs": [
    {
     "name": "stdout",
     "output_type": "stream",
     "text": [
      "Epoch 1/10\n",
      "20/20 [==============================] - 1s 18ms/step - loss: 1.0658 - accuracy: 0.5923 - val_loss: 0.7982 - val_accuracy: 0.6716\n",
      "Epoch 2/10\n",
      "20/20 [==============================] - 0s 6ms/step - loss: 0.7648 - accuracy: 0.6421 - val_loss: 0.6457 - val_accuracy: 0.7201\n",
      "Epoch 3/10\n",
      "20/20 [==============================] - 0s 6ms/step - loss: 0.6971 - accuracy: 0.6276 - val_loss: 0.6566 - val_accuracy: 0.6679\n",
      "Epoch 4/10\n",
      "20/20 [==============================] - 0s 6ms/step - loss: 0.7368 - accuracy: 0.6324 - val_loss: 0.6298 - val_accuracy: 0.6828\n",
      "Epoch 5/10\n",
      "20/20 [==============================] - 0s 8ms/step - loss: 0.6384 - accuracy: 0.6517 - val_loss: 0.5516 - val_accuracy: 0.7612\n",
      "Epoch 6/10\n",
      "20/20 [==============================] - 0s 7ms/step - loss: 0.6477 - accuracy: 0.6822 - val_loss: 0.6774 - val_accuracy: 0.6978\n",
      "Epoch 7/10\n",
      "20/20 [==============================] - 0s 9ms/step - loss: 0.6708 - accuracy: 0.6870 - val_loss: 0.5093 - val_accuracy: 0.7351\n",
      "Epoch 8/10\n",
      "20/20 [==============================] - 0s 13ms/step - loss: 0.5844 - accuracy: 0.6902 - val_loss: 0.5620 - val_accuracy: 0.6866\n",
      "Epoch 9/10\n",
      "20/20 [==============================] - 0s 11ms/step - loss: 0.5812 - accuracy: 0.6966 - val_loss: 0.5489 - val_accuracy: 0.7799\n",
      "Epoch 10/10\n",
      "20/20 [==============================] - 0s 11ms/step - loss: 0.5786 - accuracy: 0.7143 - val_loss: 0.5785 - val_accuracy: 0.6754\n"
     ]
    },
    {
     "data": {
      "text/plain": [
       "<keras.callbacks.History at 0x7f262c0da4f0>"
      ]
     },
     "execution_count": 6,
     "metadata": {},
     "output_type": "execute_result"
    }
   ],
   "source": [
    "model = Sequential([\n",
    "  Dense(100, activation='relu', input_shape=input_shape),\n",
    "  Dense(100, activation='relu'),\n",
    "  Dense(2, activation='softmax')\n",
    "])\n",
    "\n",
    "model.compile(optimizer='adam', loss='categorical_crossentropy', metrics='accuracy')\n",
    "model.fit(predictors, target, validation_split=.3, epochs=10)"
   ]
  },
  {
   "cell_type": "code",
   "execution_count": 8,
   "id": "2a621cb0-ddd7-4037-81c7-a7814bd03341",
   "metadata": {},
   "outputs": [
    {
     "name": "stdout",
     "output_type": "stream",
     "text": [
      "Epoch 1/30\n",
      "20/20 [==============================] - 1s 16ms/step - loss: 1.9788 - accuracy: 0.5393 - val_loss: 0.7465 - val_accuracy: 0.6716\n",
      "Epoch 2/30\n",
      "20/20 [==============================] - 0s 5ms/step - loss: 0.7245 - accuracy: 0.6404 - val_loss: 0.5543 - val_accuracy: 0.7500\n",
      "Epoch 3/30\n",
      "20/20 [==============================] - 0s 4ms/step - loss: 0.6231 - accuracy: 0.6677 - val_loss: 0.5996 - val_accuracy: 0.6604\n",
      "Epoch 4/30\n",
      "20/20 [==============================] - 0s 4ms/step - loss: 0.6218 - accuracy: 0.6758 - val_loss: 0.5361 - val_accuracy: 0.7388\n",
      "Epoch 5/30\n",
      "20/20 [==============================] - 0s 5ms/step - loss: 0.5947 - accuracy: 0.6950 - val_loss: 0.5223 - val_accuracy: 0.7612\n",
      "Epoch 6/30\n",
      "20/20 [==============================] - 0s 5ms/step - loss: 0.5874 - accuracy: 0.6838 - val_loss: 0.5483 - val_accuracy: 0.7836\n",
      "Epoch 7/30\n",
      "20/20 [==============================] - 0s 6ms/step - loss: 0.5948 - accuracy: 0.7047 - val_loss: 0.5357 - val_accuracy: 0.7201\n"
     ]
    },
    {
     "data": {
      "text/plain": [
       "<keras.callbacks.History at 0x7f25f98f91f0>"
      ]
     },
     "execution_count": 8,
     "metadata": {},
     "output_type": "execute_result"
    }
   ],
   "source": [
    "# Early stopping: Optimizing the optimization\n",
    "from keras.models import Sequential\n",
    "from keras.layers import Dense\n",
    "from keras.callbacks import EarlyStopping\n",
    "\n",
    "model = Sequential([\n",
    "  Dense(100, activation='relu', input_shape=input_shape),\n",
    "  Dense(100, activation='relu'),\n",
    "  Dense(2, activation='softmax')\n",
    "])\n",
    "\n",
    "model.compile(optimizer='adam', loss='categorical_crossentropy', metrics=['accuracy'])\n",
    "\n",
    "early_stopping_monitor = EarlyStopping(patience=2)\n",
    "\n",
    "model.fit(predictors, target, epochs=30, validation_split=0.3, callbacks=[early_stopping_monitor])"
   ]
  },
  {
   "cell_type": "code",
   "execution_count": 18,
   "id": "f9f6c87f-cc3c-4749-86ec-b77a3b40aa38",
   "metadata": {},
   "outputs": [
    {
     "data": {
      "image/png": "[encoded data removed]",
      "text/plain": [
       "<Figure size 432x288 with 1 Axes>"
      ]
     },
     "metadata": {
      "needs_background": "light"
     },
     "output_type": "display_data"
    }
   ],
   "source": [
    "# Experimenting with wider networks\n",
    "from keras.models import Sequential\n",
    "from keras.layers import Dense\n",
    "from keras.callbacks import EarlyStopping\n",
    "\n",
    "early_stopping_monitor = EarlyStopping(patience=5)\n",
    "\n",
    "# Narrow model\n",
    "model_1 = Sequential([\n",
    "  Dense(10, activation='relu', input_shape=input_shape),\n",
    "  Dense(10, activation='relu'),\n",
    "  Dense(2, activation='softmax')\n",
    "])\n",
    "\n",
    "# Wide model\n",
    "model_2 = Sequential([\n",
    "  Dense(100, activation='relu', input_shape=input_shape),\n",
    "  Dense(100, activation='relu'),\n",
    "  Dense(2, activation='softmax')\n",
    "])\n",
    "\n",
    "model_1.compile(optimizer='adam', loss='categorical_crossentropy', metrics=['accuracy'])\n",
    "model_2.compile(optimizer='adam', loss='categorical_crossentropy', metrics=['accuracy'])\n",
    "\n",
    "model_1_training = model_1.fit(predictors, target, epochs=15, validation_split=0.2, callbacks=[early_stopping_monitor], verbose=False)\n",
    "model_2_training = model_2.fit(predictors, target, epochs=15, validation_split=0.2, callbacks=[early_stopping_monitor], verbose=False)\n",
    "\n",
    "# Plot training histories\n",
    "plt.plot(model_1_training.history['val_loss'], 'r', label='Narrow model')\n",
    "plt.plot(model_2_training.history['val_loss'], 'b', label='Wide model')\n",
    "plt.title('Validation loss')\n",
    "plt.xlabel('Epochs')\n",
    "plt.ylabel('Validation score')\n",
    "plt.yscale('log')\n",
    "plt.legend()\n",
    "plt.show()"
   ]
  },
  {
   "cell_type": "code",
   "execution_count": 20,
   "id": "5f713853-b121-4330-9ca5-beda5d496c2b",
   "metadata": {},
   "outputs": [
    {
     "data": {
      "image/png": "[encoded data removed]",
      "text/plain": [
       "<Figure size 432x288 with 1 Axes>"
      ]
     },
     "metadata": {
      "needs_background": "light"
     },
     "output_type": "display_data"
    }
   ],
   "source": [
    "# Adding layers to a network\n",
    "\n",
    "from keras.models import Sequential\n",
    "from keras.layers import Dense\n",
    "from keras.callbacks import EarlyStopping\n",
    "\n",
    "early_stopping_monitor = EarlyStopping(patience=5)\n",
    "\n",
    "# Shallow network\n",
    "model_1 = Sequential([\n",
    "  Dense(50, activation='relu', input_shape=input_shape),\n",
    "  Dense(2, activation='softmax')\n",
    "])\n",
    "\n",
    "# Deep network\n",
    "model_2 = Sequential([\n",
    "  Dense(50, activation='relu', input_shape=input_shape),\n",
    "  Dense(50, activation='relu'), \n",
    "  Dense(50, activation='relu'),\n",
    "  Dense(2, activation='softmax')\n",
    "])\n",
    "\n",
    "model_1.compile(optimizer='adam', loss='categorical_crossentropy', metrics=['accuracy'])\n",
    "model_2.compile(optimizer='adam', loss='categorical_crossentropy', metrics=['accuracy'])\n",
    "\n",
    "model_1_training = model_1.fit(predictors, target, epochs=20, validation_split=0.4, callbacks=[early_stopping_monitor], verbose=False)\n",
    "model_2_training = model_1.fit(predictors, target, epochs=20, validation_split=0.4, callbacks=[early_stopping_monitor], verbose=False)\n",
    "\n",
    "# Plot training history\n",
    "plt.plot(model_1_training.history['val_loss'], 'r', label='Shallow network')\n",
    "plt.plot(model_2_training.history['val_loss'], 'b', label='Deep network')\n",
    "plt.title('Validation loss')\n",
    "plt.xlabel('Epochs')\n",
    "plt.ylabel('Validation score')\n",
    "plt.yscale('log')\n",
    "plt.legend()\n",
    "plt.show()"
   ]
  },
  {
   "cell_type": "code",
   "execution_count": 31,
   "id": "f4defe3e-a785-4f67-afc4-266054ef536b",
   "metadata": {},
   "outputs": [],
   "source": [
    "# MNIST data\n",
    "from tensorflow.keras.utils import to_categorical\n",
    "\n",
    "data = pd.read_csv('mnist.csv', header=None)\n",
    "target = to_categorical(data[0])\n",
    "predictors = data.drop(0, axis=1).values\n",
    "n_cols = predictors.shape[1]\n",
    "input_shape=(n_cols,)"
   ]
  },
  {
   "cell_type": "code",
   "execution_count": 34,
   "id": "2e5ef778-e624-4edc-88cd-2486eacc3262",
   "metadata": {},
   "outputs": [
    {
     "name": "stdout",
     "output_type": "stream",
     "text": [
      "Epoch 1/10\n",
      "44/44 [==============================] - 1s 11ms/step - loss: 22.5683 - accuracy: 0.3729 - val_loss: 7.8077 - val_accuracy: 0.5624\n",
      "Epoch 2/10\n",
      "44/44 [==============================] - 0s 5ms/step - loss: 4.7221 - accuracy: 0.6579 - val_loss: 4.8086 - val_accuracy: 0.6373\n",
      "Epoch 3/10\n",
      "44/44 [==============================] - 0s 11ms/step - loss: 2.3050 - accuracy: 0.7736 - val_loss: 4.0797 - val_accuracy: 0.6922\n",
      "Epoch 4/10\n",
      "44/44 [==============================] - 0s 10ms/step - loss: 1.4090 - accuracy: 0.8164 - val_loss: 3.5174 - val_accuracy: 0.7354\n",
      "Epoch 5/10\n",
      "44/44 [==============================] - 0s 9ms/step - loss: 0.8768 - accuracy: 0.8779 - val_loss: 3.4571 - val_accuracy: 0.7338\n",
      "Epoch 6/10\n",
      "44/44 [==============================] - 0s 8ms/step - loss: 0.5258 - accuracy: 0.9071 - val_loss: 3.2444 - val_accuracy: 0.7288\n",
      "Epoch 7/10\n",
      "44/44 [==============================] - 0s 7ms/step - loss: 0.3679 - accuracy: 0.9221 - val_loss: 3.0095 - val_accuracy: 0.7720\n",
      "Epoch 8/10\n",
      "44/44 [==============================] - 0s 6ms/step - loss: 0.2324 - accuracy: 0.9507 - val_loss: 3.0762 - val_accuracy: 0.7587\n",
      "Epoch 9/10\n",
      "44/44 [==============================] - 0s 8ms/step - loss: 0.1682 - accuracy: 0.9614 - val_loss: 2.8997 - val_accuracy: 0.7754\n",
      "Epoch 10/10\n",
      "44/44 [==============================] - 0s 6ms/step - loss: 0.0972 - accuracy: 0.9736 - val_loss: 3.0887 - val_accuracy: 0.7720\n"
     ]
    },
    {
     "data": {
      "text/plain": [
       "<keras.callbacks.History at 0x7f25bac436a0>"
      ]
     },
     "execution_count": 34,
     "metadata": {},
     "output_type": "execute_result"
    }
   ],
   "source": [
    "# Building a digit recognition model\n",
    "from keras.models import Sequential\n",
    "from keras.layers import Dense\n",
    "\n",
    "model = Sequential([\n",
    "  Dense(50, activation='relu', input_shape=input_shape),\n",
    "  Dense(50, activation='relu'),\n",
    "  Dense(10, activation='softmax')\n",
    "])\n",
    "\n",
    "model.compile(optimizer='adam', loss='categorical_crossentropy', metrics=['accuracy'])\n",
    "model.fit(predictors, target, validation_split=0.3, epochs=10)"
   ]
  }
 ],
 "metadata": {
  "kernelspec": {
   "display_name": "Python 3 (ipykernel)",
   "language": "python",
   "name": "python3"
  },
  "language_info": {
   "codemirror_mode": {
    "name": "ipython",
    "version": 3
   },
   "file_extension": ".py",
   "mimetype": "text/x-python",
   "name": "python",
   "nbconvert_exporter": "python",
   "pygments_lexer": "ipython3",
   "version": "3.8.10"
  }
 },
 "nbformat": 4,
 "nbformat_minor": 5
}

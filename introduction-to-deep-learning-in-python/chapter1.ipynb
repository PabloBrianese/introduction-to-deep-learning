{
 "cells": [
  {
   "cell_type": "code",
   "execution_count": 4,
   "id": "92e40e1e-6c98-4c7a-abcf-d47a8786d011",
   "metadata": {},
   "outputs": [],
   "source": [
    "import numpy as np"
   ]
  },
  {
   "cell_type": "code",
   "execution_count": 5,
   "id": "80bcd216-df45-4fa7-a325-c040d51c86e7",
   "metadata": {},
   "outputs": [
    {
     "data": {
      "text/plain": [
       "-39"
      ]
     },
     "execution_count": 5,
     "metadata": {},
     "output_type": "execute_result"
    }
   ],
   "source": [
    "# Data\n",
    "input_data = np.array([3, 5])\n",
    "\n",
    "# Model parameters\n",
    "weights = {\n",
    "  'node_0': np.array([2, 4]), \n",
    "  'node_1': np.array([ 4, -5]), \n",
    "  'output': np.array([2, 7])\n",
    "}\n",
    "\n",
    "# Coding the forward propagation algorithm\n",
    "\n",
    "# Calculate node 0 value\n",
    "node_0_value = (input_data * weights['node_0']).sum()\n",
    "\n",
    "# Calculate node 1 value\n",
    "node_1_value = (input_data * weights['node_1']).sum()\n",
    "\n",
    "# Put node values into array\n",
    "hidden_layer_outputs = np.array([node_0_value, node_1_value])\n",
    "\n",
    "# Calculate output\n",
    "output = (hidden_layer_outputs * weights['output']).sum()\n",
    "\n",
    "output"
   ]
  },
  {
   "cell_type": "code",
   "execution_count": 10,
   "id": "c43a7ec3-01c9-4bdb-826c-6477c094e72a",
   "metadata": {},
   "outputs": [
    {
     "data": {
      "text/plain": [
       "0.9901095378334199"
      ]
     },
     "execution_count": 10,
     "metadata": {},
     "output_type": "execute_result"
    }
   ],
   "source": [
    "# Using activation functions\n",
    "\n",
    "# Data\n",
    "input_data = np.array([-1, 2])\n",
    "\n",
    "# Model parameters\n",
    "weights = {\n",
    "  'node_0': np.array([3, 3]),\n",
    "  'node_1': np.array([1, 5]),\n",
    "  'output': np.array([2, -1])\n",
    "}\n",
    "\n",
    "# Forward propagation using the \"tanh\" activation function\n",
    "\n",
    "# Calculate node 0 value\n",
    "node_0_input = (input_data * weights['node_0']).sum()  # Compute dot product\n",
    "node_0_output = np.tanh(node_0_input)  # Use an activation function\n",
    "\n",
    "# Calculate node 1 value\n",
    "node_1_input = (input_data * weights['node_1']).sum()  # Compute dot product\n",
    "node_1_output = np.tanh(node_1_input)  # Use an activation function\n",
    "\n",
    "# Aggregate hidden layer outputs\n",
    "hidden_layer_output = np.array([node_0_output, node_1_output])\n",
    "\n",
    "# Compute prediction\n",
    "output = (hidden_layer_output * weights['output']).sum()  # Compute dot product\n",
    "output"
   ]
  },
  {
   "cell_type": "code",
   "execution_count": 12,
   "id": "547ff661-a8ec-4246-8c5b-56e688ef3053",
   "metadata": {},
   "outputs": [
    {
     "data": {
      "text/plain": [
       "52"
      ]
     },
     "execution_count": 12,
     "metadata": {},
     "output_type": "execute_result"
    }
   ],
   "source": [
    "# The Rectified Linear Activation Function\n",
    "\n",
    "# Data\n",
    "input_data = np.array([3, 5])\n",
    "\n",
    "# Model parameters\n",
    "weights = {\n",
    "  'node_0': np.array([2, 4]),\n",
    "  'node_1': np.array([ 4, -5]), \n",
    "  'output': np.array([2, 7])\n",
    "}\n",
    "\n",
    "# Forward propagation using the \"RELU\" activation function\n",
    "\n",
    "# RELU: Rectified Linear Unit\n",
    "def relu(x): return max(x, 0)\n",
    "\n",
    "# Calulate node 0 value\n",
    "node_0_input = (input_data * weights['node_0']).sum()\n",
    "node_0_output = relu(node_0_input)\n",
    "\n",
    "# Calculate node 1 value\n",
    "node_1_input = (input_data * weights['node_1']).sum()\n",
    "node_1_output = relu(node_1_input)\n",
    "\n",
    "# Put node values into an array\n",
    "hidden_layer_outputs = np.array([node_0_output, node_1_output])\n",
    "\n",
    "# Calculate model output (without RELU)\n",
    "model_output = (hidden_layer_outputs * weights['output']).sum()\n",
    "\n",
    "model_output"
   ]
  }
 ],
 "metadata": {
  "kernelspec": {
   "display_name": "Python 3 (ipykernel)",
   "language": "python",
   "name": "python3"
  },
  "language_info": {
   "codemirror_mode": {
    "name": "ipython",
    "version": 3
   },
   "file_extension": ".py",
   "mimetype": "text/x-python",
   "name": "python",
   "nbconvert_exporter": "python",
   "pygments_lexer": "ipython3",
   "version": "3.8.10"
  }
 },
 "nbformat": 4,
 "nbformat_minor": 5
}

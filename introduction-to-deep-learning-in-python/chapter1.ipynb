{
 "cells": [
  {
   "cell_type": "code",
   "execution_count": 1,
   "id": "92e40e1e-6c98-4c7a-abcf-d47a8786d011",
   "metadata": {},
   "outputs": [],
   "source": [
    "import numpy as np"
   ]
  },
  {
   "cell_type": "code",
   "execution_count": 2,
   "id": "80bcd216-df45-4fa7-a325-c040d51c86e7",
   "metadata": {},
   "outputs": [
    {
     "data": {
      "text/plain": [
       "-39"
      ]
     },
     "execution_count": 2,
     "metadata": {},
     "output_type": "execute_result"
    }
   ],
   "source": [
    "# Data\n",
    "input_data = np.array([3, 5])\n",
    "\n",
    "# Model parameters\n",
    "weights = {\n",
    "  'node_0': np.array([2, 4]), \n",
    "  'node_1': np.array([ 4, -5]), \n",
    "  'output': np.array([2, 7])\n",
    "}\n",
    "\n",
    "# Coding the forward propagation algorithm\n",
    "\n",
    "# Calculate node 0 value\n",
    "node_0_value = (input_data * weights['node_0']).sum()\n",
    "\n",
    "# Calculate node 1 value\n",
    "node_1_value = (input_data * weights['node_1']).sum()\n",
    "\n",
    "# Put node values into array\n",
    "hidden_layer_outputs = np.array([node_0_value, node_1_value])\n",
    "\n",
    "# Calculate output\n",
    "output = (hidden_layer_outputs * weights['output']).sum()\n",
    "\n",
    "output"
   ]
  },
  {
   "cell_type": "code",
   "execution_count": 3,
   "id": "c43a7ec3-01c9-4bdb-826c-6477c094e72a",
   "metadata": {},
   "outputs": [
    {
     "data": {
      "text/plain": [
       "0.9901095378334199"
      ]
     },
     "execution_count": 3,
     "metadata": {},
     "output_type": "execute_result"
    }
   ],
   "source": [
    "# Using activation functions\n",
    "\n",
    "# Data\n",
    "input_data = np.array([-1, 2])\n",
    "\n",
    "# Model parameters\n",
    "weights = {\n",
    "  'node_0': np.array([3, 3]),\n",
    "  'node_1': np.array([1, 5]),\n",
    "  'output': np.array([2, -1])\n",
    "}\n",
    "\n",
    "# Forward propagation using the \"tanh\" activation function\n",
    "\n",
    "# Calculate node 0 value\n",
    "node_0_input = (input_data * weights['node_0']).sum()  # Compute dot product\n",
    "node_0_output = np.tanh(node_0_input)  # Use an activation function\n",
    "\n",
    "# Calculate node 1 value\n",
    "node_1_input = (input_data * weights['node_1']).sum()  # Compute dot product\n",
    "node_1_output = np.tanh(node_1_input)  # Use an activation function\n",
    "\n",
    "# Aggregate hidden layer outputs\n",
    "hidden_layer_output = np.array([node_0_output, node_1_output])\n",
    "\n",
    "# Compute prediction\n",
    "output = (hidden_layer_output * weights['output']).sum()  # Compute dot product\n",
    "output"
   ]
  },
  {
   "cell_type": "code",
   "execution_count": 4,
   "id": "547ff661-a8ec-4246-8c5b-56e688ef3053",
   "metadata": {},
   "outputs": [
    {
     "data": {
      "text/plain": [
       "52"
      ]
     },
     "execution_count": 4,
     "metadata": {},
     "output_type": "execute_result"
    }
   ],
   "source": [
    "# The Rectified Linear Activation Function\n",
    "\n",
    "# Data\n",
    "input_data = np.array([3, 5])\n",
    "\n",
    "# Model parameters\n",
    "weights = {\n",
    "  'node_0': np.array([2, 4]),\n",
    "  'node_1': np.array([ 4, -5]), \n",
    "  'output': np.array([2, 7])\n",
    "}\n",
    "\n",
    "# Forward propagation using the \"RELU\" activation function\n",
    "\n",
    "# RELU: Rectified Linear Unit\n",
    "def relu(x): return max(x, 0)\n",
    "\n",
    "# Calulate node 0 value\n",
    "node_0_input = (input_data * weights['node_0']).sum()\n",
    "node_0_output = relu(node_0_input)\n",
    "\n",
    "# Calculate node 1 value\n",
    "node_1_input = (input_data * weights['node_1']).sum()\n",
    "node_1_output = relu(node_1_input)\n",
    "\n",
    "# Put node values into an array\n",
    "hidden_layer_outputs = np.array([node_0_output, node_1_output])\n",
    "\n",
    "# Calculate model output (without RELU)\n",
    "model_output = (hidden_layer_outputs * weights['output']).sum()\n",
    "\n",
    "model_output"
   ]
  },
  {
   "cell_type": "code",
   "execution_count": 5,
   "id": "14f57148-5fc7-4c06-9a49-2f773d47d747",
   "metadata": {},
   "outputs": [
    {
     "data": {
      "text/plain": [
       "[52, 63, 0, 148]"
      ]
     },
     "execution_count": 5,
     "metadata": {},
     "output_type": "execute_result"
    }
   ],
   "source": [
    "input_data = [np.array([3, 5]), np.array([ 1, -1]), np.array([0, 0]), np.array([8, 4])]\n",
    "\n",
    "weights = {'node_0': np.array([2, 4]), 'node_1': np.array([ 4, -5]), 'output': np.array([2, 7])}\n",
    "\n",
    "\n",
    "def predict_with_network(input_data_row, weights=weights):\n",
    "  # Calculate node 0 value\n",
    "  node_0_input = (input_data_row * weights['node_0']).sum()\n",
    "  node_0_output = relu(node_0_input)\n",
    "  \n",
    "  # Calculate node 1 value\n",
    "  node_1_input = (input_data_row * weights['node_1']).sum()\n",
    "  node_1_output = relu(node_1_input)\n",
    "  \n",
    "  # Put node values into array\n",
    "  hidden_layer_outputs = np.array([node_0_output, node_1_output])\n",
    "  \n",
    "  # Calculate model output\n",
    "  input_to_final_layer = (hidden_layer_outputs * weights['output']).sum()\n",
    "  model_output = relu(input_to_final_layer)\n",
    "  \n",
    "  return model_output\n",
    "\n",
    "  \n",
    "results = []\n",
    "for input_data_row in input_data:\n",
    "  results.append(predict_with_network(input_data_row, weights))\n",
    "\n",
    "results"
   ]
  },
  {
   "cell_type": "code",
   "execution_count": 6,
   "id": "da03d986-5010-4516-a61c-5f7843aa637b",
   "metadata": {},
   "outputs": [
    {
     "data": {
      "text/plain": [
       "182"
      ]
     },
     "execution_count": 6,
     "metadata": {},
     "output_type": "execute_result"
    }
   ],
   "source": [
    "# Multi-layer neural networks\n",
    "\n",
    "input_data = np.array([3, 5])\n",
    "\n",
    "weights = {'node_0_0': np.array([2, 4]),\n",
    " 'node_0_1': np.array([ 4, -5]),\n",
    " 'node_1_0': np.array([-1,  2]),\n",
    " 'node_1_1': np.array([1, 2]),\n",
    " 'output': np.array([2, 7])}\n",
    "\n",
    "\n",
    "def predict_with_network(input_data, weights=weights):\n",
    "  # Calculate node 0 in the first hidden layer\n",
    "  node_0_0_input = (input_data * weights['node_0_0']).sum()\n",
    "  node_0_0_output = relu(node_0_0_input)\n",
    "  \n",
    "  # Calculate node 1 in the first hidden layer\n",
    "  node_0_1_input = (input_data * weights['node_0_1']).sum()\n",
    "  node_0_1_output = relu(node_0_1_input)\n",
    "  \n",
    "  # Put node values into array\n",
    "  hidden_0_outputs = np.array([node_0_0_output, node_0_1_output])\n",
    "  \n",
    "  # Calculate node 0 in the second hidden layer\n",
    "  node_1_0_input = (hidden_0_outputs * weights['node_1_0']).sum()\n",
    "  node_1_0_output = relu(node_1_0_input)\n",
    "  \n",
    "  # Calculate node 1 in the second hidden layer\n",
    "  node_1_1_input = (hidden_0_outputs * weights['node_1_1']).sum()\n",
    "  node_1_1_output = relu(node_1_1_input)\n",
    "  \n",
    "  # Put node values into an array\n",
    "  hidden_1_outputs = np.array([node_1_0_output, node_1_1_output])\n",
    "  \n",
    "  # Calculate model output\n",
    "  model_output = (hidden_1_outputs * weights['output']).sum()\n",
    "  \n",
    "  return model_output\n",
    "\n",
    "\n",
    "output = predict_with_network(input_data)\n",
    "output"
   ]
  },
  {
   "cell_type": "code",
   "execution_count": 10,
   "id": "40084ea2-bf53-419c-ba7b-74593984fcbf",
   "metadata": {},
   "outputs": [
    {
     "data": {
      "text/plain": [
       "(6, 0)"
      ]
     },
     "execution_count": 10,
     "metadata": {},
     "output_type": "execute_result"
    }
   ],
   "source": [
    "# Coding how weight changes affect accuracy\n",
    "\n",
    "# The data point you will make a prediction for\n",
    "input_data = np.array([0, 3])\n",
    "\n",
    "# Sample weights\n",
    "weights_0 = {\n",
    "  'node_0': [2, 1],\n",
    "  'node_1': [1, 2],\n",
    "  'output': [1, 1]\n",
    "}\n",
    "\n",
    "# The actual target value, used to calculate the error\n",
    "target_actual = 3\n",
    "\n",
    "\n",
    "def predict_with_network(input_data_row, weights=weights):\n",
    "  # Calculate node 0 value\n",
    "  node_0_input = (input_data_row * weights['node_0']).sum()\n",
    "  node_0_output = relu(node_0_input)\n",
    "  \n",
    "  # Calculate node 1 value\n",
    "  node_1_input = (input_data_row * weights['node_1']).sum()\n",
    "  node_1_output = relu(node_1_input)\n",
    "  \n",
    "  # Put node values into array\n",
    "  hidden_layer_outputs = np.array([node_0_output, node_1_output])\n",
    "  \n",
    "  # Calculate model output\n",
    "  input_to_final_layer = (hidden_layer_outputs * weights['output']).sum()\n",
    "  model_output = relu(input_to_final_layer)\n",
    "  \n",
    "  return model_output\n",
    "\n",
    "\n",
    "# Make prediction using the original weights\n",
    "model_output_0 = predict_with_network(input_data, weights_0)\n",
    "\n",
    "# Calculate error\n",
    "error_0 = model_output_0 - target_actual\n",
    "\n",
    "# Create weights that cause the network to make perfect prediction\n",
    "weights_1 = {\n",
    "  'node_0': [2, 1],\n",
    "  'node_1': [1, 2],\n",
    "  'output': [-1, 1]\n",
    "}\n",
    "\n",
    "# Make prediction using new weights\n",
    "model_output_1 = predict_with_network(input_data, weights_1)\n",
    "\n",
    "#Calculate error\n",
    "error_1 = model_output_1 - target_actual\n",
    "\n",
    "# Compare results\n",
    "error_0, error_1"
   ]
  },
  {
   "cell_type": "code",
   "execution_count": 12,
   "id": "797ca101-585c-4cc3-9d6f-cbafb636b17c",
   "metadata": {},
   "outputs": [
    {
     "name": "stdout",
     "output_type": "stream",
     "text": [
      "Mean squared error with weights_0: 37.5\n",
      "Mean squared error with weights_1: 49.890625\n"
     ]
    }
   ],
   "source": [
    "input_data = [np.array([0, 3]), np.array([1, 2]), np.array([-1, -2]), np.array([4, 0])]\n",
    "target_actuals = [1, 3, 5, 7]\n",
    "\n",
    "weights_0 = {'node_0': np.array([2, 1]), 'node_1': np.array([1, 2]), 'output': np.array([1, 1])}\n",
    "weights_1 = {'node_0': np.array([2, 1]),\n",
    " 'node_1': np.array([1. , 1.5]),\n",
    " 'output': np.array([1. , 1.5])}\n",
    "\n",
    "from sklearn.metrics import mean_squared_error\n",
    "\n",
    "model_output_0 = []\n",
    "model_output_1 = []\n",
    "\n",
    "for row in input_data:\n",
    "  model_output_0.append(predict_with_network(row, weights_0))\n",
    "  model_output_1.append(predict_with_network(row, weights_1))\n",
    "\n",
    "mse_0 = mean_squared_error(target_actuals, model_output_0)\n",
    "mse_1 = mean_squared_error(target_actuals, model_output_1)\n",
    "\n",
    "print(f\"Mean squared error with weights_0: {mse_0}\")\n",
    "print(f\"Mean squared error with weights_1: {mse_1}\")"
   ]
  }
 ],
 "metadata": {
  "kernelspec": {
   "display_name": "Python 3 (ipykernel)",
   "language": "python",
   "name": "python3"
  },
  "language_info": {
   "codemirror_mode": {
    "name": "ipython",
    "version": 3
   },
   "file_extension": ".py",
   "mimetype": "text/x-python",
   "name": "python",
   "nbconvert_exporter": "python",
   "pygments_lexer": "ipython3",
   "version": "3.8.10"
  }
 },
 "nbformat": 4,
 "nbformat_minor": 5
}

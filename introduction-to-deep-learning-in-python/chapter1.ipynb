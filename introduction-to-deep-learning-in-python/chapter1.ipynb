{
 "cells": [
  {
   "cell_type": "code",
   "execution_count": 9,
   "id": "92e40e1e-6c98-4c7a-abcf-d47a8786d011",
   "metadata": {},
   "outputs": [],
   "source": [
    "import numpy as np\n",
    "from matplotlib import pyplot as plt"
   ]
  },
  {
   "cell_type": "code",
   "execution_count": 2,
   "id": "80bcd216-df45-4fa7-a325-c040d51c86e7",
   "metadata": {},
   "outputs": [
    {
     "data": {
      "text/plain": [
       "-39"
      ]
     },
     "execution_count": 2,
     "metadata": {},
     "output_type": "execute_result"
    }
   ],
   "source": [
    "# Data\n",
    "input_data = np.array([3, 5])\n",
    "\n",
    "# Model parameters\n",
    "weights = {\n",
    "  'node_0': np.array([2, 4]), \n",
    "  'node_1': np.array([ 4, -5]), \n",
    "  'output': np.array([2, 7])\n",
    "}\n",
    "\n",
    "# Coding the forward propagation algorithm\n",
    "\n",
    "# Calculate node 0 value\n",
    "node_0_value = (input_data * weights['node_0']).sum()\n",
    "\n",
    "# Calculate node 1 value\n",
    "node_1_value = (input_data * weights['node_1']).sum()\n",
    "\n",
    "# Put node values into array\n",
    "hidden_layer_outputs = np.array([node_0_value, node_1_value])\n",
    "\n",
    "# Calculate output\n",
    "output = (hidden_layer_outputs * weights['output']).sum()\n",
    "\n",
    "output"
   ]
  },
  {
   "cell_type": "code",
   "execution_count": 3,
   "id": "c43a7ec3-01c9-4bdb-826c-6477c094e72a",
   "metadata": {},
   "outputs": [
    {
     "data": {
      "text/plain": [
       "0.9901095378334199"
      ]
     },
     "execution_count": 3,
     "metadata": {},
     "output_type": "execute_result"
    }
   ],
   "source": [
    "# Using activation functions\n",
    "\n",
    "# Data\n",
    "input_data = np.array([-1, 2])\n",
    "\n",
    "# Model parameters\n",
    "weights = {\n",
    "  'node_0': np.array([3, 3]),\n",
    "  'node_1': np.array([1, 5]),\n",
    "  'output': np.array([2, -1])\n",
    "}\n",
    "\n",
    "# Forward propagation using the \"tanh\" activation function\n",
    "\n",
    "# Calculate node 0 value\n",
    "node_0_input = (input_data * weights['node_0']).sum()  # Compute dot product\n",
    "node_0_output = np.tanh(node_0_input)  # Use an activation function\n",
    "\n",
    "# Calculate node 1 value\n",
    "node_1_input = (input_data * weights['node_1']).sum()  # Compute dot product\n",
    "node_1_output = np.tanh(node_1_input)  # Use an activation function\n",
    "\n",
    "# Aggregate hidden layer outputs\n",
    "hidden_layer_output = np.array([node_0_output, node_1_output])\n",
    "\n",
    "# Compute prediction\n",
    "output = (hidden_layer_output * weights['output']).sum()  # Compute dot product\n",
    "output"
   ]
  },
  {
   "cell_type": "code",
   "execution_count": 4,
   "id": "547ff661-a8ec-4246-8c5b-56e688ef3053",
   "metadata": {},
   "outputs": [
    {
     "data": {
      "text/plain": [
       "52"
      ]
     },
     "execution_count": 4,
     "metadata": {},
     "output_type": "execute_result"
    }
   ],
   "source": [
    "# The Rectified Linear Activation Function\n",
    "\n",
    "# Data\n",
    "input_data = np.array([3, 5])\n",
    "\n",
    "# Model parameters\n",
    "weights = {\n",
    "  'node_0': np.array([2, 4]),\n",
    "  'node_1': np.array([ 4, -5]), \n",
    "  'output': np.array([2, 7])\n",
    "}\n",
    "\n",
    "# Forward propagation using the \"RELU\" activation function\n",
    "\n",
    "# RELU: Rectified Linear Unit\n",
    "def relu(x): return max(x, 0)\n",
    "\n",
    "# Calulate node 0 value\n",
    "node_0_input = (input_data * weights['node_0']).sum()\n",
    "node_0_output = relu(node_0_input)\n",
    "\n",
    "# Calculate node 1 value\n",
    "node_1_input = (input_data * weights['node_1']).sum()\n",
    "node_1_output = relu(node_1_input)\n",
    "\n",
    "# Put node values into an array\n",
    "hidden_layer_outputs = np.array([node_0_output, node_1_output])\n",
    "\n",
    "# Calculate model output (without RELU)\n",
    "model_output = (hidden_layer_outputs * weights['output']).sum()\n",
    "\n",
    "model_output"
   ]
  },
  {
   "cell_type": "code",
   "execution_count": 5,
   "id": "14f57148-5fc7-4c06-9a49-2f773d47d747",
   "metadata": {},
   "outputs": [
    {
     "data": {
      "text/plain": [
       "[52, 63, 0, 148]"
      ]
     },
     "execution_count": 5,
     "metadata": {},
     "output_type": "execute_result"
    }
   ],
   "source": [
    "input_data = [np.array([3, 5]), np.array([ 1, -1]), np.array([0, 0]), np.array([8, 4])]\n",
    "\n",
    "weights = {'node_0': np.array([2, 4]), 'node_1': np.array([ 4, -5]), 'output': np.array([2, 7])}\n",
    "\n",
    "\n",
    "def predict_with_network(input_data_row, weights=weights):\n",
    "  # Calculate node 0 value\n",
    "  node_0_input = (input_data_row * weights['node_0']).sum()\n",
    "  node_0_output = relu(node_0_input)\n",
    "  \n",
    "  # Calculate node 1 value\n",
    "  node_1_input = (input_data_row * weights['node_1']).sum()\n",
    "  node_1_output = relu(node_1_input)\n",
    "  \n",
    "  # Put node values into array\n",
    "  hidden_layer_outputs = np.array([node_0_output, node_1_output])\n",
    "  \n",
    "  # Calculate model output\n",
    "  input_to_final_layer = (hidden_layer_outputs * weights['output']).sum()\n",
    "  model_output = relu(input_to_final_layer)\n",
    "  \n",
    "  return model_output\n",
    "\n",
    "  \n",
    "results = []\n",
    "for input_data_row in input_data:\n",
    "  results.append(predict_with_network(input_data_row, weights))\n",
    "\n",
    "results"
   ]
  },
  {
   "cell_type": "code",
   "execution_count": 6,
   "id": "da03d986-5010-4516-a61c-5f7843aa637b",
   "metadata": {},
   "outputs": [
    {
     "data": {
      "text/plain": [
       "182"
      ]
     },
     "execution_count": 6,
     "metadata": {},
     "output_type": "execute_result"
    }
   ],
   "source": [
    "# Multi-layer neural networks\n",
    "\n",
    "input_data = np.array([3, 5])\n",
    "\n",
    "weights = {'node_0_0': np.array([2, 4]),\n",
    " 'node_0_1': np.array([ 4, -5]),\n",
    " 'node_1_0': np.array([-1,  2]),\n",
    " 'node_1_1': np.array([1, 2]),\n",
    " 'output': np.array([2, 7])}\n",
    "\n",
    "\n",
    "def predict_with_network(input_data, weights=weights):\n",
    "  # Calculate node 0 in the first hidden layer\n",
    "  node_0_0_input = (input_data * weights['node_0_0']).sum()\n",
    "  node_0_0_output = relu(node_0_0_input)\n",
    "  \n",
    "  # Calculate node 1 in the first hidden layer\n",
    "  node_0_1_input = (input_data * weights['node_0_1']).sum()\n",
    "  node_0_1_output = relu(node_0_1_input)\n",
    "  \n",
    "  # Put node values into array\n",
    "  hidden_0_outputs = np.array([node_0_0_output, node_0_1_output])\n",
    "  \n",
    "  # Calculate node 0 in the second hidden layer\n",
    "  node_1_0_input = (hidden_0_outputs * weights['node_1_0']).sum()\n",
    "  node_1_0_output = relu(node_1_0_input)\n",
    "  \n",
    "  # Calculate node 1 in the second hidden layer\n",
    "  node_1_1_input = (hidden_0_outputs * weights['node_1_1']).sum()\n",
    "  node_1_1_output = relu(node_1_1_input)\n",
    "  \n",
    "  # Put node values into an array\n",
    "  hidden_1_outputs = np.array([node_1_0_output, node_1_1_output])\n",
    "  \n",
    "  # Calculate model output\n",
    "  model_output = (hidden_1_outputs * weights['output']).sum()\n",
    "  \n",
    "  return model_output\n",
    "\n",
    "\n",
    "output = predict_with_network(input_data)\n",
    "output"
   ]
  },
  {
   "cell_type": "code",
   "execution_count": 10,
   "id": "40084ea2-bf53-419c-ba7b-74593984fcbf",
   "metadata": {},
   "outputs": [
    {
     "data": {
      "text/plain": [
       "(6, 0)"
      ]
     },
     "execution_count": 10,
     "metadata": {},
     "output_type": "execute_result"
    }
   ],
   "source": [
    "# Coding how weight changes affect accuracy\n",
    "\n",
    "# The data point you will make a prediction for\n",
    "input_data = np.array([0, 3])\n",
    "\n",
    "# Sample weights\n",
    "weights_0 = {\n",
    "  'node_0': [2, 1],\n",
    "  'node_1': [1, 2],\n",
    "  'output': [1, 1]\n",
    "}\n",
    "\n",
    "# The actual target value, used to calculate the error\n",
    "target_actual = 3\n",
    "\n",
    "\n",
    "def predict_with_network(input_data_row, weights=weights):\n",
    "  # Calculate node 0 value\n",
    "  node_0_input = (input_data_row * weights['node_0']).sum()\n",
    "  node_0_output = relu(node_0_input)\n",
    "  \n",
    "  # Calculate node 1 value\n",
    "  node_1_input = (input_data_row * weights['node_1']).sum()\n",
    "  node_1_output = relu(node_1_input)\n",
    "  \n",
    "  # Put node values into array\n",
    "  hidden_layer_outputs = np.array([node_0_output, node_1_output])\n",
    "  \n",
    "  # Calculate model output\n",
    "  input_to_final_layer = (hidden_layer_outputs * weights['output']).sum()\n",
    "  model_output = relu(input_to_final_layer)\n",
    "  \n",
    "  return model_output\n",
    "\n",
    "\n",
    "# Make prediction using the original weights\n",
    "model_output_0 = predict_with_network(input_data, weights_0)\n",
    "\n",
    "# Calculate error\n",
    "error_0 = model_output_0 - target_actual\n",
    "\n",
    "# Create weights that cause the network to make perfect prediction\n",
    "weights_1 = {\n",
    "  'node_0': [2, 1],\n",
    "  'node_1': [1, 2],\n",
    "  'output': [-1, 1]\n",
    "}\n",
    "\n",
    "# Make prediction using new weights\n",
    "model_output_1 = predict_with_network(input_data, weights_1)\n",
    "\n",
    "#Calculate error\n",
    "error_1 = model_output_1 - target_actual\n",
    "\n",
    "# Compare results\n",
    "error_0, error_1"
   ]
  },
  {
   "cell_type": "code",
   "execution_count": 12,
   "id": "797ca101-585c-4cc3-9d6f-cbafb636b17c",
   "metadata": {},
   "outputs": [
    {
     "name": "stdout",
     "output_type": "stream",
     "text": [
      "Mean squared error with weights_0: 37.5\n",
      "Mean squared error with weights_1: 49.890625\n"
     ]
    }
   ],
   "source": [
    "input_data = [np.array([0, 3]), np.array([1, 2]), np.array([-1, -2]), np.array([4, 0])]\n",
    "target_actuals = [1, 3, 5, 7]\n",
    "\n",
    "weights_0 = {'node_0': np.array([2, 1]), 'node_1': np.array([1, 2]), 'output': np.array([1, 1])}\n",
    "weights_1 = {'node_0': np.array([2, 1]),\n",
    " 'node_1': np.array([1. , 1.5]),\n",
    " 'output': np.array([1. , 1.5])}\n",
    "\n",
    "from sklearn.metrics import mean_squared_error\n",
    "\n",
    "model_output_0 = []\n",
    "model_output_1 = []\n",
    "\n",
    "for row in input_data:\n",
    "  model_output_0.append(predict_with_network(row, weights_0))\n",
    "  model_output_1.append(predict_with_network(row, weights_1))\n",
    "\n",
    "mse_0 = mean_squared_error(target_actuals, model_output_0)\n",
    "mse_1 = mean_squared_error(target_actuals, model_output_1)\n",
    "\n",
    "print(f\"Mean squared error with weights_0: {mse_0}\")\n",
    "print(f\"Mean squared error with weights_1: {mse_1}\")"
   ]
  },
  {
   "cell_type": "code",
   "execution_count": 3,
   "id": "a039ef94-2b18-4a11-aa1d-ca0d75907603",
   "metadata": {},
   "outputs": [
    {
     "name": "stdout",
     "output_type": "stream",
     "text": [
      "5\n",
      "[30 40]\n",
      "2.5\n"
     ]
    }
   ],
   "source": [
    "# Code to calculate splopes and update weights\n",
    "import numpy as np\n",
    "weights = np.array([1, 2])\n",
    "input_data = np.array([3, 4])\n",
    "target = 6\n",
    "learning_rate = 0.01\n",
    "preds = (weights * input_data).sum()\n",
    "error = preds - target\n",
    "print(error)\n",
    "\n",
    "gradient = 2 * input_data * error\n",
    "print(gradient)\n",
    "\n",
    "weights_updated = weights - learning_rate * gradient\n",
    "preds_updated = (weights_updated * input_data).sum()\n",
    "error_updated = preds_updated - target\n",
    "print(error_updated)"
   ]
  },
  {
   "cell_type": "code",
   "execution_count": 4,
   "id": "a2434082-d28d-4e0e-b240-db3d4f9c7513",
   "metadata": {},
   "outputs": [
    {
     "name": "stdout",
     "output_type": "stream",
     "text": [
      "[14 28 42]\n"
     ]
    }
   ],
   "source": [
    "# Calculate slopes\n",
    "input_data = np.array([1, 2, 3])\n",
    "weights = np.array([0, 2, 1])\n",
    "target = 0\n",
    "\n",
    "# Calculate the predictions\n",
    "preds = (input_data * weights).sum()\n",
    "\n",
    "# Calculate the error\n",
    "error = preds - target\n",
    "\n",
    "# Calculate the slope\n",
    "slope = 2 * input_data * error\n",
    "\n",
    "print(slope)"
   ]
  },
  {
   "cell_type": "code",
   "execution_count": 5,
   "id": "c3e3c625-29d1-4d15-b66d-94e1ff89534c",
   "metadata": {},
   "outputs": [
    {
     "name": "stdout",
     "output_type": "stream",
     "text": [
      "7 5.04\n"
     ]
    }
   ],
   "source": [
    "# Improving model weights\n",
    "input_data = np.array([1, 2, 3])\n",
    "weights = np.array([0, 2, 1])\n",
    "target = 0\n",
    "\n",
    "# Set the learning rate\n",
    "learning_rate = 0.01\n",
    "\n",
    "# Calculate the predictions\n",
    "preds = (weights * input_data).sum()\n",
    "\n",
    "# Calculate the error\n",
    "error = preds - target\n",
    "\n",
    "# Calculate the slope\n",
    "slope = 2 * input_data * error\n",
    "\n",
    "# Update the weights\n",
    "weights_updated = weights - learning_rate * slope\n",
    "\n",
    "# Get updated predictions\n",
    "preds_updated = (input_data * weights_updated).sum()\n",
    "\n",
    "# Calculate updated error\n",
    "error_updated = preds_updated - target\n",
    "\n",
    "print(error, error_updated)"
   ]
  },
  {
   "cell_type": "code",
   "execution_count": 10,
   "id": "4f24126b-16b8-487e-9cf8-40ac26d14e26",
   "metadata": {},
   "outputs": [
    {
     "data": {
      "image/png": "[encoded data removed]",
      "text/plain": [
       "<Figure size 432x288 with 1 Axes>"
      ]
     },
     "metadata": {
      "needs_background": "light"
     },
     "output_type": "display_data"
    }
   ],
   "source": [
    "# Making multiple updates to weights\n",
    "input_data = np.array([1, 2, 3])\n",
    "weights = np.array([0, 2, 1])\n",
    "target = 0\n",
    "\n",
    "def get_mse(input_data, target, weights):\n",
    "  preds = input_data.dot(weights)\n",
    "  error = preds - target\n",
    "  mse = error**2\n",
    "  return mse\n",
    "\n",
    "def get_slope(input_data, target, weights):\n",
    "  preds = input_data.dot(weights)\n",
    "  slope = 2 * input_data * (preds - target)\n",
    "  return slope\n",
    "\n",
    "learning_rate = 0.01\n",
    "n_updates = 20\n",
    "mse_hist = []\n",
    "\n",
    "for i in range(n_updates):\n",
    "  slope = get_slope(input_data, target, weights)\n",
    "  weights = weights - learning_rate * slope\n",
    "  mse = get_mse(input_data, target, weights)\n",
    "  mse_hist.append(mse)\n",
    "\n",
    "\n",
    "plt.plot(mse_hist)\n",
    "plt.xlabel('Iterations')\n",
    "plt.ylabel('Mean Squared Error')\n",
    "plt.show()"
   ]
  }
 ],
 "metadata": {
  "kernelspec": {
   "display_name": "Python 3 (ipykernel)",
   "language": "python",
   "name": "python3"
  },
  "language_info": {
   "codemirror_mode": {
    "name": "ipython",
    "version": 3
   },
   "file_extension": ".py",
   "mimetype": "text/x-python",
   "name": "python",
   "nbconvert_exporter": "python",
   "pygments_lexer": "ipython3",
   "version": "3.8.10"
  }
 },
 "nbformat": 4,
 "nbformat_minor": 5
}

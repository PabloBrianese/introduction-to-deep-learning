{
  "nbformat": 4,
  "nbformat_minor": 0,
  "metadata": {
    "colab": {
      "name": "chapter4.ipynb",
      "provenance": [],
      "collapsed_sections": [],
      "authorship_tag": "ABX9TyOsWgrApzeLBQO4ez8s0+sM",
      "include_colab_link": true
    },
    "kernelspec": {
      "name": "python3",
      "display_name": "Python 3"
    },
    "language_info": {
      "name": "python"
    }
  },
  "cells": [
    {
      "cell_type": "markdown",
      "metadata": {
        "id": "view-in-github",
        "colab_type": "text"
      },
      "source": [
        "<a href=\"https://colab.research.google.com/github/PabloBrianese/introduction-to-deep-learning/blob/main/chapter4.ipynb\" target=\"_parent\"><img src=\"https://colab.research.google.com/assets/colab-badge.svg\" alt=\"Open In Colab\"/></a>"
      ]
    },
    {
      "cell_type": "code",
      "metadata": {
        "colab": {
          "base_uri": "https://localhost:8080/"
        },
        "id": "65XMUtIkajBd",
        "outputId": "16044a01-a72d-4798-bfa5-6af50498c317"
      },
      "source": [
        "# Building a sequential model\n",
        "\n",
        "# Import tensorflow\n",
        "from tensorflow import keras\n",
        "\n",
        "# Define a sequential model\n",
        "model = keras.Sequential()\n",
        "\n",
        "# Define first hidden layer\n",
        "model.add(keras.layers.Dense(16, activation='relu', input_shape=(28*28,)))\n",
        "\n",
        "# Define second hidden layer\n",
        "model.add(keras.layers.Dense(8, activation='relu'))\n",
        "\n",
        "# Define output layer\n",
        "model.add(keras.layers.Dense(4, activation='softmax'))\n",
        "\n",
        "# Compile the model\n",
        "model.compile('adam', loss='categorical_crossentropy')\n",
        "\n",
        "# Summarize the model\n",
        "model.summary()"
      ],
      "execution_count": 2,
      "outputs": [
        {
          "output_type": "stream",
          "name": "stdout",
          "text": [
            "Model: \"sequential_1\"\n",
            "_________________________________________________________________\n",
            "Layer (type)                 Output Shape              Param #   \n",
            "=================================================================\n",
            "dense_1 (Dense)              (None, 16)                12560     \n",
            "_________________________________________________________________\n",
            "dense_2 (Dense)              (None, 8)                 136       \n",
            "_________________________________________________________________\n",
            "dense_3 (Dense)              (None, 4)                 36        \n",
            "=================================================================\n",
            "Total params: 12,732\n",
            "Trainable params: 12,732\n",
            "Non-trainable params: 0\n",
            "_________________________________________________________________\n"
          ]
        }
      ]
    },
    {
      "cell_type": "code",
      "metadata": {
        "id": "fQ8FmAn-fsEQ"
      },
      "source": [
        "# Functional API\n",
        "import tensorflow as tf\n",
        "\n",
        "# Define model 1 input layer shape\n",
        "model1_inputs = tf.keras.Input(shape=(10,))\n",
        "\n",
        "# Define model 2 input layer shape\n",
        "model2_inputs = tf.keras.Input(shape=(10,))\n",
        "\n",
        "# Define layer 1 for model 1\n",
        "model1_layer1 = tf.keras.layers.Dense(12, activation='relu')(model1_inputs)\n",
        "# Define layer 2 for model 1\n",
        "model1_layer2 = tf.keras.layers.Dense(4, activation='softmax')(model1_layer1)\n",
        "\n",
        "# Define layer 1 for model 2\n",
        "model2_layer1 = tf.keras.layers.Dense(8, activation='relu')(model2_inputs)\n",
        "# Define layer 2 for model 2\n",
        "model2_layer2 = tf.keras.layers.Dense(4, activation='softmax')(model2_layer1)\n",
        "\n",
        "# Merge model 1 and model 2\n",
        "merged = tf.keras.layers.add([model1_layer2, model2_layer2])\n",
        "\n",
        "# Define a functional model\n",
        "model = tf.keras.Model(inputs=[model1_inputs, model2_inputs], outputs=merged)\n",
        "\n",
        "# Compile the model\n",
        "model.compile('adam', loss='categorical_crossentropy')"
      ],
      "execution_count": 3,
      "outputs": []
    },
    {
      "cell_type": "code",
      "metadata": {
        "colab": {
          "base_uri": "https://localhost:8080/"
        },
        "id": "OBXdAwRHiH5M",
        "outputId": "185eab4d-1825-4ca4-dbfc-87a9dd0f88bb"
      },
      "source": [
        "# The sequential model in Keras\n",
        "\n",
        "# Define a Keras sequential model\n",
        "model = keras.Sequential()\n",
        "\n",
        "# Define the first dense layer\n",
        "model.add(keras.layers.Dense(16, activation='relu', input_shape=(28*28,)))\n",
        "\n",
        "# Define the second dense layer\n",
        "model.add(keras.layers.Dense(8, activation='relu'))\n",
        "\n",
        "# Define the output layer\n",
        "model.add(keras.layers.Dense(4, activation='softmax'))\n",
        "\n",
        "# Print the model arquitecture\n",
        "model.summary()"
      ],
      "execution_count": 5,
      "outputs": [
        {
          "output_type": "stream",
          "name": "stdout",
          "text": [
            "Model: \"sequential_3\"\n",
            "_________________________________________________________________\n",
            "Layer (type)                 Output Shape              Param #   \n",
            "=================================================================\n",
            "dense_8 (Dense)              (None, 16)                12560     \n",
            "_________________________________________________________________\n",
            "dense_9 (Dense)              (None, 8)                 136       \n",
            "_________________________________________________________________\n",
            "dense_10 (Dense)             (None, 4)                 36        \n",
            "=================================================================\n",
            "Total params: 12,732\n",
            "Trainable params: 12,732\n",
            "Non-trainable params: 0\n",
            "_________________________________________________________________\n"
          ]
        }
      ]
    },
    {
      "cell_type": "code",
      "metadata": {
        "colab": {
          "base_uri": "https://localhost:8080/"
        },
        "id": "KwQf0cmAnD1f",
        "outputId": "7c6612a4-6ede-4246-d5dd-4707bce0313c"
      },
      "source": [
        "# Compiling a sequential model\n",
        "\n",
        "from tensorflow import keras\n",
        "from tensorflow.keras.layers import Dense, Dropout\n",
        "\n",
        "model = keras.Sequential()\n",
        "\n",
        "# Define the first dense layer\n",
        "model.add(Dense(16, activation='sigmoid', input_shape=(28*28,)))\n",
        "\n",
        "# Apply dropout to the first layer's output\n",
        "model.add(Dropout(0.25))\n",
        "\n",
        "# Define the output layer\n",
        "model.add(Dense(4, activation='softmax'))\n",
        "\n",
        "# Compile the model\n",
        "model.compile('adam', loss='categorical_crossentropy')\n",
        "\n",
        "model.summary()"
      ],
      "execution_count": 6,
      "outputs": [
        {
          "output_type": "stream",
          "name": "stdout",
          "text": [
            "Model: \"sequential_4\"\n",
            "_________________________________________________________________\n",
            "Layer (type)                 Output Shape              Param #   \n",
            "=================================================================\n",
            "dense_11 (Dense)             (None, 16)                12560     \n",
            "_________________________________________________________________\n",
            "dropout (Dropout)            (None, 16)                0         \n",
            "_________________________________________________________________\n",
            "dense_12 (Dense)             (None, 4)                 68        \n",
            "=================================================================\n",
            "Total params: 12,628\n",
            "Trainable params: 12,628\n",
            "Non-trainable params: 0\n",
            "_________________________________________________________________\n"
          ]
        }
      ]
    },
    {
      "cell_type": "code",
      "metadata": {
        "colab": {
          "base_uri": "https://localhost:8080/"
        },
        "id": "_N6kk-7tqIP2",
        "outputId": "bffa0833-4d96-48f1-a719-b7cb8df200fd"
      },
      "source": [
        "# Defining a multiple input model\n",
        "\n",
        "from tensorflow import keras\n",
        "\n",
        "# Define inputs for model 1\n",
        "m1_inputs = keras.Input(shape=(28*28,))\n",
        "# Define inputs for model 2\n",
        "m2_inputs = keras.Input(shape=(28*28,))\n",
        "\n",
        "# For model 1, pass the input layer to layer 1 and layer 1 to layer 2\n",
        "m1_layer1 = keras.layers.Dense(12, activation='sigmoid')(m1_inputs)\n",
        "m1_layer2 = keras.layers.Dense(4, activation='softmax')(m1_layer1)\n",
        "\n",
        "# For model 2, pass the input layer to layer 1 and layer 1 to layer 2\n",
        "m2_layer1 = keras.layers.Dense(12, activation='relu')(m2_inputs)\n",
        "m2_layer2 = keras.layers.Dense(4, activation='softmax')(m2_layer1)\n",
        "\n",
        "# Merge model outputs and define a functional model\n",
        "merged = keras.layers.add([m1_layer2, m2_layer2])\n",
        "model = keras.Model(inputs=[m1_inputs, m2_inputs], outputs=merged)\n",
        "\n",
        "model.summary()"
      ],
      "execution_count": 8,
      "outputs": [
        {
          "output_type": "stream",
          "name": "stdout",
          "text": [
            "Model: \"model_2\"\n",
            "__________________________________________________________________________________________________\n",
            "Layer (type)                    Output Shape         Param #     Connected to                     \n",
            "==================================================================================================\n",
            "input_5 (InputLayer)            [(None, 784)]        0                                            \n",
            "__________________________________________________________________________________________________\n",
            "input_6 (InputLayer)            [(None, 784)]        0                                            \n",
            "__________________________________________________________________________________________________\n",
            "dense_17 (Dense)                (None, 12)           9420        input_5[0][0]                    \n",
            "__________________________________________________________________________________________________\n",
            "dense_19 (Dense)                (None, 12)           9420        input_6[0][0]                    \n",
            "__________________________________________________________________________________________________\n",
            "dense_18 (Dense)                (None, 4)            52          dense_17[0][0]                   \n",
            "__________________________________________________________________________________________________\n",
            "dense_20 (Dense)                (None, 4)            52          dense_19[0][0]                   \n",
            "__________________________________________________________________________________________________\n",
            "add_2 (Add)                     (None, 4)            0           dense_18[0][0]                   \n",
            "                                                                 dense_20[0][0]                   \n",
            "==================================================================================================\n",
            "Total params: 18,944\n",
            "Trainable params: 18,944\n",
            "Non-trainable params: 0\n",
            "__________________________________________________________________________________________________\n"
          ]
        }
      ]
    }
  ]
}
{
 "cells": [
  {
   "cell_type": "code",
   "execution_count": 1,
   "id": "976189ae-8791-43d9-8822-ca916f3f8650",
   "metadata": {},
   "outputs": [
    {
     "name": "stderr",
     "output_type": "stream",
     "text": [
      "2021-11-15 11:11:52.117876: W tensorflow/stream_executor/platform/default/dso_loader.cc:64] Could not load dynamic library 'libcudart.so.11.0'; dlerror: libcudart.so.11.0: cannot open shared object file: No such file or directory\n",
      "2021-11-15 11:11:52.117921: I tensorflow/stream_executor/cuda/cudart_stub.cc:29] Ignore above cudart dlerror if you do not have a GPU set up on your machine.\n"
     ]
    }
   ],
   "source": [
    "import numpy as np\n",
    "import tensorflow as tf"
   ]
  },
  {
   "cell_type": "code",
   "execution_count": 2,
   "id": "a24af5d1-295e-4308-9fd7-578bde11ff5f",
   "metadata": {},
   "outputs": [
    {
     "name": "stdout",
     "output_type": "stream",
     "text": [
      "Model: \"sequential\"\n",
      "_________________________________________________________________\n",
      "Layer (type)                 Output Shape              Param #   \n",
      "=================================================================\n",
      "dense (Dense)                (None, 2)                 8         \n",
      "_________________________________________________________________\n",
      "dense_1 (Dense)              (None, 1)                 3         \n",
      "=================================================================\n",
      "Total params: 11\n",
      "Trainable params: 11\n",
      "Non-trainable params: 0\n",
      "_________________________________________________________________\n"
     ]
    },
    {
     "name": "stderr",
     "output_type": "stream",
     "text": [
      "2021-11-15 11:11:53.571376: W tensorflow/stream_executor/platform/default/dso_loader.cc:64] Could not load dynamic library 'libcuda.so.1'; dlerror: libcuda.so.1: cannot open shared object file: No such file or directory\n",
      "2021-11-15 11:11:53.571423: W tensorflow/stream_executor/cuda/cuda_driver.cc:269] failed call to cuInit: UNKNOWN ERROR (303)\n",
      "2021-11-15 11:11:53.571454: I tensorflow/stream_executor/cuda/cuda_diagnostics.cc:156] kernel driver does not appear to be running on this host (DESKTOP-FC4EGDV): /proc/driver/nvidia/version does not exist\n",
      "2021-11-15 11:11:53.571629: I tensorflow/core/platform/cpu_feature_guard.cc:142] This TensorFlow binary is optimized with oneAPI Deep Neural Network Library (oneDNN) to use the following CPU instructions in performance-critical operations:  AVX2 FMA\n",
      "To enable them in other operations, rebuild TensorFlow with the appropriate compiler flags.\n"
     ]
    }
   ],
   "source": [
    "# First neural network\n",
    "from tensorflow.keras.models import Sequential\n",
    "from tensorflow.keras.layers import Dense\n",
    "\n",
    "model = Sequential([\n",
    "  Dense(2, activation='relu', input_shape=(3,)),\n",
    "  Dense(1)\n",
    "])\n",
    "\n",
    "model.summary()"
   ]
  },
  {
   "cell_type": "code",
   "execution_count": 3,
   "id": "ead1c249-2fc7-4cb4-8c52-4b995f46b35b",
   "metadata": {},
   "outputs": [
    {
     "name": "stdout",
     "output_type": "stream",
     "text": [
      "Model: \"sequential_1\"\n",
      "_________________________________________________________________\n",
      "Layer (type)                 Output Shape              Param #   \n",
      "=================================================================\n",
      "dense_2 (Dense)              (None, 10)                30        \n",
      "_________________________________________________________________\n",
      "dense_3 (Dense)              (None, 1)                 11        \n",
      "=================================================================\n",
      "Total params: 41\n",
      "Trainable params: 41\n",
      "Non-trainable params: 0\n",
      "_________________________________________________________________\n"
     ]
    }
   ],
   "source": [
    "from tensorflow.keras.models import Sequential\n",
    "from tensorflow.keras.layers import Dense\n",
    "\n",
    "model = Sequential([\n",
    "  Dense(10, activation='relu', input_shape=(2,)),\n",
    "  Dense(1)\n",
    "])\n",
    "\n",
    "model.summary()"
   ]
  },
  {
   "cell_type": "code",
   "execution_count": 4,
   "id": "2b7e7e81-30d2-4f30-ba00-bdb8fb082d68",
   "metadata": {},
   "outputs": [
    {
     "name": "stdout",
     "output_type": "stream",
     "text": [
      "Model: \"sequential_2\"\n",
      "_________________________________________________________________\n",
      "Layer (type)                 Output Shape              Param #   \n",
      "=================================================================\n",
      "dense_4 (Dense)              (None, 5)                 20        \n",
      "_________________________________________________________________\n",
      "dense_5 (Dense)              (None, 1)                 6         \n",
      "=================================================================\n",
      "Total params: 26\n",
      "Trainable params: 26\n",
      "Non-trainable params: 0\n",
      "_________________________________________________________________\n"
     ]
    }
   ],
   "source": [
    "# Counting parameters\n",
    "\n",
    "model = Sequential([\n",
    "  Dense(5, activation='relu', input_shape=(3,)),\n",
    "  Dense(1)\n",
    "])\n",
    "\n",
    "model.summary()"
   ]
  },
  {
   "cell_type": "code",
   "execution_count": null,
   "id": "c41e1f06-efe7-4e3b-beca-4b76d90e811e",
   "metadata": {},
   "outputs": [],
   "source": [
    "from tensorflow.keras.models import Sequential\n",
    "from tensorflow.keras.layers import Dense\n",
    "\n",
    "model = Sequential([\n",
    "  Dense(2, activation='relu', input_shape=(3,)),\n",
    "  Dense(1)\n",
    "])\n",
    "\n",
    "model.compile(optimizer='adam', loss='mse')"
   ]
  },
  {
   "cell_type": "code",
   "execution_count": 10,
   "id": "f36ff2ed-6aa0-45d6-b75f-4e3b8646cb91",
   "metadata": {},
   "outputs": [
    {
     "name": "stdout",
     "output_type": "stream",
     "text": [
      "Epoch 1/30\n",
      "63/63 [==============================] - 0s 1ms/step - loss: 1698.9850\n",
      "Epoch 2/30\n",
      "63/63 [==============================] - 0s 1ms/step - loss: 361.3337\n",
      "Epoch 3/30\n",
      "63/63 [==============================] - 0s 1ms/step - loss: 141.5338\n",
      "Epoch 4/30\n",
      "63/63 [==============================] - 0s 1ms/step - loss: 124.0830\n",
      "Epoch 5/30\n",
      "63/63 [==============================] - 0s 1ms/step - loss: 102.0551\n",
      "Epoch 6/30\n",
      "63/63 [==============================] - 0s 1ms/step - loss: 75.6365\n",
      "Epoch 7/30\n",
      "63/63 [==============================] - 0s 1ms/step - loss: 48.4466\n",
      "Epoch 8/30\n",
      "63/63 [==============================] - 0s 1ms/step - loss: 27.5518\n",
      "Epoch 9/30\n",
      "63/63 [==============================] - 0s 1ms/step - loss: 15.0535\n",
      "Epoch 10/30\n",
      "63/63 [==============================] - 0s 1ms/step - loss: 8.3341\n",
      "Epoch 11/30\n",
      "63/63 [==============================] - 0s 1ms/step - loss: 5.2826\n",
      "Epoch 12/30\n",
      "63/63 [==============================] - 0s 1ms/step - loss: 3.1469\n",
      "Epoch 13/30\n",
      "63/63 [==============================] - 0s 1ms/step - loss: 2.2255\n",
      "Epoch 14/30\n",
      "63/63 [==============================] - 0s 1ms/step - loss: 1.7624\n",
      "Epoch 15/30\n",
      "63/63 [==============================] - 0s 1ms/step - loss: 1.1408\n",
      "Epoch 16/30\n",
      "63/63 [==============================] - 0s 1ms/step - loss: 1.0175\n",
      "Epoch 17/30\n",
      "63/63 [==============================] - 0s 1ms/step - loss: 0.8423\n",
      "Epoch 18/30\n",
      "63/63 [==============================] - 0s 1ms/step - loss: 0.5771\n",
      "Epoch 19/30\n",
      "63/63 [==============================] - 0s 2ms/step - loss: 0.4235\n",
      "Epoch 20/30\n",
      "63/63 [==============================] - 0s 1ms/step - loss: 0.4006\n",
      "Epoch 21/30\n",
      "63/63 [==============================] - 0s 1ms/step - loss: 0.3807\n",
      "Epoch 22/30\n",
      "63/63 [==============================] - 0s 1ms/step - loss: 0.2766\n",
      "Epoch 23/30\n",
      "63/63 [==============================] - 0s 1ms/step - loss: 0.2722\n",
      "Epoch 24/30\n",
      "63/63 [==============================] - 0s 1ms/step - loss: 0.2262\n",
      "Epoch 25/30\n",
      "63/63 [==============================] - 0s 1ms/step - loss: 0.1475\n",
      "Epoch 26/30\n",
      "63/63 [==============================] - 0s 1ms/step - loss: 0.1310\n",
      "Epoch 27/30\n",
      "63/63 [==============================] - 0s 2ms/step - loss: 0.1835\n",
      "Epoch 28/30\n",
      "63/63 [==============================] - 0s 1ms/step - loss: 0.1328\n",
      "Epoch 29/30\n",
      "63/63 [==============================] - 0s 1ms/step - loss: 0.0964\n",
      "Epoch 30/30\n",
      "63/63 [==============================] - 0s 1ms/step - loss: 0.1491\n",
      "63/63 [==============================] - 0s 1ms/step - loss: 219322.7188\n"
     ]
    },
    {
     "data": {
      "text/plain": [
       "219322.71875"
      ]
     },
     "execution_count": 10,
     "metadata": {},
     "output_type": "execute_result"
    }
   ],
   "source": [
    "# Movement data\n",
    "time_steps = np.linspace(-10, 10, 2000)\n",
    "y_positions = time_steps**2\n",
    "\n",
    "# Regression model\n",
    "model = Sequential([\n",
    "  Dense(50, activation='relu', input_shape=(1,)),\n",
    "  Dense(50, activation='relu'),\n",
    "  Dense(50, activation='relu'),\n",
    "  Dense(1)\n",
    "])\n",
    "\n",
    "model.compile(optimizer='adam', loss='mse')\n",
    "\n",
    "model.fit(time_steps, y_positions, epochs=30)\n",
    "\n",
    "new_time_steps = np.linspace(-40, 40, 2000)\n",
    "new_y_positions = new_time_steps**2\n",
    "model.evaluate(new_time_steps, new_y_positions)"
   ]
  }
 ],
 "metadata": {
  "kernelspec": {
   "display_name": "Python 3 (ipykernel)",
   "language": "python",
   "name": "python3"
  },
  "language_info": {
   "codemirror_mode": {
    "name": "ipython",
    "version": 3
   },
   "file_extension": ".py",
   "mimetype": "text/x-python",
   "name": "python",
   "nbconvert_exporter": "python",
   "pygments_lexer": "ipython3",
   "version": "3.8.10"
  }
 },
 "nbformat": 4,
 "nbformat_minor": 5
}

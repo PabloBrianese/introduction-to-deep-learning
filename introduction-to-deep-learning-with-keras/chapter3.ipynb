{
 "cells": [
  {
   "cell_type": "code",
   "execution_count": 1,
   "id": "752b3c3c-8b0c-48c5-ad80-242d37dba3ea",
   "metadata": {},
   "outputs": [
    {
     "name": "stderr",
     "output_type": "stream",
     "text": [
      "2021-11-17 11:22:46.624488: W tensorflow/stream_executor/platform/default/dso_loader.cc:64] Could not load dynamic library 'libcudart.so.11.0'; dlerror: libcudart.so.11.0: cannot open shared object file: No such file or directory\n",
      "2021-11-17 11:22:46.624588: I tensorflow/stream_executor/cuda/cudart_stub.cc:29] Ignore above cudart dlerror if you do not have a GPU set up on your machine.\n"
     ]
    }
   ],
   "source": [
    "import numpy as np\n",
    "import pandas as pd\n",
    "import tensorflow as tf\n",
    "from matplotlib import pyplot as plt"
   ]
  },
  {
   "cell_type": "code",
   "execution_count": 2,
   "id": "6b8f53e7-a3a1-4f44-a875-3cdee0d5a4bf",
   "metadata": {},
   "outputs": [],
   "source": [
    "from tensorflow.keras.utils import to_categorical\n",
    "\n",
    "pixels = np.load('digits_pixels.npy')\n",
    "n_cols = pixels.shape[1]\n",
    "input_shape = (n_cols,)\n",
    "numbers = to_categorical(np.load('digits_target.npy'))\n",
    "\n",
    "from sklearn.model_selection import train_test_split\n",
    "\n",
    "pixels_train, pixels_test, numbers_train, numbers_test = \\\n",
    "  train_test_split(pixels, numbers, test_size=0.3)"
   ]
  },
  {
   "cell_type": "code",
   "execution_count": 3,
   "id": "ca4a478e-8000-4e4a-96b8-8afa26f20efc",
   "metadata": {},
   "outputs": [
    {
     "name": "stderr",
     "output_type": "stream",
     "text": [
      "2021-11-17 11:22:51.212970: W tensorflow/stream_executor/platform/default/dso_loader.cc:64] Could not load dynamic library 'libcuda.so.1'; dlerror: libcuda.so.1: cannot open shared object file: No such file or directory\n",
      "2021-11-17 11:22:51.213059: W tensorflow/stream_executor/cuda/cuda_driver.cc:269] failed call to cuInit: UNKNOWN ERROR (303)\n",
      "2021-11-17 11:22:51.213094: I tensorflow/stream_executor/cuda/cuda_diagnostics.cc:156] kernel driver does not appear to be running on this host (DESKTOP-FC4EGDV): /proc/driver/nvidia/version does not exist\n",
      "2021-11-17 11:22:51.213500: I tensorflow/core/platform/cpu_feature_guard.cc:142] This TensorFlow binary is optimized with oneAPI Deep Neural Network Library (oneDNN) to use the following CPU instructions in performance-critical operations:  AVX2 FMA\n",
      "To enable them in other operations, rebuild TensorFlow with the appropriate compiler flags.\n"
     ]
    }
   ],
   "source": [
    "from tensorflow.keras.models import Sequential\n",
    "from tensorflow.keras.layers import Dense\n",
    "\n",
    "model = Sequential([\n",
    "  Dense(16, activation='relu', input_shape=input_shape),\n",
    "  Dense(10, activation='softmax')\n",
    "])\n",
    "model.compile(optimizer='adam', loss='categorical_crossentropy', metrics=['accuracy'])"
   ]
  },
  {
   "cell_type": "code",
   "execution_count": 4,
   "id": "0211dbc7-34c7-4408-a9c5-4ecaf5265f26",
   "metadata": {},
   "outputs": [
    {
     "name": "stderr",
     "output_type": "stream",
     "text": [
      "2021-11-17 11:22:51.385152: I tensorflow/compiler/mlir/mlir_graph_optimization_pass.cc:185] None of the MLIR Optimization Passes are enabled (registered 2)\n"
     ]
    },
    {
     "data": {
      "text/plain": [
       "array([[1.9380886e-05, 1.1095664e-06, 8.6964585e-04, ..., 9.8799324e-01,\n",
       "        4.7014223e-04, 1.2923523e-07],\n",
       "       [1.4940484e-06, 5.6697603e-04, 9.4086504e-01, ..., 4.8837021e-02,\n",
       "        9.6244877e-03, 2.9304151e-06],\n",
       "       [6.1206200e-09, 7.2778476e-04, 2.6200499e-04, ..., 9.9812645e-01,\n",
       "        4.3960758e-06, 6.6552245e-12],\n",
       "       ...,\n",
       "       [1.8190215e-12, 2.3862810e-03, 6.3687094e-07, ..., 9.9759585e-01,\n",
       "        5.2217041e-07, 6.9322464e-15],\n",
       "       [3.2014441e-04, 8.3502069e-05, 4.0038818e-04, ..., 9.7678024e-01,\n",
       "        9.7838645e-05, 2.1698037e-07],\n",
       "       [4.7526418e-09, 7.6527834e-07, 3.2113942e-07, ..., 9.9978334e-01,\n",
       "        4.6287691e-06, 2.4943556e-12]], dtype=float32)"
      ]
     },
     "execution_count": 4,
     "metadata": {},
     "output_type": "execute_result"
    }
   ],
   "source": [
    "# Check to see if the untrained model works as expected\n",
    "model.predict(pixels_train)"
   ]
  },
  {
   "cell_type": "code",
   "execution_count": 5,
   "id": "304c4615-c371-49cd-9592-d4a871117ddc",
   "metadata": {},
   "outputs": [],
   "source": [
    "# Plot the training history\n",
    "history = model.fit(pixels_train, numbers_train, epochs=60, validation_data=(pixels_test, numbers_test), verbose=False)\n",
    "\n",
    "plt.plot(history.history['loss'], color='black', label='Training loss')\n",
    "plt.plot(history.history['val_loss'], color='red', label='Validation loss')\n",
    "plt.title('Loss')\n",
    "plt.xlabel('Epoch')\n",
    "plt.ylabel('categorical_crossentropy')\n",
    "plt.yscale('log')\n",
    "plt.legend()\n",
    "plt.show()"
   ]
  },
  {
   "cell_type": "code",
   "execution_count": 15,
   "id": "6eb1a789-9622-4ec1-a352-a34787641fbb",
   "metadata": {},
   "outputs": [],
   "source": [
    "# What is the effect of adding more training data?\n",
    "# Create an untrained model to use for experimentation\n",
    "\n",
    "# Untrained model\n",
    "from tensorflow.keras.models import Sequential\n",
    "from tensorflow.keras.layers import Dense\n",
    "\n",
    "model = Sequential([\n",
    "  Dense(16, activation='relu', input_shape=input_shape),\n",
    "  Dense(10, activation='softmax')\n",
    "])\n",
    "model.compile(optimizer='adam', loss='categorical_crossentropy', metrics=['accuracy'])\n",
    "\n",
    "# Save initial weights to allow for experimentation\n",
    "initial_weights = model.get_weights()"
   ]
  },
  {
   "cell_type": "code",
   "execution_count": 19,
   "id": "b5826aa7-bee3-4484-bb02-acff5558b3cd",
   "metadata": {},
   "outputs": [
    {
     "name": "stdout",
     "output_type": "stream",
     "text": [
      "4/4 [==============================] - 0s 5ms/step - loss: 0.2614 - accuracy: 0.9360\n",
      "17/17 [==============================] - 0s 4ms/step - loss: 1.0829 - accuracy: 0.7204\n",
      "16/16 [==============================] - 0s 2ms/step - loss: 0.0908 - accuracy: 0.9841\n",
      "17/17 [==============================] - 0s 3ms/step - loss: 0.2600 - accuracy: 0.9241\n",
      "28/28 [==============================] - 0s 2ms/step - loss: 0.0857 - accuracy: 0.9807\n",
      "17/17 [==============================] - 0s 3ms/step - loss: 0.1535 - accuracy: 0.9537\n",
      "40/40 [==============================] - 0s 4ms/step - loss: 0.0587 - accuracy: 0.9873\n",
      "17/17 [==============================] - 0s 4ms/step - loss: 0.1636 - accuracy: 0.9556\n"
     ]
    }
   ],
   "source": [
    "from tensorflow.keras.callbacks import EarlyStopping\n",
    "\n",
    "early_stop = EarlyStopping(monitor='loss', patience=1)\n",
    "\n",
    "# Experiment metrics\n",
    "train_accuracies = []\n",
    "test_accuracies = []\n",
    "\n",
    "# Define the number of training sizes\n",
    "# to use in each round of experimentation\n",
    "training_sizes = np.array([ 125,  502,  879, 1255])\n",
    "for training_size in training_sizes:\n",
    "  # Get a fraction of the training data\n",
    "  pixels_train_frac = pixels_train[:training_size]\n",
    "  numbers_train_frac = numbers_train[:training_size]\n",
    "  \n",
    "  # Reset the model to the initial weights\n",
    "  # And train it on the new data fraction\n",
    "  model.set_weights(initial_weights)\n",
    "  model.fit(pixels_train_frac, numbers_train_frac, epochs=50, callbacks=[early_stop], verbose=False)\n",
    "\n",
    "  # Record results\n",
    "  train_accuracy = model.evaluate(pixels_train_frac, numbers_train_frac)[1]\n",
    "  test_accuracy = model.evaluate(pixels_test, numbers_test)[1]\n",
    "  \n",
    "  train_accuracies.append(train_accuracy)\n",
    "  test_accuracies.append(test_accuracy)"
   ]
  },
  {
   "cell_type": "code",
   "execution_count": 25,
   "id": "8b37d1ff-4807-4621-a05e-2b1c81be233a",
   "metadata": {},
   "outputs": [
    {
     "data": {
      "image/png": "[encoded data removed]",
      "text/plain": [
       "<Figure size 432x288 with 1 Axes>"
      ]
     },
     "metadata": {
      "needs_background": "light"
     },
     "output_type": "display_data"
    }
   ],
   "source": [
    "plt.plot(train_accuracies, color='black', label='Training accuracy')\n",
    "plt.plot(test_accuracies, color='red', label='Validation accuracy')\n",
    "plt.xlabel('Dataset size')\n",
    "plt.ylabel('accuracy')\n",
    "plt.legend()\n",
    "plt.show()"
   ]
  }
 ],
 "metadata": {
  "kernelspec": {
   "display_name": "Python 3 (ipykernel)",
   "language": "python",
   "name": "python3"
  },
  "language_info": {
   "codemirror_mode": {
    "name": "ipython",
    "version": 3
   },
   "file_extension": ".py",
   "mimetype": "text/x-python",
   "name": "python",
   "nbconvert_exporter": "python",
   "pygments_lexer": "ipython3",
   "version": "3.8.10"
  }
 },
 "nbformat": 4,
 "nbformat_minor": 5
}
